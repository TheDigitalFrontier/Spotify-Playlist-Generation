{
 "cells": [
  {
   "cell_type": "code",
   "execution_count": 1,
   "metadata": {},
   "outputs": [],
   "source": [
    "import numpy as np\n",
    "import pandas as pd\n",
    "\n",
    "import matplotlib.pyplot as plt\n",
    "import seaborn as sns\n",
    "\n",
    "from os import listdir\n",
    "from os.path import isfile, join\n",
    "\n",
    "import time\n",
    "\n",
    "sns.set()"
   ]
  },
  {
   "cell_type": "code",
   "execution_count": 2,
   "metadata": {},
   "outputs": [],
   "source": [
    "# Load master song table with added metadata\n",
    "master = pd.read_pickle('../data/master200.pkl')"
   ]
  },
  {
   "cell_type": "code",
   "execution_count": 3,
   "metadata": {
    "scrolled": false
   },
   "outputs": [
    {
     "name": "stdout",
     "output_type": "stream",
     "text": [
      "(999950, 25)\n"
     ]
    },
    {
     "data": {
      "text/html": [
       "<div>\n",
       "<style scoped>\n",
       "    .dataframe tbody tr th:only-of-type {\n",
       "        vertical-align: middle;\n",
       "    }\n",
       "\n",
       "    .dataframe tbody tr th {\n",
       "        vertical-align: top;\n",
       "    }\n",
       "\n",
       "    .dataframe thead th {\n",
       "        text-align: right;\n",
       "    }\n",
       "</style>\n",
       "<table border=\"1\" class=\"dataframe\">\n",
       "  <thead>\n",
       "    <tr style=\"text-align: right;\">\n",
       "      <th></th>\n",
       "      <th>artist_name</th>\n",
       "      <th>artist_uri</th>\n",
       "      <th>track_name</th>\n",
       "      <th>album_uri</th>\n",
       "      <th>duration_ms</th>\n",
       "      <th>album_name</th>\n",
       "      <th>count</th>\n",
       "      <th>track_uri</th>\n",
       "      <th>danceability</th>\n",
       "      <th>energy</th>\n",
       "      <th>...</th>\n",
       "      <th>instrumentalness</th>\n",
       "      <th>liveness</th>\n",
       "      <th>valence</th>\n",
       "      <th>tempo</th>\n",
       "      <th>time_signature</th>\n",
       "      <th>artist_genres</th>\n",
       "      <th>artist_popularity</th>\n",
       "      <th>album_genres</th>\n",
       "      <th>album_popularity</th>\n",
       "      <th>album_release_date</th>\n",
       "    </tr>\n",
       "    <tr>\n",
       "      <th>song_id</th>\n",
       "      <th></th>\n",
       "      <th></th>\n",
       "      <th></th>\n",
       "      <th></th>\n",
       "      <th></th>\n",
       "      <th></th>\n",
       "      <th></th>\n",
       "      <th></th>\n",
       "      <th></th>\n",
       "      <th></th>\n",
       "      <th></th>\n",
       "      <th></th>\n",
       "      <th></th>\n",
       "      <th></th>\n",
       "      <th></th>\n",
       "      <th></th>\n",
       "      <th></th>\n",
       "      <th></th>\n",
       "      <th></th>\n",
       "      <th></th>\n",
       "      <th></th>\n",
       "    </tr>\n",
       "  </thead>\n",
       "  <tbody>\n",
       "    <tr>\n",
       "      <td>0</td>\n",
       "      <td>Sidney Bechet's Blue Note Jazzmen</td>\n",
       "      <td>spotify:artist:2XouUSO0EAJ9gMMoHiXqMt</td>\n",
       "      <td>Muskrat Ramble</td>\n",
       "      <td>spotify:album:04hQBJ7YSuNnZ0nbuXNYbY</td>\n",
       "      <td>220293</td>\n",
       "      <td>Jazz Classics</td>\n",
       "      <td>1</td>\n",
       "      <td>spotify:track:0002yNGLtYSYtc0X6ZnFvp</td>\n",
       "      <td>0.455</td>\n",
       "      <td>0.623</td>\n",
       "      <td>...</td>\n",
       "      <td>0.903</td>\n",
       "      <td>0.6340</td>\n",
       "      <td>0.951</td>\n",
       "      <td>182.345</td>\n",
       "      <td>4</td>\n",
       "      <td>[]</td>\n",
       "      <td>18</td>\n",
       "      <td>[]</td>\n",
       "      <td>37</td>\n",
       "      <td>1993-01-01</td>\n",
       "    </tr>\n",
       "    <tr>\n",
       "      <td>159583</td>\n",
       "      <td>Sidney Bechet</td>\n",
       "      <td>spotify:artist:1RsmXc1ZqW3WBs9iwxiSwk</td>\n",
       "      <td>Blue Horizon</td>\n",
       "      <td>spotify:album:04hQBJ7YSuNnZ0nbuXNYbY</td>\n",
       "      <td>264933</td>\n",
       "      <td>Jazz Classics</td>\n",
       "      <td>5</td>\n",
       "      <td>spotify:track:1EWPMNHfdVNJwBpG9BcxXB</td>\n",
       "      <td>0.327</td>\n",
       "      <td>0.372</td>\n",
       "      <td>...</td>\n",
       "      <td>0.835</td>\n",
       "      <td>0.1530</td>\n",
       "      <td>0.380</td>\n",
       "      <td>66.036</td>\n",
       "      <td>4</td>\n",
       "      <td>['bebop', 'big band', 'cool jazz', 'dixieland'...</td>\n",
       "      <td>52</td>\n",
       "      <td>[]</td>\n",
       "      <td>37</td>\n",
       "      <td>1993-01-01</td>\n",
       "    </tr>\n",
       "    <tr>\n",
       "      <td>271702</td>\n",
       "      <td>Sidney Bechet</td>\n",
       "      <td>spotify:artist:1RsmXc1ZqW3WBs9iwxiSwk</td>\n",
       "      <td>Blame It On The Blues - Alternate Take</td>\n",
       "      <td>spotify:album:04hQBJ7YSuNnZ0nbuXNYbY</td>\n",
       "      <td>175893</td>\n",
       "      <td>Jazz Classics</td>\n",
       "      <td>1</td>\n",
       "      <td>spotify:track:26N4Y48EjprAtvlY6yWZTA</td>\n",
       "      <td>0.574</td>\n",
       "      <td>0.606</td>\n",
       "      <td>...</td>\n",
       "      <td>0.948</td>\n",
       "      <td>0.3490</td>\n",
       "      <td>0.965</td>\n",
       "      <td>101.361</td>\n",
       "      <td>4</td>\n",
       "      <td>['bebop', 'big band', 'cool jazz', 'dixieland'...</td>\n",
       "      <td>52</td>\n",
       "      <td>[]</td>\n",
       "      <td>37</td>\n",
       "      <td>1993-01-01</td>\n",
       "    </tr>\n",
       "    <tr>\n",
       "      <td>445190</td>\n",
       "      <td>Sidney Bechet</td>\n",
       "      <td>spotify:artist:1RsmXc1ZqW3WBs9iwxiSwk</td>\n",
       "      <td>Summertime</td>\n",
       "      <td>spotify:album:04hQBJ7YSuNnZ0nbuXNYbY</td>\n",
       "      <td>251906</td>\n",
       "      <td>Jazz Classics</td>\n",
       "      <td>16</td>\n",
       "      <td>spotify:track:3RlJx8xwZEyToSuGrygilr</td>\n",
       "      <td>0.608</td>\n",
       "      <td>0.138</td>\n",
       "      <td>...</td>\n",
       "      <td>0.908</td>\n",
       "      <td>0.0853</td>\n",
       "      <td>0.318</td>\n",
       "      <td>83.124</td>\n",
       "      <td>4</td>\n",
       "      <td>['bebop', 'big band', 'cool jazz', 'dixieland'...</td>\n",
       "      <td>52</td>\n",
       "      <td>[]</td>\n",
       "      <td>37</td>\n",
       "      <td>1993-01-01</td>\n",
       "    </tr>\n",
       "    <tr>\n",
       "      <td>626275</td>\n",
       "      <td>Sidney Bechet</td>\n",
       "      <td>spotify:artist:1RsmXc1ZqW3WBs9iwxiSwk</td>\n",
       "      <td>Dear Old Southland</td>\n",
       "      <td>spotify:album:04hQBJ7YSuNnZ0nbuXNYbY</td>\n",
       "      <td>243693</td>\n",
       "      <td>Jazz Classics</td>\n",
       "      <td>1</td>\n",
       "      <td>spotify:track:4qwAa1rOm8iaegHzoM1b31</td>\n",
       "      <td>0.400</td>\n",
       "      <td>0.320</td>\n",
       "      <td>...</td>\n",
       "      <td>0.842</td>\n",
       "      <td>0.1950</td>\n",
       "      <td>0.613</td>\n",
       "      <td>86.186</td>\n",
       "      <td>4</td>\n",
       "      <td>['bebop', 'big band', 'cool jazz', 'dixieland'...</td>\n",
       "      <td>52</td>\n",
       "      <td>[]</td>\n",
       "      <td>37</td>\n",
       "      <td>1993-01-01</td>\n",
       "    </tr>\n",
       "  </tbody>\n",
       "</table>\n",
       "<p>5 rows × 25 columns</p>\n",
       "</div>"
      ],
      "text/plain": [
       "                               artist_name  \\\n",
       "song_id                                      \n",
       "0        Sidney Bechet's Blue Note Jazzmen   \n",
       "159583                       Sidney Bechet   \n",
       "271702                       Sidney Bechet   \n",
       "445190                       Sidney Bechet   \n",
       "626275                       Sidney Bechet   \n",
       "\n",
       "                                    artist_uri  \\\n",
       "song_id                                          \n",
       "0        spotify:artist:2XouUSO0EAJ9gMMoHiXqMt   \n",
       "159583   spotify:artist:1RsmXc1ZqW3WBs9iwxiSwk   \n",
       "271702   spotify:artist:1RsmXc1ZqW3WBs9iwxiSwk   \n",
       "445190   spotify:artist:1RsmXc1ZqW3WBs9iwxiSwk   \n",
       "626275   spotify:artist:1RsmXc1ZqW3WBs9iwxiSwk   \n",
       "\n",
       "                                     track_name  \\\n",
       "song_id                                           \n",
       "0                                Muskrat Ramble   \n",
       "159583                             Blue Horizon   \n",
       "271702   Blame It On The Blues - Alternate Take   \n",
       "445190                               Summertime   \n",
       "626275                       Dear Old Southland   \n",
       "\n",
       "                                    album_uri  duration_ms     album_name  \\\n",
       "song_id                                                                     \n",
       "0        spotify:album:04hQBJ7YSuNnZ0nbuXNYbY       220293  Jazz Classics   \n",
       "159583   spotify:album:04hQBJ7YSuNnZ0nbuXNYbY       264933  Jazz Classics   \n",
       "271702   spotify:album:04hQBJ7YSuNnZ0nbuXNYbY       175893  Jazz Classics   \n",
       "445190   spotify:album:04hQBJ7YSuNnZ0nbuXNYbY       251906  Jazz Classics   \n",
       "626275   spotify:album:04hQBJ7YSuNnZ0nbuXNYbY       243693  Jazz Classics   \n",
       "\n",
       "         count                             track_uri  danceability  energy  \\\n",
       "song_id                                                                      \n",
       "0            1  spotify:track:0002yNGLtYSYtc0X6ZnFvp         0.455   0.623   \n",
       "159583       5  spotify:track:1EWPMNHfdVNJwBpG9BcxXB         0.327   0.372   \n",
       "271702       1  spotify:track:26N4Y48EjprAtvlY6yWZTA         0.574   0.606   \n",
       "445190      16  spotify:track:3RlJx8xwZEyToSuGrygilr         0.608   0.138   \n",
       "626275       1  spotify:track:4qwAa1rOm8iaegHzoM1b31         0.400   0.320   \n",
       "\n",
       "         ...  instrumentalness  liveness  valence    tempo  time_signature  \\\n",
       "song_id  ...                                                                 \n",
       "0        ...             0.903    0.6340    0.951  182.345               4   \n",
       "159583   ...             0.835    0.1530    0.380   66.036               4   \n",
       "271702   ...             0.948    0.3490    0.965  101.361               4   \n",
       "445190   ...             0.908    0.0853    0.318   83.124               4   \n",
       "626275   ...             0.842    0.1950    0.613   86.186               4   \n",
       "\n",
       "                                             artist_genres  artist_popularity  \\\n",
       "song_id                                                                         \n",
       "0                                                       []                 18   \n",
       "159583   ['bebop', 'big band', 'cool jazz', 'dixieland'...                 52   \n",
       "271702   ['bebop', 'big band', 'cool jazz', 'dixieland'...                 52   \n",
       "445190   ['bebop', 'big band', 'cool jazz', 'dixieland'...                 52   \n",
       "626275   ['bebop', 'big band', 'cool jazz', 'dixieland'...                 52   \n",
       "\n",
       "         album_genres  album_popularity  album_release_date  \n",
       "song_id                                                      \n",
       "0                  []                37          1993-01-01  \n",
       "159583             []                37          1993-01-01  \n",
       "271702             []                37          1993-01-01  \n",
       "445190             []                37          1993-01-01  \n",
       "626275             []                37          1993-01-01  \n",
       "\n",
       "[5 rows x 25 columns]"
      ]
     },
     "metadata": {},
     "output_type": "display_data"
    }
   ],
   "source": [
    "print(master.shape)\n",
    "display(master.head())"
   ]
  },
  {
   "cell_type": "markdown",
   "metadata": {},
   "source": [
    "Convert `album_release_year` to a continuous number of the release year. The day of month or month itself of the release date is likely much less important. Should ideally treat as categorical, but this would give a *lot* of levels and not unreasonble to treat year as ordinal. "
   ]
  },
  {
   "cell_type": "code",
   "execution_count": 4,
   "metadata": {},
   "outputs": [],
   "source": [
    "master['album_release_year'] = [reldate[0:4] for reldate in master['album_release_date']]"
   ]
  },
  {
   "cell_type": "markdown",
   "metadata": {},
   "source": [
    "Several columns contain text (should be categorical):"
   ]
  },
  {
   "cell_type": "code",
   "execution_count": 5,
   "metadata": {},
   "outputs": [
    {
     "data": {
      "text/plain": [
       "artist_name            object\n",
       "artist_uri             object\n",
       "track_name             object\n",
       "album_uri              object\n",
       "duration_ms             int64\n",
       "album_name             object\n",
       "count                   int64\n",
       "track_uri              object\n",
       "danceability          float64\n",
       "energy                float64\n",
       "key                     int64\n",
       "loudness              float64\n",
       "mode                    int64\n",
       "speechiness           float64\n",
       "acousticness          float64\n",
       "instrumentalness      float64\n",
       "liveness              float64\n",
       "valence               float64\n",
       "tempo                 float64\n",
       "time_signature          int64\n",
       "artist_genres          object\n",
       "artist_popularity       int64\n",
       "album_genres           object\n",
       "album_popularity        int64\n",
       "album_release_date     object\n",
       "album_release_year     object\n",
       "dtype: object"
      ]
     },
     "execution_count": 5,
     "metadata": {},
     "output_type": "execute_result"
    }
   ],
   "source": [
    "master.dtypes"
   ]
  },
  {
   "cell_type": "markdown",
   "metadata": {},
   "source": [
    "Remove columns that we do not need:\n",
    "- `album_genres` is always empty. Seems like a field that used to exist, but no longer does.\n",
    "- `track_uri` is the url to the track. This is unique to each song and cannot be used to model. It is saved in the stored dataframe for reference if we need it later.\n",
    "- `album_uri` for the same reason.\n",
    "- `artist_uri` for the same reason.\n",
    "\n",
    "Until we can effecrtively one-hot encode as categoricals, any remaining predictors of type `object` can be dropped, so that we only have numeric features."
   ]
  },
  {
   "cell_type": "code",
   "execution_count": 6,
   "metadata": {},
   "outputs": [],
   "source": [
    "master.drop(labels = list(master.columns[np.where(master.dtypes == np.dtype('O'))]), \n",
    "            axis = 1, inplace = True)"
   ]
  },
  {
   "cell_type": "code",
   "execution_count": 7,
   "metadata": {},
   "outputs": [
    {
     "data": {
      "text/plain": [
       "duration_ms            int64\n",
       "count                  int64\n",
       "danceability         float64\n",
       "energy               float64\n",
       "key                    int64\n",
       "loudness             float64\n",
       "mode                   int64\n",
       "speechiness          float64\n",
       "acousticness         float64\n",
       "instrumentalness     float64\n",
       "liveness             float64\n",
       "valence              float64\n",
       "tempo                float64\n",
       "time_signature         int64\n",
       "artist_popularity      int64\n",
       "album_popularity       int64\n",
       "dtype: object"
      ]
     },
     "execution_count": 7,
     "metadata": {},
     "output_type": "execute_result"
    }
   ],
   "source": [
    "master.dtypes"
   ]
  },
  {
   "cell_type": "markdown",
   "metadata": {},
   "source": [
    "There are some missing values here (throws an error if we try to fit a model). Drop rows with NA, as the remaining rows are those we intend to use."
   ]
  },
  {
   "cell_type": "code",
   "execution_count": 17,
   "metadata": {},
   "outputs": [],
   "source": [
    "master.dropna(axis = 0, inplace = True)"
   ]
  },
  {
   "cell_type": "markdown",
   "metadata": {},
   "source": [
    "No point in running cross-validation here since we have unlabelled data. Hence, simple train test split not for the purpose of evaluating out-of-sample (since we have no labels), but so we can subjectively evaluate how our unsupervised methods and/or algorithms for playlist generation perform on unseen data (as unsupervised still does fit to the data it sees). Since we have a million songs and have to evaluate out-of-sample manually, a specific number of, say, $500$ songs held out is plenty."
   ]
  },
  {
   "cell_type": "code",
   "execution_count": 18,
   "metadata": {},
   "outputs": [
    {
     "name": "stdout",
     "output_type": "stream",
     "text": [
      "(999449, 16) 999449\n",
      "(500, 16) 500\n"
     ]
    }
   ],
   "source": [
    "test_size = 500\n",
    "\n",
    "#test_ind = np.random.choice(np.arange(int(0.05*len(master))), test_size, replace = False)\n",
    "test_songids = np.random.choice(master.index, test_size, replace = False)\n",
    "train_songids = list(set(master.index) - set(test_songids))\n",
    "\n",
    "# Verify that it works\n",
    "assert set(np.append(train_songids, test_songids)) == set(master.index)\n",
    "\n",
    "# Split up into train and test\n",
    "train_df = master.loc[train_songids, :]\n",
    "test_df = master.loc[test_songids, :]\n",
    "\n",
    "print(train_df.shape, len(train_songids))\n",
    "print(test_df.shape, len(test_songids))"
   ]
  },
  {
   "cell_type": "markdown",
   "metadata": {},
   "source": [
    "### Min-Max scaling\n",
    "Before we can pass the data through distance-based algorithm, we need to scale the data."
   ]
  },
  {
   "cell_type": "code",
   "execution_count": 19,
   "metadata": {},
   "outputs": [],
   "source": [
    "from sklearn.preprocessing import MinMaxScaler\n",
    "\n",
    "minmax = MinMaxScaler()\n",
    "\n",
    "train = minmax.fit_transform(np.array(train_df))\n",
    "test = minmax.transform(np.array(test_df))"
   ]
  },
  {
   "cell_type": "markdown",
   "metadata": {},
   "source": [
    "## K-Means Clustering\n",
    "The number of clusters here maps directly to the number of families of playlists we can generate. Every song will be predicted to belong to a cluster, and the rest of the playlist generated with songs from that cluster."
   ]
  },
  {
   "cell_type": "code",
   "execution_count": 25,
   "metadata": {
    "scrolled": true
   },
   "outputs": [
    {
     "data": {
      "text/plain": [
       "KMeans(algorithm='auto', copy_x=True, init='k-means++', max_iter=300,\n",
       "       n_clusters=10, n_init=10, n_jobs=None, precompute_distances='auto',\n",
       "       random_state=42, tol=0.0001, verbose=0)"
      ]
     },
     "execution_count": 25,
     "metadata": {},
     "output_type": "execute_result"
    }
   ],
   "source": [
    "from sklearn.cluster import KMeans\n",
    "\n",
    "kmeans = KMeans(n_clusters = 10, random_state = 42, max_iter = 300, verbose = 0)\n",
    "\n",
    "kmeans.fit(train)"
   ]
  },
  {
   "cell_type": "code",
   "execution_count": 62,
   "metadata": {},
   "outputs": [
    {
     "data": {
      "text/plain": [
       "array([9, 2, 3, ..., 9, 1, 4], dtype=int32)"
      ]
     },
     "execution_count": 62,
     "metadata": {},
     "output_type": "execute_result"
    }
   ],
   "source": [
    "# Verify that model did in fact converge\n",
    "assert kmeans.n_iter_ < 300\n",
    "\n",
    "# Verify we got a prediction for every observation in train\n",
    "assert len(kmeans.labels_) == train.shape[0]\n",
    "\n",
    "# Sum of squared distances of samples (train) to their closest cluster center\n",
    "# kmeans.inertia_\n",
    "\n",
    "# Centers of the clusters in the n-dimensions (n features we have)\n",
    "cluster_centers = kmeans.cluster_centers_\n",
    "\n",
    "train_labels = kmeans.labels_\n",
    "\n",
    "train_labels"
   ]
  },
  {
   "cell_type": "code",
   "execution_count": 63,
   "metadata": {},
   "outputs": [
    {
     "data": {
      "text/plain": [
       "array([6], dtype=int32)"
      ]
     },
     "execution_count": 63,
     "metadata": {},
     "output_type": "execute_result"
    }
   ],
   "source": [
    "# Predict cluster of a new song\n",
    "kmeans.predict(test[0:1])"
   ]
  },
  {
   "cell_type": "code",
   "execution_count": 64,
   "metadata": {},
   "outputs": [
    {
     "data": {
      "text/plain": [
       "array([[1.19418679, 1.39192074, 1.03917361, ..., 1.4095347 , 1.06730364,\n",
       "        0.89983469],\n",
       "       [1.49107138, 0.59710045, 1.39793652, ..., 0.85533106, 0.95907279,\n",
       "        1.77437557],\n",
       "       [1.00532207, 1.35506272, 0.70172183, ..., 1.22171067, 1.09147292,\n",
       "        0.99120915],\n",
       "       ...,\n",
       "       [1.38477707, 0.65237897, 1.126919  , ..., 0.48515253, 0.9457774 ,\n",
       "        1.77153209],\n",
       "       [1.28888554, 1.34009808, 1.17008394, ..., 1.47127084, 1.43972095,\n",
       "        1.52173539],\n",
       "       [1.0275919 , 1.2998571 , 0.50306534, ..., 1.12705314, 1.41706658,\n",
       "        1.4914206 ]])"
      ]
     },
     "execution_count": 64,
     "metadata": {},
     "output_type": "execute_result"
    }
   ],
   "source": [
    "# Get distance of each observation (row) to each cluster center (dimension/col)\n",
    "assert np.argmin(kmeans.transform(test)[0, :]) == kmeans.predict(test[0:1,:])[0]\n",
    "\n",
    "kmeans.transform(test)"
   ]
  },
  {
   "cell_type": "markdown",
   "metadata": {},
   "source": [
    "### Use K-Means to generate playlist from cold start"
   ]
  },
  {
   "cell_type": "markdown",
   "metadata": {},
   "source": [
    "Given a set of start songs for the cold start, there are some potential ways of populating a playlist. For each of those songs, predict the cluster to which it belongs, then either:\n",
    "- Pull songs from the mode cluster (i.e. the most common), if tied pick a random cluster and get all new songs from there.\n",
    "- **Our implementation**: Pull randomly from one of the predicted clusters each time, with probability weighted equal to the number of times each cluster was predicted.\n",
    "- Instead of predicting the single cluster of each start song, get its distance to all clusters, sum them up, average them, and use that to determine the closet cluster(s) of the songs as a group, then pull from either the closest one or closest $n$ with some weighting scheme (e.g. by distance)."
   ]
  },
  {
   "cell_type": "markdown",
   "metadata": {},
   "source": [
    "### TODO: implement algorithm for cold start"
   ]
  },
  {
   "cell_type": "code",
   "execution_count": 122,
   "metadata": {},
   "outputs": [],
   "source": [
    "# Testing purposes\n",
    "start_songs = [test[i:i+1, :] for i in range(3)]\n",
    "#start_songs = test[0:3, :]\n",
    "\n",
    "play_len = 20"
   ]
  },
  {
   "cell_type": "code",
   "execution_count": 126,
   "metadata": {},
   "outputs": [
    {
     "name": "stdout",
     "output_type": "stream",
     "text": [
      "Starting songs clusters: [6 1 6]\n",
      "Cluster, Counts, Weights: [1 6] [1 2] [0.33333333 0.66666667]\n",
      "New song clusters: [6 6 1 6 6 6 6 6 6 6 1 6 1 6 1 6 6 6 6 6]\n"
     ]
    }
   ],
   "source": [
    "# Ensure proper dimensions of songs: handles list of individual songs or set of songs\n",
    "start_clusters = kmeans.predict(np.reshape(start_songs, (len(start_songs), -1)))\n",
    "print('Starting songs clusters:', start_clusters)\n",
    "\n",
    "# Get count of each start cluster and its respective weight of total\n",
    "start_cluster, cluster_count = np.unique(start_clusters, return_counts = True)\n",
    "cluster_weight = cluster_count / np.sum(cluster_count)\n",
    "print('Cluster, Counts, Weights:', start_cluster, cluster_count, cluster_weight)\n",
    "\n",
    "new_song_clusters = np.random.choice(start_cluster, size = play_len, p = cluster_weight)\n",
    "print('New song clusters:', new_song_clusters)"
   ]
  },
  {
   "cell_type": "code",
   "execution_count": null,
   "metadata": {},
   "outputs": [],
   "source": []
  },
  {
   "cell_type": "code",
   "execution_count": null,
   "metadata": {},
   "outputs": [],
   "source": []
  },
  {
   "cell_type": "code",
   "execution_count": null,
   "metadata": {},
   "outputs": [],
   "source": [
    "def create_playlist(start_songs, playlist_length = 20):\n",
    "    pass"
   ]
  },
  {
   "cell_type": "code",
   "execution_count": null,
   "metadata": {},
   "outputs": [],
   "source": []
  },
  {
   "cell_type": "markdown",
   "metadata": {},
   "source": [
    "### TODO: t-sne visualisation of fit clusters"
   ]
  },
  {
   "cell_type": "code",
   "execution_count": null,
   "metadata": {},
   "outputs": [],
   "source": []
  }
 ],
 "metadata": {
  "kernelspec": {
   "display_name": "Python Conda AC209a",
   "language": "python",
   "name": "ac209a"
  },
  "language_info": {
   "codemirror_mode": {
    "name": "ipython",
    "version": 3
   },
   "file_extension": ".py",
   "mimetype": "text/x-python",
   "name": "python",
   "nbconvert_exporter": "python",
   "pygments_lexer": "ipython3",
   "version": "3.7.4"
  }
 },
 "nbformat": 4,
 "nbformat_minor": 2
}
