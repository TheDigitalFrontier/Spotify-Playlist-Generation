{
 "cells": [
  {
   "cell_type": "code",
   "execution_count": 1,
   "metadata": {},
   "outputs": [],
   "source": [
    "import numpy as np\n",
    "import pandas as pd\n",
    "\n",
    "import matplotlib.pyplot as plt\n",
    "import seaborn as sns\n",
    "\n",
    "from os import listdir\n",
    "from os.path import isfile, join\n",
    "\n",
    "import time\n",
    "\n",
    "sns.set()"
   ]
  },
  {
   "cell_type": "code",
   "execution_count": 2,
   "metadata": {},
   "outputs": [],
   "source": [
    "%matplotlib inline"
   ]
  },
  {
   "cell_type": "markdown",
   "metadata": {},
   "source": [
    "## 1. Load and prepare data"
   ]
  },
  {
   "cell_type": "code",
   "execution_count": 3,
   "metadata": {},
   "outputs": [],
   "source": [
    "# Load master song table with added metadata\n",
    "master = pd.read_pickle('../data/master200.pkl')"
   ]
  },
  {
   "cell_type": "code",
   "execution_count": 4,
   "metadata": {
    "scrolled": false
   },
   "outputs": [
    {
     "name": "stdout",
     "output_type": "stream",
     "text": [
      "(999950, 25)\n"
     ]
    },
    {
     "data": {
      "text/html": [
       "<div>\n",
       "<style scoped>\n",
       "    .dataframe tbody tr th:only-of-type {\n",
       "        vertical-align: middle;\n",
       "    }\n",
       "\n",
       "    .dataframe tbody tr th {\n",
       "        vertical-align: top;\n",
       "    }\n",
       "\n",
       "    .dataframe thead th {\n",
       "        text-align: right;\n",
       "    }\n",
       "</style>\n",
       "<table border=\"1\" class=\"dataframe\">\n",
       "  <thead>\n",
       "    <tr style=\"text-align: right;\">\n",
       "      <th></th>\n",
       "      <th>artist_name</th>\n",
       "      <th>artist_uri</th>\n",
       "      <th>track_name</th>\n",
       "      <th>album_uri</th>\n",
       "      <th>duration_ms</th>\n",
       "      <th>album_name</th>\n",
       "      <th>count</th>\n",
       "      <th>track_uri</th>\n",
       "      <th>danceability</th>\n",
       "      <th>energy</th>\n",
       "      <th>...</th>\n",
       "      <th>instrumentalness</th>\n",
       "      <th>liveness</th>\n",
       "      <th>valence</th>\n",
       "      <th>tempo</th>\n",
       "      <th>time_signature</th>\n",
       "      <th>artist_genres</th>\n",
       "      <th>artist_popularity</th>\n",
       "      <th>album_genres</th>\n",
       "      <th>album_popularity</th>\n",
       "      <th>album_release_date</th>\n",
       "    </tr>\n",
       "    <tr>\n",
       "      <th>song_id</th>\n",
       "      <th></th>\n",
       "      <th></th>\n",
       "      <th></th>\n",
       "      <th></th>\n",
       "      <th></th>\n",
       "      <th></th>\n",
       "      <th></th>\n",
       "      <th></th>\n",
       "      <th></th>\n",
       "      <th></th>\n",
       "      <th></th>\n",
       "      <th></th>\n",
       "      <th></th>\n",
       "      <th></th>\n",
       "      <th></th>\n",
       "      <th></th>\n",
       "      <th></th>\n",
       "      <th></th>\n",
       "      <th></th>\n",
       "      <th></th>\n",
       "      <th></th>\n",
       "    </tr>\n",
       "  </thead>\n",
       "  <tbody>\n",
       "    <tr>\n",
       "      <th>0</th>\n",
       "      <td>Sidney Bechet's Blue Note Jazzmen</td>\n",
       "      <td>spotify:artist:2XouUSO0EAJ9gMMoHiXqMt</td>\n",
       "      <td>Muskrat Ramble</td>\n",
       "      <td>spotify:album:04hQBJ7YSuNnZ0nbuXNYbY</td>\n",
       "      <td>220293</td>\n",
       "      <td>Jazz Classics</td>\n",
       "      <td>1</td>\n",
       "      <td>spotify:track:0002yNGLtYSYtc0X6ZnFvp</td>\n",
       "      <td>0.455</td>\n",
       "      <td>0.623</td>\n",
       "      <td>...</td>\n",
       "      <td>0.903</td>\n",
       "      <td>0.6340</td>\n",
       "      <td>0.951</td>\n",
       "      <td>182.345</td>\n",
       "      <td>4</td>\n",
       "      <td>[]</td>\n",
       "      <td>18</td>\n",
       "      <td>[]</td>\n",
       "      <td>37</td>\n",
       "      <td>1993-01-01</td>\n",
       "    </tr>\n",
       "    <tr>\n",
       "      <th>159583</th>\n",
       "      <td>Sidney Bechet</td>\n",
       "      <td>spotify:artist:1RsmXc1ZqW3WBs9iwxiSwk</td>\n",
       "      <td>Blue Horizon</td>\n",
       "      <td>spotify:album:04hQBJ7YSuNnZ0nbuXNYbY</td>\n",
       "      <td>264933</td>\n",
       "      <td>Jazz Classics</td>\n",
       "      <td>5</td>\n",
       "      <td>spotify:track:1EWPMNHfdVNJwBpG9BcxXB</td>\n",
       "      <td>0.327</td>\n",
       "      <td>0.372</td>\n",
       "      <td>...</td>\n",
       "      <td>0.835</td>\n",
       "      <td>0.1530</td>\n",
       "      <td>0.380</td>\n",
       "      <td>66.036</td>\n",
       "      <td>4</td>\n",
       "      <td>['bebop', 'big band', 'cool jazz', 'dixieland'...</td>\n",
       "      <td>52</td>\n",
       "      <td>[]</td>\n",
       "      <td>37</td>\n",
       "      <td>1993-01-01</td>\n",
       "    </tr>\n",
       "    <tr>\n",
       "      <th>271702</th>\n",
       "      <td>Sidney Bechet</td>\n",
       "      <td>spotify:artist:1RsmXc1ZqW3WBs9iwxiSwk</td>\n",
       "      <td>Blame It On The Blues - Alternate Take</td>\n",
       "      <td>spotify:album:04hQBJ7YSuNnZ0nbuXNYbY</td>\n",
       "      <td>175893</td>\n",
       "      <td>Jazz Classics</td>\n",
       "      <td>1</td>\n",
       "      <td>spotify:track:26N4Y48EjprAtvlY6yWZTA</td>\n",
       "      <td>0.574</td>\n",
       "      <td>0.606</td>\n",
       "      <td>...</td>\n",
       "      <td>0.948</td>\n",
       "      <td>0.3490</td>\n",
       "      <td>0.965</td>\n",
       "      <td>101.361</td>\n",
       "      <td>4</td>\n",
       "      <td>['bebop', 'big band', 'cool jazz', 'dixieland'...</td>\n",
       "      <td>52</td>\n",
       "      <td>[]</td>\n",
       "      <td>37</td>\n",
       "      <td>1993-01-01</td>\n",
       "    </tr>\n",
       "    <tr>\n",
       "      <th>445190</th>\n",
       "      <td>Sidney Bechet</td>\n",
       "      <td>spotify:artist:1RsmXc1ZqW3WBs9iwxiSwk</td>\n",
       "      <td>Summertime</td>\n",
       "      <td>spotify:album:04hQBJ7YSuNnZ0nbuXNYbY</td>\n",
       "      <td>251906</td>\n",
       "      <td>Jazz Classics</td>\n",
       "      <td>16</td>\n",
       "      <td>spotify:track:3RlJx8xwZEyToSuGrygilr</td>\n",
       "      <td>0.608</td>\n",
       "      <td>0.138</td>\n",
       "      <td>...</td>\n",
       "      <td>0.908</td>\n",
       "      <td>0.0853</td>\n",
       "      <td>0.318</td>\n",
       "      <td>83.124</td>\n",
       "      <td>4</td>\n",
       "      <td>['bebop', 'big band', 'cool jazz', 'dixieland'...</td>\n",
       "      <td>52</td>\n",
       "      <td>[]</td>\n",
       "      <td>37</td>\n",
       "      <td>1993-01-01</td>\n",
       "    </tr>\n",
       "    <tr>\n",
       "      <th>626275</th>\n",
       "      <td>Sidney Bechet</td>\n",
       "      <td>spotify:artist:1RsmXc1ZqW3WBs9iwxiSwk</td>\n",
       "      <td>Dear Old Southland</td>\n",
       "      <td>spotify:album:04hQBJ7YSuNnZ0nbuXNYbY</td>\n",
       "      <td>243693</td>\n",
       "      <td>Jazz Classics</td>\n",
       "      <td>1</td>\n",
       "      <td>spotify:track:4qwAa1rOm8iaegHzoM1b31</td>\n",
       "      <td>0.400</td>\n",
       "      <td>0.320</td>\n",
       "      <td>...</td>\n",
       "      <td>0.842</td>\n",
       "      <td>0.1950</td>\n",
       "      <td>0.613</td>\n",
       "      <td>86.186</td>\n",
       "      <td>4</td>\n",
       "      <td>['bebop', 'big band', 'cool jazz', 'dixieland'...</td>\n",
       "      <td>52</td>\n",
       "      <td>[]</td>\n",
       "      <td>37</td>\n",
       "      <td>1993-01-01</td>\n",
       "    </tr>\n",
       "  </tbody>\n",
       "</table>\n",
       "<p>5 rows × 25 columns</p>\n",
       "</div>"
      ],
      "text/plain": [
       "                               artist_name  \\\n",
       "song_id                                      \n",
       "0        Sidney Bechet's Blue Note Jazzmen   \n",
       "159583                       Sidney Bechet   \n",
       "271702                       Sidney Bechet   \n",
       "445190                       Sidney Bechet   \n",
       "626275                       Sidney Bechet   \n",
       "\n",
       "                                    artist_uri  \\\n",
       "song_id                                          \n",
       "0        spotify:artist:2XouUSO0EAJ9gMMoHiXqMt   \n",
       "159583   spotify:artist:1RsmXc1ZqW3WBs9iwxiSwk   \n",
       "271702   spotify:artist:1RsmXc1ZqW3WBs9iwxiSwk   \n",
       "445190   spotify:artist:1RsmXc1ZqW3WBs9iwxiSwk   \n",
       "626275   spotify:artist:1RsmXc1ZqW3WBs9iwxiSwk   \n",
       "\n",
       "                                     track_name  \\\n",
       "song_id                                           \n",
       "0                                Muskrat Ramble   \n",
       "159583                             Blue Horizon   \n",
       "271702   Blame It On The Blues - Alternate Take   \n",
       "445190                               Summertime   \n",
       "626275                       Dear Old Southland   \n",
       "\n",
       "                                    album_uri  duration_ms     album_name  \\\n",
       "song_id                                                                     \n",
       "0        spotify:album:04hQBJ7YSuNnZ0nbuXNYbY       220293  Jazz Classics   \n",
       "159583   spotify:album:04hQBJ7YSuNnZ0nbuXNYbY       264933  Jazz Classics   \n",
       "271702   spotify:album:04hQBJ7YSuNnZ0nbuXNYbY       175893  Jazz Classics   \n",
       "445190   spotify:album:04hQBJ7YSuNnZ0nbuXNYbY       251906  Jazz Classics   \n",
       "626275   spotify:album:04hQBJ7YSuNnZ0nbuXNYbY       243693  Jazz Classics   \n",
       "\n",
       "         count                             track_uri  danceability  energy  \\\n",
       "song_id                                                                      \n",
       "0            1  spotify:track:0002yNGLtYSYtc0X6ZnFvp         0.455   0.623   \n",
       "159583       5  spotify:track:1EWPMNHfdVNJwBpG9BcxXB         0.327   0.372   \n",
       "271702       1  spotify:track:26N4Y48EjprAtvlY6yWZTA         0.574   0.606   \n",
       "445190      16  spotify:track:3RlJx8xwZEyToSuGrygilr         0.608   0.138   \n",
       "626275       1  spotify:track:4qwAa1rOm8iaegHzoM1b31         0.400   0.320   \n",
       "\n",
       "         ...  instrumentalness  liveness  valence    tempo  time_signature  \\\n",
       "song_id  ...                                                                 \n",
       "0        ...             0.903    0.6340    0.951  182.345               4   \n",
       "159583   ...             0.835    0.1530    0.380   66.036               4   \n",
       "271702   ...             0.948    0.3490    0.965  101.361               4   \n",
       "445190   ...             0.908    0.0853    0.318   83.124               4   \n",
       "626275   ...             0.842    0.1950    0.613   86.186               4   \n",
       "\n",
       "                                             artist_genres  artist_popularity  \\\n",
       "song_id                                                                         \n",
       "0                                                       []                 18   \n",
       "159583   ['bebop', 'big band', 'cool jazz', 'dixieland'...                 52   \n",
       "271702   ['bebop', 'big band', 'cool jazz', 'dixieland'...                 52   \n",
       "445190   ['bebop', 'big band', 'cool jazz', 'dixieland'...                 52   \n",
       "626275   ['bebop', 'big band', 'cool jazz', 'dixieland'...                 52   \n",
       "\n",
       "         album_genres  album_popularity  album_release_date  \n",
       "song_id                                                      \n",
       "0                  []                37          1993-01-01  \n",
       "159583             []                37          1993-01-01  \n",
       "271702             []                37          1993-01-01  \n",
       "445190             []                37          1993-01-01  \n",
       "626275             []                37          1993-01-01  \n",
       "\n",
       "[5 rows x 25 columns]"
      ]
     },
     "metadata": {},
     "output_type": "display_data"
    }
   ],
   "source": [
    "print(master.shape)\n",
    "display(master.head())"
   ]
  },
  {
   "cell_type": "markdown",
   "metadata": {},
   "source": [
    "There are some missing values here (throws an error if we try to fit a model). Drop rows with NA, as the remaining rows are those we intend to use."
   ]
  },
  {
   "cell_type": "code",
   "execution_count": 5,
   "metadata": {},
   "outputs": [
    {
     "name": "stdout",
     "output_type": "stream",
     "text": [
      "Removed 9 observations\n"
     ]
    }
   ],
   "source": [
    "old = master.shape\n",
    "master.dropna(axis = 0, inplace = True)\n",
    "print('Removed', old[0] - master.shape[0], 'observations')"
   ]
  },
  {
   "cell_type": "markdown",
   "metadata": {},
   "source": [
    "Convert `album_release_year` to a continuous number of the release year. The day of month or month itself of the release date is likely much less important. Should ideally treat as categorical, but this would give a *lot* of levels and not unreasonble to treat year as ordinal. "
   ]
  },
  {
   "cell_type": "code",
   "execution_count": 6,
   "metadata": {},
   "outputs": [],
   "source": [
    "master['album_release_year'] = np.array(\n",
    "    [reldate[0:4] for reldate in master['album_release_date']], dtype = 'int')\n",
    "master.drop(['album_release_date'], 1, inplace = True)"
   ]
  },
  {
   "cell_type": "markdown",
   "metadata": {},
   "source": [
    "Several columns contain text (should be categorical):"
   ]
  },
  {
   "cell_type": "markdown",
   "metadata": {},
   "source": [
    "Remove columns that we do not need:\n",
    "- `album_genres` is always empty. Seems like a field that used to exist, but no longer does.\n",
    "- `track_uri` is the url to the track. This is unique to each song and cannot be used to model. It is saved in the stored dataframe for reference if we need it later.\n",
    "- `album_uri` for the same reason.\n",
    "- `artist_uri` for the same reason.\n",
    "\n",
    "Until we can effecrtively one-hot encode as categoricals, any remaining predictors of type `object` can be dropped, so that we only have numeric features."
   ]
  },
  {
   "cell_type": "code",
   "execution_count": 7,
   "metadata": {},
   "outputs": [],
   "source": [
    "master.drop(labels = ['album_genres', 'track_uri', 'album_uri', 'artist_uri'], \n",
    "           axis = 1, inplace = True)"
   ]
  },
  {
   "cell_type": "markdown",
   "metadata": {},
   "source": [
    "Artist genres is missing for about $18\\%$ of songs. For those that have it, it's a list of sometimes extremely specific genres. Hard to do something useful with, so drop it."
   ]
  },
  {
   "cell_type": "code",
   "execution_count": 8,
   "metadata": {},
   "outputs": [
    {
     "data": {
      "text/plain": [
       "0.17600038402265733"
      ]
     },
     "execution_count": 8,
     "metadata": {},
     "output_type": "execute_result"
    }
   ],
   "source": [
    "np.sum(master.artist_genres == '[]')/master.shape[0]"
   ]
  },
  {
   "cell_type": "markdown",
   "metadata": {},
   "source": [
    "We also can't do anything interest with track name (unless we want to try to use NLP to look for similarities in titles, but that seems like a stretch, so drop that too."
   ]
  },
  {
   "cell_type": "code",
   "execution_count": 9,
   "metadata": {},
   "outputs": [],
   "source": [
    "master.drop(['track_name', 'artist_genres'], 1, inplace = True)"
   ]
  },
  {
   "cell_type": "markdown",
   "metadata": {},
   "source": [
    "Now whatever column is of type `object` is one we want to treat as categorical and one-hot-encode. Songs in the same album and/or by the same artist likely fit well together.  \n",
    "  \n",
    "**Note:** Perhaps redundant to keep both? If a song is in the same album, most of the time it will also be by the same artist? At the same time, collection albums may be a great way to indirectly capture genre information and relatedness beyond being by the same artist. There's just a *lot* of albums, i.e. we'll get a stupid amount of features with one-hot-encoding."
   ]
  },
  {
   "cell_type": "code",
   "execution_count": 10,
   "metadata": {},
   "outputs": [
    {
     "data": {
      "text/plain": [
       "artist_name            object\n",
       "duration_ms             int64\n",
       "album_name             object\n",
       "count                   int64\n",
       "danceability          float64\n",
       "energy                float64\n",
       "key                     int64\n",
       "loudness              float64\n",
       "mode                    int64\n",
       "speechiness           float64\n",
       "acousticness          float64\n",
       "instrumentalness      float64\n",
       "liveness              float64\n",
       "valence               float64\n",
       "tempo                 float64\n",
       "time_signature          int64\n",
       "artist_popularity       int64\n",
       "album_popularity        int64\n",
       "album_release_year      int64\n",
       "dtype: object"
      ]
     },
     "execution_count": 10,
     "metadata": {},
     "output_type": "execute_result"
    }
   ],
   "source": [
    "master.dtypes"
   ]
  },
  {
   "cell_type": "markdown",
   "metadata": {},
   "source": [
    "## 2. Encode song-in-playlist indicators as sparse matrix\n",
    "Load the list of lists saying which song IDs are in which playlists"
   ]
  },
  {
   "cell_type": "code",
   "execution_count": 11,
   "metadata": {},
   "outputs": [],
   "source": [
    "# Read list of lists: parent index is playlist ID, child index is song in that playlist\n",
    "playlists = pd.read_pickle('../data/playlists_song_ids_200.pkl')\n",
    "\n",
    "# Give each parent list a number, i.e. playlist ID\n",
    "play, song = zip(*enumerate(playlists))\n",
    "\n",
    "# Expand into pairs of playlist-song, i.e. 100-long playlist becomes 100 pairs\n",
    "pairs = [[z[0], s] for z in zip(play, song) for s in z[1]]\n",
    "\n",
    "# column is song ID, row is playlist ID\n",
    "col, row = zip(*pairs)\n",
    "assert len(row) == len(col)"
   ]
  },
  {
   "cell_type": "code",
   "execution_count": 12,
   "metadata": {},
   "outputs": [
    {
     "data": {
      "text/plain": [
       "(1003760, 200000)"
      ]
     },
     "execution_count": 12,
     "metadata": {},
     "output_type": "execute_result"
    }
   ],
   "source": [
    "# Create sparse matrix\n",
    "from scipy.sparse import csr_matrix, coo_matrix\n",
    "mat = csr_matrix((np.ones(len(col), dtype = 'int'), (row, col)))\n",
    "mat.shape"
   ]
  },
  {
   "cell_type": "markdown",
   "metadata": {},
   "source": [
    "**Warning:** Usually `mat.A` gets you a dense matrix with zeros as zeros instead of simply being left out, *but* that will make Jupyter shit the bed due to the crazy memory requirements."
   ]
  },
  {
   "cell_type": "markdown",
   "metadata": {},
   "source": [
    "Various songs were ditched from the master songs table when adding metadata"
   ]
  },
  {
   "cell_type": "code",
   "execution_count": 13,
   "metadata": {
    "scrolled": true
   },
   "outputs": [],
   "source": [
    "mat = mat[master.index.values, :]\n",
    "assert mat.shape[0] == master.shape[0]"
   ]
  },
  {
   "cell_type": "markdown",
   "metadata": {},
   "source": [
    "Seems like it works: first playlist has 13 stored elements, corresponding to `len(playlists[0])`:"
   ]
  },
  {
   "cell_type": "code",
   "execution_count": 14,
   "metadata": {},
   "outputs": [
    {
     "data": {
      "text/plain": [
       "(13, <999941x1 sparse matrix of type '<class 'numpy.int64'>'\n",
       " \twith 13 stored elements in Compressed Sparse Row format>)"
      ]
     },
     "execution_count": 14,
     "metadata": {},
     "output_type": "execute_result"
    }
   ],
   "source": [
    "len(playlists[0]), mat[:, 0]"
   ]
  },
  {
   "cell_type": "markdown",
   "metadata": {},
   "source": [
    "#### Drop songs that occur below a certain threshold $n$"
   ]
  },
  {
   "cell_type": "code",
   "execution_count": 15,
   "metadata": {},
   "outputs": [],
   "source": [
    "n = 5"
   ]
  },
  {
   "cell_type": "code",
   "execution_count": 16,
   "metadata": {},
   "outputs": [],
   "source": [
    "songs_keep_ind = np.argwhere(np.sum(mat, axis = 1) >= n)[:,0]"
   ]
  },
  {
   "cell_type": "markdown",
   "metadata": {},
   "source": [
    "Reduces from 1,000,000 songs to just north of 200,000."
   ]
  },
  {
   "cell_type": "code",
   "execution_count": 17,
   "metadata": {},
   "outputs": [
    {
     "data": {
      "text/plain": [
       "(213675, 200000)"
      ]
     },
     "execution_count": 17,
     "metadata": {},
     "output_type": "execute_result"
    }
   ],
   "source": [
    "mat_sub = mat[songs_keep_ind, :]\n",
    "mat_sub.shape"
   ]
  },
  {
   "cell_type": "code",
   "execution_count": 18,
   "metadata": {},
   "outputs": [
    {
     "data": {
      "text/plain": [
       "0.9999346299381664"
      ]
     },
     "execution_count": 18,
     "metadata": {},
     "output_type": "execute_result"
    }
   ],
   "source": [
    "# Sparsity original\n",
    "1 - (np.sum(mat)/(mat.shape[0]*mat.shape[1]))"
   ]
  },
  {
   "cell_type": "code",
   "execution_count": 19,
   "metadata": {},
   "outputs": [
    {
     "data": {
      "text/plain": [
       "0.9997220166374167"
      ]
     },
     "execution_count": 19,
     "metadata": {},
     "output_type": "execute_result"
    }
   ],
   "source": [
    "# Sparsity new subset\n",
    "1 - (np.sum(mat_sub)/(mat_sub.shape[0]*mat_sub.shape[1]))"
   ]
  },
  {
   "cell_type": "markdown",
   "metadata": {},
   "source": [
    "Drop the same songs from the master songs metadata table"
   ]
  },
  {
   "cell_type": "code",
   "execution_count": 20,
   "metadata": {},
   "outputs": [
    {
     "data": {
      "text/plain": [
       "(213675, 19)"
      ]
     },
     "execution_count": 20,
     "metadata": {},
     "output_type": "execute_result"
    }
   ],
   "source": [
    "master_sub = master.iloc[songs_keep_ind, :]\n",
    "master_sub.shape"
   ]
  },
  {
   "cell_type": "markdown",
   "metadata": {},
   "source": [
    "Some playlists now have no songs or are very short. Drop those containing less than $m$ songs:"
   ]
  },
  {
   "cell_type": "code",
   "execution_count": 21,
   "metadata": {},
   "outputs": [],
   "source": [
    "m = 10"
   ]
  },
  {
   "cell_type": "code",
   "execution_count": 22,
   "metadata": {},
   "outputs": [],
   "source": [
    "p_sums = np.array(np.sum(mat_sub, axis = 0)).reshape((-1,))"
   ]
  },
  {
   "cell_type": "markdown",
   "metadata": {},
   "source": [
    "Go from 200,000 playlists to just shy of 190,000"
   ]
  },
  {
   "cell_type": "code",
   "execution_count": 23,
   "metadata": {},
   "outputs": [
    {
     "data": {
      "text/plain": [
       "(213675, 187313)"
      ]
     },
     "execution_count": 23,
     "metadata": {},
     "output_type": "execute_result"
    }
   ],
   "source": [
    "mat_sub = mat_sub[:, p_sums >= m]\n",
    "mat_sub.shape"
   ]
  },
  {
   "cell_type": "markdown",
   "metadata": {},
   "source": [
    "Some songs now occur in no playlists, but ignore that. It's less than $10$ songs, this loop can go on forever, and we need to keep track of which we've kept with the above `songs_keep_ind`."
   ]
  },
  {
   "cell_type": "code",
   "execution_count": 24,
   "metadata": {},
   "outputs": [],
   "source": [
    "assert len(songs_keep_ind) == mat_sub.shape[0] == master_sub.shape[0]"
   ]
  },
  {
   "cell_type": "markdown",
   "metadata": {},
   "source": [
    "Split out continuous data"
   ]
  },
  {
   "cell_type": "code",
   "execution_count": 33,
   "metadata": {},
   "outputs": [],
   "source": [
    "master_sub_cont = master_sub.drop(['artist_name', 'album_name'], axis = 1)"
   ]
  },
  {
   "cell_type": "markdown",
   "metadata": {},
   "source": [
    "Get song IDs corresponding to each row and feature names"
   ]
  },
  {
   "cell_type": "code",
   "execution_count": 34,
   "metadata": {},
   "outputs": [],
   "source": [
    "songids = master_sub.index.values\n",
    "cont_feats = list(master_sub_cont.columns)"
   ]
  },
  {
   "cell_type": "code",
   "execution_count": 35,
   "metadata": {},
   "outputs": [
    {
     "data": {
      "text/plain": [
       "(17,\n",
       " ['duration_ms',\n",
       "  'count',\n",
       "  'danceability',\n",
       "  'energy',\n",
       "  'key',\n",
       "  'loudness',\n",
       "  'mode',\n",
       "  'speechiness',\n",
       "  'acousticness',\n",
       "  'instrumentalness',\n",
       "  'liveness',\n",
       "  'valence',\n",
       "  'tempo',\n",
       "  'time_signature',\n",
       "  'artist_popularity',\n",
       "  'album_popularity',\n",
       "  'album_release_year'])"
      ]
     },
     "execution_count": 35,
     "metadata": {},
     "output_type": "execute_result"
    }
   ],
   "source": [
    "len(cont_feats), cont_feats"
   ]
  },
  {
   "cell_type": "markdown",
   "metadata": {},
   "source": [
    "# 3. Data preparation\n",
    "##### Prior to clustering: numerical and categorical data\n",
    "There are ~30,000 artists and ~60,000 albums remaining. Together it is unreasonably high cardinality (many category levels), and we posit that artist is much more important than album. Hence, we ditch album."
   ]
  },
  {
   "cell_type": "markdown",
   "metadata": {},
   "source": [
    "## 3.1 Dimensionality reduction"
   ]
  },
  {
   "cell_type": "markdown",
   "metadata": {},
   "source": [
    "### Hashing trick\n",
    "**Note**: We have to do something to reduce the scope. Even if we try to use an AutoEncoder to reduce 30,000 one-hot-encoded binary indicators to fewer dimensions, it will run out of memory. We need to apply something like a hashing trick first.\n",
    "\n",
    "For use with high-cardinality nominal categorical data.\n",
    "\n",
    "Documentation: https://scikit-learn.org/stable/modules/generated/sklearn.feature_extraction.FeatureHasher.html\n",
    "\n",
    "Read about it here: https://scikit-learn.org/stable/modules/feature_extraction.html#feature-hashing\n",
    "\n",
    "And here: https://medium.com/value-stream-design/introducing-one-of-the-best-hacks-in-machine-learning-the-hashing-trick-bf6a9c8af18f\n",
    "\n",
    "We *definitely* have a lot of hash collisions when we boil > 30,000 categorical levels down to only 1,000 hashed features."
   ]
  },
  {
   "cell_type": "code",
   "execution_count": 36,
   "metadata": {},
   "outputs": [],
   "source": [
    "from sklearn.feature_extraction import FeatureHasher"
   ]
  },
  {
   "cell_type": "code",
   "execution_count": 37,
   "metadata": {},
   "outputs": [],
   "source": [
    "hasher = FeatureHasher(n_features = 1000, input_type = 'string')"
   ]
  },
  {
   "cell_type": "code",
   "execution_count": 38,
   "metadata": {},
   "outputs": [
    {
     "data": {
      "text/plain": [
       "<213675x1000 sparse matrix of type '<class 'numpy.float64'>'\n",
       "\twith 1967506 stored elements in Compressed Sparse Row format>"
      ]
     },
     "execution_count": 38,
     "metadata": {},
     "output_type": "execute_result"
    }
   ],
   "source": [
    "#cats_hashed = hasher.fit_transform(master_sub[['artist_name', 'album_name']].values)\n",
    "cats_hashed = hasher.fit_transform(master_sub['artist_name'].values)\n",
    "cats_hashed"
   ]
  },
  {
   "cell_type": "code",
   "execution_count": 39,
   "metadata": {},
   "outputs": [
    {
     "data": {
      "text/plain": [
       "array([[ 0.,  0.,  0.,  0.,  0.,  0.,  0.,  0.,  0.,  0.,  0.,  0.,  0.,\n",
       "         0.,  0.,  0.,  0., -1.,  0.,  0.,  0.,  0.,  0.,  0.,  0.,  0.,\n",
       "         0.,  0.,  0.,  0.,  0.,  0.,  0.,  0.,  0.,  0.,  0.,  0.,  0.,\n",
       "         0.,  0.,  0.,  0.,  0.,  0., -1.,  0.,  0.,  0.,  0.,  0.,  0.,\n",
       "         0.,  0.,  0.,  0.,  0.,  0.,  0.,  1.,  0.,  0.,  0.,  0.,  0.]])"
      ]
     },
     "execution_count": 39,
     "metadata": {},
     "output_type": "execute_result"
    }
   ],
   "source": [
    "cats_hashed[0, 0:65].A"
   ]
  },
  {
   "cell_type": "markdown",
   "metadata": {},
   "source": [
    "### Min-Max scale (i.e. *normalise*) data\n",
    "Separately on the continuous variables and the hashed artist names, so we can run AutoEncoder on only the latter, encode it in a compressed space, and combine with minmax-scaled numerical data for clustering."
   ]
  },
  {
   "cell_type": "code",
   "execution_count": 40,
   "metadata": {},
   "outputs": [],
   "source": [
    "from sklearn.preprocessing import MinMaxScaler"
   ]
  },
  {
   "cell_type": "markdown",
   "metadata": {},
   "source": [
    "Normalise continuous numerical data:"
   ]
  },
  {
   "cell_type": "code",
   "execution_count": 41,
   "metadata": {},
   "outputs": [],
   "source": [
    "minmax = MinMaxScaler()\n",
    "scaled_cont = minmax.fit_transform(master_sub_cont)"
   ]
  },
  {
   "cell_type": "code",
   "execution_count": 42,
   "metadata": {},
   "outputs": [],
   "source": [
    "assert np.sum(np.amax(scaled_cont, axis = 0)) == master_sub_cont.shape[1]\n",
    "assert np.sum(np.amin(scaled_cont, axis = 0)) == 0"
   ]
  },
  {
   "cell_type": "markdown",
   "metadata": {},
   "source": [
    "Normalise hashed data:"
   ]
  },
  {
   "cell_type": "code",
   "execution_count": 43,
   "metadata": {},
   "outputs": [],
   "source": [
    "minmax2 = MinMaxScaler()\n",
    "scaled_artist = minmax2.fit_transform(cats_hashed.A)"
   ]
  },
  {
   "cell_type": "markdown",
   "metadata": {},
   "source": [
    "## 3.2 Autoencoder\n",
    "##### Further dimensionality reduction of categorical data\n",
    "Inspired by: https://www.dlology.com/blog/how-to-do-unsupervised-clustering-with-keras/\n",
    "\n",
    "Also by: https://www.analyticsvidhya.com/blog/2018/05/essentials-of-deep-learning-trudging-into-unsupervised-deep-learning/"
   ]
  },
  {
   "cell_type": "markdown",
   "metadata": {},
   "source": [
    "**Note:** We extend this. Reproducing the hash solely with hashed data is a very hard task, so we give it additional input of the continuous data to help give context to learn which artist each song is associated with."
   ]
  },
  {
   "cell_type": "code",
   "execution_count": 49,
   "metadata": {},
   "outputs": [],
   "source": [
    "from tensorflow.keras.layers import Dense, Input\n",
    "from tensorflow.keras.models import Model\n",
    "from tensorflow.keras.callbacks import EarlyStopping"
   ]
  },
  {
   "cell_type": "code",
   "execution_count": 50,
   "metadata": {},
   "outputs": [],
   "source": [
    "inputs = Input(shape = (scaled_artist.shape[1],))\n",
    "\n",
    "encoder = Dense(500, activation = 'relu')(inputs)\n",
    "encoder = Dense(500, activation = 'relu')(encoder)\n",
    "\n",
    "# Compress into much lower-dimensional space\n",
    "# Force lower-dimensional representation values between [0, 1] (like minmax)\n",
    "encoder = Dense(20, activation = 'sigmoid')(encoder)\n",
    "\n",
    "# Lossy decompression\n",
    "decoder = Dense(500, activation = 'relu')(encoder)\n",
    "decoder = Dense(500, activation = 'relu')(decoder)\n",
    "decoder = Dense(scaled_artist.shape[1])(decoder)\n",
    "\n",
    "autoencoder = Model(inputs, decoder)"
   ]
  },
  {
   "cell_type": "markdown",
   "metadata": {},
   "source": [
    "Autoencoder maps raw input to its lossy reconstruction"
   ]
  },
  {
   "cell_type": "code",
   "execution_count": 51,
   "metadata": {},
   "outputs": [
    {
     "name": "stdout",
     "output_type": "stream",
     "text": [
      "Model: \"model_2\"\n",
      "_________________________________________________________________\n",
      "Layer (type)                 Output Shape              Param #   \n",
      "=================================================================\n",
      "input_2 (InputLayer)         [(None, 1000)]            0         \n",
      "_________________________________________________________________\n",
      "dense_6 (Dense)              (None, 500)               500500    \n",
      "_________________________________________________________________\n",
      "dense_7 (Dense)              (None, 500)               250500    \n",
      "_________________________________________________________________\n",
      "dense_8 (Dense)              (None, 20)                10020     \n",
      "_________________________________________________________________\n",
      "dense_9 (Dense)              (None, 500)               10500     \n",
      "_________________________________________________________________\n",
      "dense_10 (Dense)             (None, 500)               250500    \n",
      "_________________________________________________________________\n",
      "dense_11 (Dense)             (None, 1000)              501000    \n",
      "=================================================================\n",
      "Total params: 1,523,020\n",
      "Trainable params: 1,523,020\n",
      "Non-trainable params: 0\n",
      "_________________________________________________________________\n"
     ]
    }
   ],
   "source": [
    "autoencoder.summary()"
   ]
  },
  {
   "cell_type": "markdown",
   "metadata": {},
   "source": [
    "Encoder maps raw inputs to their encoded representation"
   ]
  },
  {
   "cell_type": "code",
   "execution_count": 52,
   "metadata": {},
   "outputs": [],
   "source": [
    "encoder = Model(inputs, encoder)"
   ]
  },
  {
   "cell_type": "markdown",
   "metadata": {},
   "source": [
    "Fit the beast"
   ]
  },
  {
   "cell_type": "code",
   "execution_count": 53,
   "metadata": {},
   "outputs": [],
   "source": [
    "autoencoder.compile(optimizer = 'adam', loss = 'mse')"
   ]
  },
  {
   "cell_type": "markdown",
   "metadata": {},
   "source": [
    "Validation split may seem low: we have 30,000 unique artists across 200,000 observations, so if the validation set is too large it will contain a lot of only observations of some artists, reducing the overall effectiveness of the autoencoder at capturing as much of the salient information as possible in its compressed space. Furthermore, 20,000 observations is still plenty to evaluate out-of-sample performance."
   ]
  },
  {
   "cell_type": "code",
   "execution_count": 54,
   "metadata": {},
   "outputs": [
    {
     "name": "stdout",
     "output_type": "stream",
     "text": [
      "Train on 192307 samples, validate on 21368 samples\n",
      "Epoch 1/100\n",
      "192307/192307 [==============================] - 43s 222us/sample - loss: 8.9128e-04 - val_loss: 3.0850e-04\n",
      "Epoch 2/100\n",
      "192307/192307 [==============================] - 45s 233us/sample - loss: 2.8371e-04 - val_loss: 2.7489e-04\n",
      "Epoch 3/100\n",
      "192307/192307 [==============================] - 42s 218us/sample - loss: 2.5008e-04 - val_loss: 2.3190e-04\n",
      "Epoch 4/100\n",
      "192307/192307 [==============================] - 42s 220us/sample - loss: 2.1203e-04 - val_loss: 2.3925e-04\n",
      "Epoch 5/100\n",
      "192307/192307 [==============================] - 42s 219us/sample - loss: 1.7813e-04 - val_loss: 1.7269e-04\n",
      "Epoch 6/100\n",
      "192307/192307 [==============================] - 43s 225us/sample - loss: 1.5144e-04 - val_loss: 1.4686e-04\n",
      "Epoch 7/100\n",
      "192307/192307 [==============================] - 43s 222us/sample - loss: 1.3159e-04 - val_loss: 1.3723e-04\n",
      "Epoch 8/100\n",
      "192307/192307 [==============================] - 45s 232us/sample - loss: 1.1927e-04 - val_loss: 1.2609e-04\n",
      "Epoch 9/100\n",
      "192307/192307 [==============================] - 43s 223us/sample - loss: 1.0927e-04 - val_loss: 1.1697e-04\n",
      "Epoch 10/100\n",
      "192307/192307 [==============================] - 43s 225us/sample - loss: 1.0254e-04 - val_loss: 1.0920e-04\n",
      "Epoch 11/100\n",
      "192307/192307 [==============================] - 43s 223us/sample - loss: 9.6554e-05 - val_loss: 1.0483e-04\n",
      "Epoch 12/100\n",
      "192307/192307 [==============================] - 44s 227us/sample - loss: 8.9736e-05 - val_loss: 9.8060e-05\n",
      "Epoch 13/100\n",
      "192307/192307 [==============================] - 44s 228us/sample - loss: 8.1767e-05 - val_loss: 9.3547e-05\n",
      "Epoch 14/100\n",
      "192307/192307 [==============================] - 44s 228us/sample - loss: 7.6624e-05 - val_loss: 9.0123e-05\n",
      "Epoch 15/100\n",
      "192307/192307 [==============================] - 43s 226us/sample - loss: 7.1975e-05 - val_loss: 8.8982e-05\n",
      "Epoch 16/100\n",
      "192307/192307 [==============================] - 43s 225us/sample - loss: 6.5863e-05 - val_loss: 7.8848e-05\n",
      "Epoch 17/100\n",
      "192307/192307 [==============================] - 43s 223us/sample - loss: 6.1926e-05 - val_loss: 8.3928e-05\n",
      "Epoch 18/100\n",
      "192307/192307 [==============================] - 42s 218us/sample - loss: 5.8590e-05 - val_loss: 7.6929e-05\n",
      "Epoch 19/100\n",
      "192307/192307 [==============================] - 46s 241us/sample - loss: 5.4327e-05 - val_loss: 6.9636e-05\n",
      "Epoch 20/100\n",
      "192307/192307 [==============================] - 46s 238us/sample - loss: 5.0598e-05 - val_loss: 6.5816e-05\n",
      "Epoch 21/100\n",
      "192307/192307 [==============================] - 43s 223us/sample - loss: 4.8733e-05 - val_loss: 6.4835e-05\n",
      "Epoch 22/100\n",
      "192307/192307 [==============================] - 44s 231us/sample - loss: 4.6738e-05 - val_loss: 6.2294e-05\n",
      "Epoch 23/100\n",
      "192307/192307 [==============================] - 44s 227us/sample - loss: 4.4074e-05 - val_loss: 6.0034e-05\n",
      "Epoch 24/100\n",
      "192307/192307 [==============================] - 42s 220us/sample - loss: 4.1946e-05 - val_loss: 5.8255e-05\n",
      "Epoch 25/100\n",
      "192307/192307 [==============================] - 43s 225us/sample - loss: 3.9701e-05 - val_loss: 5.6228e-05\n",
      "Epoch 26/100\n",
      "192307/192307 [==============================] - 43s 223us/sample - loss: 3.7674e-05 - val_loss: 5.7692e-05\n",
      "Epoch 27/100\n",
      "192307/192307 [==============================] - 45s 235us/sample - loss: 3.6059e-05 - val_loss: 5.4640e-05\n",
      "Epoch 28/100\n",
      "192307/192307 [==============================] - 44s 226us/sample - loss: 3.4827e-05 - val_loss: 5.3474e-05\n",
      "Epoch 29/100\n",
      "192307/192307 [==============================] - 44s 231us/sample - loss: 3.3553e-05 - val_loss: 5.5437e-05\n",
      "Epoch 30/100\n",
      "192307/192307 [==============================] - 44s 227us/sample - loss: 3.2047e-05 - val_loss: 5.2099e-05\n",
      "Epoch 31/100\n",
      "192307/192307 [==============================] - 42s 219us/sample - loss: 3.0807e-05 - val_loss: 5.1485e-05\n",
      "Epoch 32/100\n",
      "192307/192307 [==============================] - 45s 233us/sample - loss: 2.9838e-05 - val_loss: 4.9781e-05\n",
      "Epoch 33/100\n",
      "192307/192307 [==============================] - 44s 229us/sample - loss: 2.8762e-05 - val_loss: 4.9449e-05\n",
      "Epoch 34/100\n",
      "192307/192307 [==============================] - 45s 236us/sample - loss: 2.7806e-05 - val_loss: 4.9197e-05\n",
      "Epoch 35/100\n",
      "192307/192307 [==============================] - 58s 300us/sample - loss: 2.6786e-05 - val_loss: 6.2213e-05\n",
      "Epoch 36/100\n",
      "192307/192307 [==============================] - 50s 261us/sample - loss: 2.5939e-05 - val_loss: 5.0673e-05\n",
      "Epoch 37/100\n",
      "192307/192307 [==============================] - 44s 231us/sample - loss: 2.5088e-05 - val_loss: 4.8733e-05\n",
      "Epoch 38/100\n",
      "192307/192307 [==============================] - 45s 234us/sample - loss: 2.4191e-05 - val_loss: 4.9540e-05\n",
      "Epoch 39/100\n",
      "192307/192307 [==============================] - 43s 223us/sample - loss: 2.3596e-05 - val_loss: 4.6576e-05\n",
      "Epoch 40/100\n",
      "192307/192307 [==============================] - 42s 221us/sample - loss: 2.2775e-05 - val_loss: 4.5024e-05\n",
      "Epoch 41/100\n",
      "192307/192307 [==============================] - 42s 220us/sample - loss: 2.2264e-05 - val_loss: 4.6045e-05\n",
      "Epoch 42/100\n",
      "192307/192307 [==============================] - 44s 230us/sample - loss: 2.1801e-05 - val_loss: 4.5097e-05\n",
      "Epoch 43/100\n",
      "192307/192307 [==============================] - 42s 217us/sample - loss: 2.1247e-05 - val_loss: 4.3084e-05\n",
      "Epoch 44/100\n",
      "192307/192307 [==============================] - 42s 216us/sample - loss: 2.0891e-05 - val_loss: 4.3691e-05\n",
      "Epoch 45/100\n",
      "192307/192307 [==============================] - 41s 214us/sample - loss: 2.0387e-05 - val_loss: 4.3183e-05\n",
      "Epoch 46/100\n",
      "192307/192307 [==============================] - 43s 225us/sample - loss: 2.0200e-05 - val_loss: 4.2321e-05\n",
      "Epoch 47/100\n",
      "192307/192307 [==============================] - 41s 216us/sample - loss: 1.9639e-05 - val_loss: 4.3496e-05\n",
      "Epoch 48/100\n",
      "192307/192307 [==============================] - 41s 215us/sample - loss: 1.9384e-05 - val_loss: 4.2835e-05\n",
      "Epoch 49/100\n",
      "192307/192307 [==============================] - 42s 217us/sample - loss: 1.9220e-05 - val_loss: 4.3526e-05\n",
      "Epoch 50/100\n",
      "192307/192307 [==============================] - 47s 242us/sample - loss: 1.8878e-05 - val_loss: 4.4076e-05\n",
      "Epoch 51/100\n",
      "192307/192307 [==============================] - 48s 249us/sample - loss: 1.8630e-05 - val_loss: 4.2328e-05\n",
      "Epoch 00051: early stopping\n"
     ]
    }
   ],
   "source": [
    "reconstruct_history = autoencoder.fit(\n",
    "    scaled_artist, # Data is input,\n",
    "    scaled_artist, # and output: try to reconstruct accurately\n",
    "    epochs = 100,\n",
    "    batch_size = 128,\n",
    "    validation_split = 0.1,\n",
    "    callbacks = [EarlyStopping(monitor='val_loss', mode='min', verbose=1, patience=5)],\n",
    "    verbose = 1\n",
    ")"
   ]
  },
  {
   "cell_type": "code",
   "execution_count": 55,
   "metadata": {},
   "outputs": [
    {
     "data": {
      "text/plain": [
       "<matplotlib.legend.Legend at 0x1ac477d438>"
      ]
     },
     "execution_count": 55,
     "metadata": {},
     "output_type": "execute_result"
    },
    {
     "data": {
      "image/png": "[encoded data removed]",
      "text/plain": [
       "<Figure size 864x576 with 1 Axes>"
      ]
     },
     "metadata": {
      "needs_background": "light"
     },
     "output_type": "display_data"
    }
   ],
   "source": [
    "plt.figure(figsize = (12, 8))\n",
    "plt.plot(reconstruct_history.history['loss'], c = 'blue', label = 'Train')\n",
    "plt.plot(reconstruct_history.history['val_loss'], c = 'orange', label = 'Validation')\n",
    "plt.title('Reconstruction Error (MSE) vs Epochs', fontsize = 14)\n",
    "plt.ylabel('Mean Squared Error')\n",
    "plt.xlabel('Epochs')\n",
    "plt.legend()"
   ]
  },
  {
   "cell_type": "markdown",
   "metadata": {},
   "source": [
    "**Encode data into compressed representation**"
   ]
  },
  {
   "cell_type": "code",
   "execution_count": 56,
   "metadata": {},
   "outputs": [
    {
     "data": {
      "text/plain": [
       "(213675, 20)"
      ]
     },
     "execution_count": 56,
     "metadata": {},
     "output_type": "execute_result"
    }
   ],
   "source": [
    "auto_artist = encoder.predict(scaled_artist)\n",
    "auto_artist.shape"
   ]
  },
  {
   "cell_type": "code",
   "execution_count": 57,
   "metadata": {
    "scrolled": true
   },
   "outputs": [
    {
     "data": {
      "text/plain": [
       "array([0.299728  , 0.342897  , 0.3606518 , 0.51178825, 0.36301678,\n",
       "       0.25996602, 0.34921724, 0.25537747, 0.30926043, 0.32384485,\n",
       "       0.3476532 , 0.31975418, 0.30813247, 0.4850531 , 0.32485086,\n",
       "       0.28372037, 0.3619985 , 0.30891663, 0.32840472, 0.68604153],\n",
       "      dtype=float32)"
      ]
     },
     "execution_count": 57,
     "metadata": {},
     "output_type": "execute_result"
    }
   ],
   "source": [
    "auto_artist[0]"
   ]
  },
  {
   "cell_type": "markdown",
   "metadata": {},
   "source": [
    "## 3.3 Save everything so far"
   ]
  },
  {
   "cell_type": "markdown",
   "metadata": {},
   "source": [
    "**Save to disk.** Pull song metadata from `master200` using song ID (index)."
   ]
  },
  {
   "cell_type": "code",
   "execution_count": 58,
   "metadata": {},
   "outputs": [],
   "source": [
    "master_sub.to_pickle('../data/final/master_reduced.pkl')"
   ]
  },
  {
   "cell_type": "code",
   "execution_count": 59,
   "metadata": {},
   "outputs": [],
   "source": [
    "np.save('../data/final/scaled_continuous_17wide', scaled_cont)"
   ]
  },
  {
   "cell_type": "code",
   "execution_count": 60,
   "metadata": {},
   "outputs": [],
   "source": [
    "np.save('../data/final/scaled_artists_1000wide', scaled_artist)\n",
    "np.save('../data/final/encoded_artists_20wide', auto_artist)"
   ]
  },
  {
   "cell_type": "code",
   "execution_count": 61,
   "metadata": {},
   "outputs": [
    {
     "data": {
      "text/plain": [
       "((213675, 17), (213675, 1000), (213675, 20))"
      ]
     },
     "execution_count": 61,
     "metadata": {},
     "output_type": "execute_result"
    }
   ],
   "source": [
    "scaled_cont.shape, scaled_artist.shape, auto_artist.shape"
   ]
  },
  {
   "cell_type": "code",
   "execution_count": null,
   "metadata": {},
   "outputs": [],
   "source": []
  }
 ],
 "metadata": {
  "kernelspec": {
   "display_name": "Python 3",
   "language": "python",
   "name": "python3"
  },
  "language_info": {
   "codemirror_mode": {
    "name": "ipython",
    "version": 3
   },
   "file_extension": ".py",
   "mimetype": "text/x-python",
   "name": "python",
   "nbconvert_exporter": "python",
   "pygments_lexer": "ipython3",
   "version": "3.6.9"
  }
 },
 "nbformat": 4,
 "nbformat_minor": 2
}
