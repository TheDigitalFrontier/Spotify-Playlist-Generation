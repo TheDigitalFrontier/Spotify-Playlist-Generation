{
 "cells": [
  {
   "cell_type": "markdown",
   "metadata": {},
   "source": [
    "## Welcome to the Digital Frontier \n",
    "\n",
    "<a href=\"https://wfseaton.github.io/TheDigitalFrontier/\">Home Page</a> - \n",
    "<a href=\"https://wfseaton.github.io/TheDigitalFrontier/data_preparation.html\">Data Preparation</a> - \n",
    "<a href=\"https://wfseaton.github.io/TheDigitalFrontier/data_exploration.html\">Data Exploration</a> - \n",
    "<a href=\"https://wfseaton.github.io/TheDigitalFrontier/dimensionality_reduction.html\"><b>Dimensionality Reduction</b></a> - \n",
    "<a href=\"https://wfseaton.github.io/TheDigitalFrontier/clustering_techniques.html\">Clustering Techniques</a> - \n",
    "<a href=\"https://wfseaton.github.io/TheDigitalFrontier/playlist_generation.html\">Playlist Generation</a> - \n",
    "<a href=\"https://wfseaton.github.io/TheDigitalFrontier/conclusion.html\">Conclusion</a> - \n",
    "<a href=\"https://wfseaton.github.io/TheDigitalFrontier/authors_gift.html\">Authors' Gift</a>\n",
    "\n",
    "-------------------------------------------------------------------------------------------------------------------"
   ]
  },
  {
   "cell_type": "markdown",
   "metadata": {},
   "source": [
    "# Leveraging Feature Importance through Dimensionality Reduction"
   ]
  },
  {
   "cell_type": "code",
   "execution_count": 145,
   "metadata": {},
   "outputs": [],
   "source": [
    "import numpy as np\n",
    "import pandas as pd\n",
    "\n",
    "from scipy.sparse import csr_matrix, save_npz\n",
    "from sklearn.decomposition import TruncatedSVD\n",
    "from sklearn.metrics.pairwise import cosine_distances\n",
    "from sklearn.feature_extraction import FeatureHasher\n",
    "from sklearn.preprocessing import MinMaxScaler\n",
    "\n",
    "import tensorflow as tf\n",
    "assert tf.__version__ == '2.0.0'\n",
    "\n",
    "from tensorflow.keras.layers import Dense, Input\n",
    "from tensorflow.keras.models import Model\n",
    "from tensorflow.keras.callbacks import EarlyStopping\n",
    "\n",
    "import matplotlib.pyplot as plt\n",
    "import seaborn as sns\n",
    "sns.set()\n",
    "%matplotlib inline"
   ]
  },
  {
   "cell_type": "markdown",
   "metadata": {},
   "source": [
    "## 1. Load and prepare songs data\n",
    "Read in the prepared dataset of songs across 200,000 playlists, with song metadata added via the Spotify API. This is the master table of song data, which we can use later for looking up information on songs, for instance when generating playlists. For the purposes of modelling, we need to convert it into a dataset of numerical predictors, do some feature engineering, and some cleaning."
   ]
  },
  {
   "cell_type": "code",
   "execution_count": 17,
   "metadata": {},
   "outputs": [
    {
     "name": "stdout",
     "output_type": "stream",
     "text": [
      "Dimensions: (999950, 25)\n"
     ]
    },
    {
     "data": {
      "text/html": [
       "<div>\n",
       "<style scoped>\n",
       "    .dataframe tbody tr th:only-of-type {\n",
       "        vertical-align: middle;\n",
       "    }\n",
       "\n",
       "    .dataframe tbody tr th {\n",
       "        vertical-align: top;\n",
       "    }\n",
       "\n",
       "    .dataframe thead th {\n",
       "        text-align: right;\n",
       "    }\n",
       "</style>\n",
       "<table border=\"1\" class=\"dataframe\">\n",
       "  <thead>\n",
       "    <tr style=\"text-align: right;\">\n",
       "      <th></th>\n",
       "      <th>artist_name</th>\n",
       "      <th>artist_uri</th>\n",
       "      <th>track_name</th>\n",
       "      <th>album_uri</th>\n",
       "      <th>duration_ms</th>\n",
       "      <th>album_name</th>\n",
       "      <th>count</th>\n",
       "      <th>track_uri</th>\n",
       "      <th>danceability</th>\n",
       "      <th>energy</th>\n",
       "      <th>...</th>\n",
       "      <th>instrumentalness</th>\n",
       "      <th>liveness</th>\n",
       "      <th>valence</th>\n",
       "      <th>tempo</th>\n",
       "      <th>time_signature</th>\n",
       "      <th>artist_genres</th>\n",
       "      <th>artist_popularity</th>\n",
       "      <th>album_genres</th>\n",
       "      <th>album_popularity</th>\n",
       "      <th>album_release_date</th>\n",
       "    </tr>\n",
       "    <tr>\n",
       "      <th>song_id</th>\n",
       "      <th></th>\n",
       "      <th></th>\n",
       "      <th></th>\n",
       "      <th></th>\n",
       "      <th></th>\n",
       "      <th></th>\n",
       "      <th></th>\n",
       "      <th></th>\n",
       "      <th></th>\n",
       "      <th></th>\n",
       "      <th></th>\n",
       "      <th></th>\n",
       "      <th></th>\n",
       "      <th></th>\n",
       "      <th></th>\n",
       "      <th></th>\n",
       "      <th></th>\n",
       "      <th></th>\n",
       "      <th></th>\n",
       "      <th></th>\n",
       "      <th></th>\n",
       "    </tr>\n",
       "  </thead>\n",
       "  <tbody>\n",
       "    <tr>\n",
       "      <th>0</th>\n",
       "      <td>Sidney Bechet's Blue Note Jazzmen</td>\n",
       "      <td>spotify:artist:2XouUSO0EAJ9gMMoHiXqMt</td>\n",
       "      <td>Muskrat Ramble</td>\n",
       "      <td>spotify:album:04hQBJ7YSuNnZ0nbuXNYbY</td>\n",
       "      <td>220293</td>\n",
       "      <td>Jazz Classics</td>\n",
       "      <td>1</td>\n",
       "      <td>spotify:track:0002yNGLtYSYtc0X6ZnFvp</td>\n",
       "      <td>0.455</td>\n",
       "      <td>0.623</td>\n",
       "      <td>...</td>\n",
       "      <td>0.903</td>\n",
       "      <td>0.6340</td>\n",
       "      <td>0.951</td>\n",
       "      <td>182.345</td>\n",
       "      <td>4</td>\n",
       "      <td>[]</td>\n",
       "      <td>18</td>\n",
       "      <td>[]</td>\n",
       "      <td>37</td>\n",
       "      <td>1993-01-01</td>\n",
       "    </tr>\n",
       "    <tr>\n",
       "      <th>159583</th>\n",
       "      <td>Sidney Bechet</td>\n",
       "      <td>spotify:artist:1RsmXc1ZqW3WBs9iwxiSwk</td>\n",
       "      <td>Blue Horizon</td>\n",
       "      <td>spotify:album:04hQBJ7YSuNnZ0nbuXNYbY</td>\n",
       "      <td>264933</td>\n",
       "      <td>Jazz Classics</td>\n",
       "      <td>5</td>\n",
       "      <td>spotify:track:1EWPMNHfdVNJwBpG9BcxXB</td>\n",
       "      <td>0.327</td>\n",
       "      <td>0.372</td>\n",
       "      <td>...</td>\n",
       "      <td>0.835</td>\n",
       "      <td>0.1530</td>\n",
       "      <td>0.380</td>\n",
       "      <td>66.036</td>\n",
       "      <td>4</td>\n",
       "      <td>['bebop', 'big band', 'cool jazz', 'dixieland'...</td>\n",
       "      <td>52</td>\n",
       "      <td>[]</td>\n",
       "      <td>37</td>\n",
       "      <td>1993-01-01</td>\n",
       "    </tr>\n",
       "    <tr>\n",
       "      <th>271702</th>\n",
       "      <td>Sidney Bechet</td>\n",
       "      <td>spotify:artist:1RsmXc1ZqW3WBs9iwxiSwk</td>\n",
       "      <td>Blame It On The Blues - Alternate Take</td>\n",
       "      <td>spotify:album:04hQBJ7YSuNnZ0nbuXNYbY</td>\n",
       "      <td>175893</td>\n",
       "      <td>Jazz Classics</td>\n",
       "      <td>1</td>\n",
       "      <td>spotify:track:26N4Y48EjprAtvlY6yWZTA</td>\n",
       "      <td>0.574</td>\n",
       "      <td>0.606</td>\n",
       "      <td>...</td>\n",
       "      <td>0.948</td>\n",
       "      <td>0.3490</td>\n",
       "      <td>0.965</td>\n",
       "      <td>101.361</td>\n",
       "      <td>4</td>\n",
       "      <td>['bebop', 'big band', 'cool jazz', 'dixieland'...</td>\n",
       "      <td>52</td>\n",
       "      <td>[]</td>\n",
       "      <td>37</td>\n",
       "      <td>1993-01-01</td>\n",
       "    </tr>\n",
       "    <tr>\n",
       "      <th>445190</th>\n",
       "      <td>Sidney Bechet</td>\n",
       "      <td>spotify:artist:1RsmXc1ZqW3WBs9iwxiSwk</td>\n",
       "      <td>Summertime</td>\n",
       "      <td>spotify:album:04hQBJ7YSuNnZ0nbuXNYbY</td>\n",
       "      <td>251906</td>\n",
       "      <td>Jazz Classics</td>\n",
       "      <td>16</td>\n",
       "      <td>spotify:track:3RlJx8xwZEyToSuGrygilr</td>\n",
       "      <td>0.608</td>\n",
       "      <td>0.138</td>\n",
       "      <td>...</td>\n",
       "      <td>0.908</td>\n",
       "      <td>0.0853</td>\n",
       "      <td>0.318</td>\n",
       "      <td>83.124</td>\n",
       "      <td>4</td>\n",
       "      <td>['bebop', 'big band', 'cool jazz', 'dixieland'...</td>\n",
       "      <td>52</td>\n",
       "      <td>[]</td>\n",
       "      <td>37</td>\n",
       "      <td>1993-01-01</td>\n",
       "    </tr>\n",
       "    <tr>\n",
       "      <th>626275</th>\n",
       "      <td>Sidney Bechet</td>\n",
       "      <td>spotify:artist:1RsmXc1ZqW3WBs9iwxiSwk</td>\n",
       "      <td>Dear Old Southland</td>\n",
       "      <td>spotify:album:04hQBJ7YSuNnZ0nbuXNYbY</td>\n",
       "      <td>243693</td>\n",
       "      <td>Jazz Classics</td>\n",
       "      <td>1</td>\n",
       "      <td>spotify:track:4qwAa1rOm8iaegHzoM1b31</td>\n",
       "      <td>0.400</td>\n",
       "      <td>0.320</td>\n",
       "      <td>...</td>\n",
       "      <td>0.842</td>\n",
       "      <td>0.1950</td>\n",
       "      <td>0.613</td>\n",
       "      <td>86.186</td>\n",
       "      <td>4</td>\n",
       "      <td>['bebop', 'big band', 'cool jazz', 'dixieland'...</td>\n",
       "      <td>52</td>\n",
       "      <td>[]</td>\n",
       "      <td>37</td>\n",
       "      <td>1993-01-01</td>\n",
       "    </tr>\n",
       "  </tbody>\n",
       "</table>\n",
       "<p>5 rows × 25 columns</p>\n",
       "</div>"
      ],
      "text/plain": [
       "                               artist_name  \\\n",
       "song_id                                      \n",
       "0        Sidney Bechet's Blue Note Jazzmen   \n",
       "159583                       Sidney Bechet   \n",
       "271702                       Sidney Bechet   \n",
       "445190                       Sidney Bechet   \n",
       "626275                       Sidney Bechet   \n",
       "\n",
       "                                    artist_uri  \\\n",
       "song_id                                          \n",
       "0        spotify:artist:2XouUSO0EAJ9gMMoHiXqMt   \n",
       "159583   spotify:artist:1RsmXc1ZqW3WBs9iwxiSwk   \n",
       "271702   spotify:artist:1RsmXc1ZqW3WBs9iwxiSwk   \n",
       "445190   spotify:artist:1RsmXc1ZqW3WBs9iwxiSwk   \n",
       "626275   spotify:artist:1RsmXc1ZqW3WBs9iwxiSwk   \n",
       "\n",
       "                                     track_name  \\\n",
       "song_id                                           \n",
       "0                                Muskrat Ramble   \n",
       "159583                             Blue Horizon   \n",
       "271702   Blame It On The Blues - Alternate Take   \n",
       "445190                               Summertime   \n",
       "626275                       Dear Old Southland   \n",
       "\n",
       "                                    album_uri  duration_ms     album_name  \\\n",
       "song_id                                                                     \n",
       "0        spotify:album:04hQBJ7YSuNnZ0nbuXNYbY       220293  Jazz Classics   \n",
       "159583   spotify:album:04hQBJ7YSuNnZ0nbuXNYbY       264933  Jazz Classics   \n",
       "271702   spotify:album:04hQBJ7YSuNnZ0nbuXNYbY       175893  Jazz Classics   \n",
       "445190   spotify:album:04hQBJ7YSuNnZ0nbuXNYbY       251906  Jazz Classics   \n",
       "626275   spotify:album:04hQBJ7YSuNnZ0nbuXNYbY       243693  Jazz Classics   \n",
       "\n",
       "         count                             track_uri  danceability  energy  \\\n",
       "song_id                                                                      \n",
       "0            1  spotify:track:0002yNGLtYSYtc0X6ZnFvp         0.455   0.623   \n",
       "159583       5  spotify:track:1EWPMNHfdVNJwBpG9BcxXB         0.327   0.372   \n",
       "271702       1  spotify:track:26N4Y48EjprAtvlY6yWZTA         0.574   0.606   \n",
       "445190      16  spotify:track:3RlJx8xwZEyToSuGrygilr         0.608   0.138   \n",
       "626275       1  spotify:track:4qwAa1rOm8iaegHzoM1b31         0.400   0.320   \n",
       "\n",
       "         ...  instrumentalness  liveness  valence    tempo  time_signature  \\\n",
       "song_id  ...                                                                 \n",
       "0        ...             0.903    0.6340    0.951  182.345               4   \n",
       "159583   ...             0.835    0.1530    0.380   66.036               4   \n",
       "271702   ...             0.948    0.3490    0.965  101.361               4   \n",
       "445190   ...             0.908    0.0853    0.318   83.124               4   \n",
       "626275   ...             0.842    0.1950    0.613   86.186               4   \n",
       "\n",
       "                                             artist_genres  artist_popularity  \\\n",
       "song_id                                                                         \n",
       "0                                                       []                 18   \n",
       "159583   ['bebop', 'big band', 'cool jazz', 'dixieland'...                 52   \n",
       "271702   ['bebop', 'big band', 'cool jazz', 'dixieland'...                 52   \n",
       "445190   ['bebop', 'big band', 'cool jazz', 'dixieland'...                 52   \n",
       "626275   ['bebop', 'big band', 'cool jazz', 'dixieland'...                 52   \n",
       "\n",
       "         album_genres  album_popularity  album_release_date  \n",
       "song_id                                                      \n",
       "0                  []                37          1993-01-01  \n",
       "159583             []                37          1993-01-01  \n",
       "271702             []                37          1993-01-01  \n",
       "445190             []                37          1993-01-01  \n",
       "626275             []                37          1993-01-01  \n",
       "\n",
       "[5 rows x 25 columns]"
      ]
     },
     "metadata": {},
     "output_type": "display_data"
    }
   ],
   "source": [
    "# Load master song table with added metadata\n",
    "master = pd.read_pickle('../data/master200.pkl')\n",
    "print('Dimensions:', master.shape)\n",
    "display(master.head())"
   ]
  },
  {
   "cell_type": "markdown",
   "metadata": {},
   "source": [
    "There are a handful of missing values in the dataset. It's only a couple of observations, so we drop those as our models and analyses will fail with NAs present."
   ]
  },
  {
   "cell_type": "code",
   "execution_count": 18,
   "metadata": {},
   "outputs": [
    {
     "name": "stdout",
     "output_type": "stream",
     "text": [
      "Removed 9 observations\n"
     ]
    }
   ],
   "source": [
    "old = master.shape\n",
    "master.dropna(axis = 0, inplace = True)\n",
    "print('Removed', old[0] - master.shape[0], 'observations')"
   ]
  },
  {
   "cell_type": "markdown",
   "metadata": {},
   "source": [
    "Convert `album_release_year` to a continuous number of the release year. The day of month or month itself of the release date is likely much less important. Should ideally treat as categorical, but this would give a *lot* of levels and not unreasonble to treat year as ordinal. "
   ]
  },
  {
   "cell_type": "code",
   "execution_count": 20,
   "metadata": {},
   "outputs": [
    {
     "name": "stdout",
     "output_type": "stream",
     "text": [
      "Artists missing genres: 17.6%\n"
     ]
    }
   ],
   "source": [
    "master['album_release_year'] = np.array(\n",
    "    [reldate[0:4] for reldate in master['album_release_date']], dtype = 'int')\n",
    "master.drop(['album_release_date'], 1, inplace = True)\n",
    "\n",
    "print('Artists missing genres: {}%'.format(\n",
    "    round(100*np.sum(master.artist_genres == '[]')/master.shape[0], 2)))"
   ]
  },
  {
   "cell_type": "markdown",
   "metadata": {},
   "source": [
    "We can simply drop a few predictors, as they either are very sparse or contain no useful information:\n",
    "- `album_genres` is always empty. Either an old field in the API that is no longer used, or data is kept secret by Spotify,. Either way it is useless to us.\n",
    "- `track_uri` is the url to the track. This is unique to each song and cannot meaningfully be treated as a numerical predictor. It is saved in the original songs data frame for reference if we need it later.\n",
    "- `album_uri` for the same reason.\n",
    "- `artist_uri` for the same reason.\n",
    "- `track_name` is textual and hard to do anything useful with unless we apply some textual data analysis or NLP, but that's out of scope for this project.\n",
    "- `artist_genres` is missing quite a few values, and varies greatly in terms of specificity and the number of genres assigned to an artist. The inconsistency would make it challenging to create useful song-level features from it, so drop that too."
   ]
  },
  {
   "cell_type": "code",
   "execution_count": 21,
   "metadata": {},
   "outputs": [],
   "source": [
    "master.drop(labels = ['album_genres', 'track_uri', 'album_uri', 'artist_uri', \n",
    "                      'track_name', 'artist_genres'], axis = 1, inplace = True)"
   ]
  },
  {
   "cell_type": "markdown",
   "metadata": {},
   "source": [
    "The remaining features of type `object` are `artist_name` and `album_name`. Again we might consider textual data analysis, but they are arguably best treated as categorical predictors, under the hypothesis that songs in the same album and/or by the same artist(s) likely fit well together.\n",
    "\n",
    "There are however over 145,000 different artists and almost 300,000 albums. If we were to simply one-hot-encode these two categorical predictors that would yield 445,000 binary indicators, which is an absurdly high number of dimensions.\n",
    "\n",
    "In light of that, it is arguably redundant to keep both the album and artist names; if a song is in the same album, most of the time it will likely also be by the same artist. By that reasoning, `artist_name` may contain the salient information about and relatedness between songs. Hence, we will keep only the `artist_name` as a categorical, as we need to reduce the dimensionality of the data."
   ]
  },
  {
   "cell_type": "code",
   "execution_count": 22,
   "metadata": {},
   "outputs": [
    {
     "name": "stdout",
     "output_type": "stream",
     "text": [
      "Unique artist names: 145623\n",
      "Unique album names: 297432\n"
     ]
    }
   ],
   "source": [
    "print('Unique artist names:', len(set(master.artist_name.values)))\n",
    "print('Unique album names:', len(set(master.album_name.values)))"
   ]
  },
  {
   "cell_type": "code",
   "execution_count": 23,
   "metadata": {},
   "outputs": [],
   "source": [
    "master.drop('album_name', axis = 1, inplace = True)"
   ]
  },
  {
   "cell_type": "markdown",
   "metadata": {},
   "source": [
    "# 2. Load and prepare song-in-playlist indicators\n",
    "Before we continue with preparing the songs data for modelling we will reduce dimensionality where appropriate by removing songs and playlists that are extremely rare, as we saw previously that there are very long tails of such cases.\n",
    "\n",
    "Start by loading in the prepared list of lists that says which song IDs each playlist in the dataset consists of."
   ]
  },
  {
   "cell_type": "code",
   "execution_count": 46,
   "metadata": {},
   "outputs": [
    {
     "name": "stdout",
     "output_type": "stream",
     "text": [
      "Playlist 0 contains 13 songs with IDs:\n",
      "[340039 125250 881533 653897  49614 356319 787744 603984 894661 461894\n",
      " 776037 810569 855793]\n"
     ]
    }
   ],
   "source": [
    "# Read list of lists: parent index is playlist ID, child index is song in that playlist\n",
    "playlists = pd.read_pickle('../data/playlists_song_ids_200.pkl')\n",
    "\n",
    "# Give each parent list a number, i.e. our internal playlist ID\n",
    "play, song = zip(*enumerate(playlists))\n",
    "print('Playlist 0 contains {} songs with IDs:\\n{}'.format(len(song[0]), song[0]))\n",
    "\n",
    "# Expand into pairs of playlist-song, i.e. 100-long playlist becomes 100 pairs\n",
    "pairs = [[z[0], s] for z in zip(play, song) for s in z[1]]\n",
    "\n",
    "# column is song ID, row is playlist ID\n",
    "col, row = zip(*pairs)\n",
    "assert len(row) == len(col)"
   ]
  },
  {
   "cell_type": "markdown",
   "metadata": {},
   "source": [
    "In order to use this information of which songs are in which playlists for modelling, we wish to store it as a matrix of indicators. The row number is our internal song ID (from 0 to the number of songs), and the column number is our internal playlist ID (from 0 to the number of playlists). Each value, or cell in the matrix, is a binary indicator saying whether that song is in that playlist.\n",
    "\n",
    "However, this would be a massive matrix of 1,000,000 rows and 200,000 columns. This is so big that the dense matrix itself would not fit in memory, let alone any calculations using it.\n",
    "\n",
    "As such, we store this matrix as a *sparse* matrix. This is an object that doesn't store the full structure, but only records coordinate positions of non-zero values. In our case, this means only storing the indicators where a given song is in a given playlist. Using the appropriate packages we can then perform calculations on sparse matrices, greatly speeding up (or making it possible at all) computations."
   ]
  },
  {
   "cell_type": "code",
   "execution_count": 53,
   "metadata": {},
   "outputs": [
    {
     "name": "stdout",
     "output_type": "stream",
     "text": [
      "Indicators matrix dimensions: (1003760, 200000)\n"
     ]
    },
    {
     "data": {
      "text/plain": [
       "<1003760x200000 sparse matrix of type '<class 'numpy.int64'>'\n",
       "\twith 13088889 stored elements in Compressed Sparse Row format>"
      ]
     },
     "execution_count": 53,
     "metadata": {},
     "output_type": "execute_result"
    }
   ],
   "source": [
    "# Create sparse matrix\n",
    "mat = csr_matrix((np.ones(len(col), dtype = 'int'), (row, col)))\n",
    "print('Indicators matrix dimensions:', mat.shape)\n",
    "mat"
   ]
  },
  {
   "cell_type": "markdown",
   "metadata": {},
   "source": [
    "When pulling song metadata some songs were removed, as the Spotify API returned no results. The songs-in-playlists indicators were created prior to that, so drop the same songs from the sparse indicator matrix for consistency."
   ]
  },
  {
   "cell_type": "code",
   "execution_count": 55,
   "metadata": {
    "scrolled": true
   },
   "outputs": [],
   "source": [
    "mat = mat[master.index.values, :]\n",
    "assert mat.shape[0] == master.shape[0]\n",
    "assert len(playlists[0]) == np.sum(mat[:, 0])"
   ]
  },
  {
   "cell_type": "markdown",
   "metadata": {},
   "source": [
    "# 3. Remove rare songs and short playlists"
   ]
  },
  {
   "cell_type": "markdown",
   "metadata": {},
   "source": [
    "Per the long tails mentioned earlier, we drop songs that appear fewer than 5 times, and playlists that contain fewer than 10 songs. This reduces the dataset from about 1,000,000 songs by 200,000 playlists to just north of 200,000 songs by about 187,000 playlists."
   ]
  },
  {
   "cell_type": "code",
   "execution_count": 73,
   "metadata": {},
   "outputs": [
    {
     "name": "stdout",
     "output_type": "stream",
     "text": [
      "Sparsity of reduced indicator matrix: 99.97220166374167%\n",
      "Reduced indicator matrix dimensions: (213675, 187313)\n",
      "Reduced songs table dimensions: (213675, 18)\n"
     ]
    }
   ],
   "source": [
    "# Indices of songs to keep\n",
    "songs_keep_ind = np.argwhere(np.sum(mat, axis = 1) >= 5)[:,0]\n",
    "\n",
    "# Reduce indicator matrix\n",
    "mat_sub = mat[songs_keep_ind, :]\n",
    "print('Sparsity of reduced indicator matrix: {}%'.format( \n",
    "      100*(1 - (np.sum(mat_sub)/(mat_sub.shape[0]*mat_sub.shape[1])))))\n",
    "\n",
    "# Indices of playlists to keep\n",
    "playlist_lengths = np.array(np.sum(mat_sub, axis = 0)).reshape((-1,))\n",
    "mat_sub = mat_sub[:, playlist_lengths >= 10]\n",
    "print('Reduced indicator matrix dimensions:', mat_sub.shape)\n",
    "\n",
    "# Reduce master songs table\n",
    "master_sub = master.iloc[songs_keep_ind, :]\n",
    "print('Reduced songs table dimensions:', master_sub.shape)\n",
    "\n",
    "# Verify that the reduced songs table and indicator matrix are consistent\n",
    "assert len(songs_keep_ind) == mat_sub.shape[0] == master_sub.shape[0]"
   ]
  },
  {
   "cell_type": "code",
   "execution_count": 76,
   "metadata": {},
   "outputs": [],
   "source": [
    "# Save reduced songs table to disk\n",
    "master_sub.to_pickle('../data/final/master_reduced.pkl')\n",
    "\n",
    "# Save reduced sparse indicator matrix to disk\n",
    "save_npz('../data/final/indicators.npz', mat_sub)"
   ]
  },
  {
   "cell_type": "markdown",
   "metadata": {},
   "source": [
    "# 4. Categorical `artist_name` levels\n",
    "Even after reducing the number of songs by almost 80% we still have over 34,000 different artists. One-hot-encoding this sole remaining categorical predictor would yield an absurdly high-dimensional space, so we need to reduce it.\n",
    "\n",
    "Considering the resulting matrix of binary indicators is based on a single categorical variable, every column is mutually exclusive with the rest. The covariance matrix will be nonsensical, hence methods like PCA are not appropriate; they may run and yield some result, but it would not be appropriate and would serve only to introduce additional noise. We considered a plethora of methods, from Multiple Correspondence Analysis (MCA) to Truncated Singular Value Decomposition (SVD), but all could be rejected on the above grounds, or were not implemented for sparse matrices and therefore were not computationally feasible."
   ]
  },
  {
   "cell_type": "code",
   "execution_count": 135,
   "metadata": {},
   "outputs": [
    {
     "name": "stdout",
     "output_type": "stream",
     "text": [
      "Unique artist names: 34241\n"
     ]
    }
   ],
   "source": [
    "print('Unique artist names:', len(set(master_sub.artist_name.values)))"
   ]
  },
  {
   "cell_type": "markdown",
   "metadata": {},
   "source": [
    "### The hashing trick\n",
    "An alternative to exploding the categorical variable into tens of thousands of binary indicators by one-hot-encoding it is to work with the text data directly. To that end, we applied the *hashing trick*. For use with high-cardinality nominal categorical data, it simply applies a hash function to the different values of the sample matrix directly, in this case our vector of artist names. Each name is a different string and wil be assigned to a separate column index, *but* we can limit the number of columns (features) in the output matrix to limit specificity and reduce dimensionality – at the expense of hash collisions (error).\n",
    "\n",
    "We certainly have a lot of hash collisions when we reduce over 30,000 unique values down to only 1,000 hash features. That being said, note that 1,000 hash features does not mean a cap of 1,000 unique values: each feature can be more than just $[0,1]$, and it is the combination of features that constitutes the hash.\n",
    "\n",
    "The idea is not to use the hash directly, as we can't invert the transformation, but rather to limit the number of hash features to try to limit dimensionality with less then corresponding loss of signal (under the assumption that collisions are more likely between similar artist names), so that we can calculate distances between hashed artist names (when clustering)."
   ]
  },
  {
   "cell_type": "code",
   "execution_count": 139,
   "metadata": {},
   "outputs": [
    {
     "name": "stdout",
     "output_type": "stream",
     "text": [
      "Example of hashed artist name for first song (first 65 hash features):\n"
     ]
    },
    {
     "data": {
      "text/plain": [
       "array([[ 0.,  0.,  0.,  0.,  0.,  0.,  0.,  0.,  0.,  0.,  0.,  0.,  0.,\n",
       "         0.,  0.,  0.,  0., -1.,  0.,  0.,  0.,  0.,  0.,  0.,  0.,  0.,\n",
       "         0.,  0.,  0.,  0.,  0.,  0.,  0.,  0.,  0.,  0.,  0.,  0.,  0.,\n",
       "         0.,  0.,  0.,  0.,  0.,  0., -1.,  0.,  0.,  0.,  0.,  0.,  0.,\n",
       "         0.,  0.,  0.,  0.,  0.,  0.,  0.,  1.,  0.,  0.,  0.,  0.,  0.]])"
      ]
     },
     "execution_count": 139,
     "metadata": {},
     "output_type": "execute_result"
    }
   ],
   "source": [
    "hasher = FeatureHasher(n_features = 1000, input_type = 'string')\n",
    "hashed_artists = hasher.fit_transform(master_sub['artist_name'].values)\n",
    "print('Example of hashed artist name for first song (first 65 hash features):')\n",
    "hashed_artists[0, 0:65].A"
   ]
  },
  {
   "cell_type": "markdown",
   "metadata": {},
   "source": [
    "# 5. Using the indicator matrix\n",
    "The reduced songs-in-playlist indicator matrix captures the co-occurrence of songs across playlists, which is presumably important information for which songs *belong* together in playlists. We wish to use this important information in our playlist generation, but there are two significant challenges:\n",
    "- The indicator matrix is extremely high-dimensional as we have about 190,000 playlists remaining, and therefore as many columns in the indicator matrix. \n",
    "- It is extremely sparse, as most playlists have between 10 and 100 songs, but there are over 200,000 songs – and therefore nearly as many zeros in each playlist vector.\n",
    "\n",
    "### Option A - Matrix decomposition\n",
    "If we wish to perform calculations across the playlists, for instance to use as features in a clustering model or a supervised prediction model, we need to reduce dimensionality. Many methods will be prohibitively expensive as they expand the full matrix and perform matrix-wide operations, such as for calculating eigenvectors. For example PCA is not an alternative, as it runs out of memory. Furthermore, even if a method runs, the extreme sparsity will mean that the results of most are meaningless.\n",
    "\n",
    "An example of an alternative method is **Truncated Singular Value Decomposition (SVD)**, a variant of SVD that performs linear dimensionality reduction by only computing the user-specified number of largest singular values. It is very similar to PCA, but is better suited to large sparse matrices as it performs computations directly on sample matrices rather than their covariance matrices, and therefore does not need to first densify the sparse matrix.\n",
    "\n",
    "However, even after solving the computational challenge, we found that the indicator matrix sparsity is so great that matrix decomposition is not effective. Even with a very high number of components or remaining dimensions – which even defeats the purpose of dimensionality reduction – the explained variance is very low. It is in other words not practical to reduce dimensionality without losing too much information."
   ]
  },
  {
   "cell_type": "code",
   "execution_count": 84,
   "metadata": {},
   "outputs": [
    {
     "name": "stdout",
     "output_type": "stream",
     "text": [
      "Explained variance with 1000 components: 30.361%\n"
     ]
    }
   ],
   "source": [
    "tsvd = TruncatedSVD(n_components = 1000, n_iter = 10, random_state = 42)\n",
    "\n",
    "tsvd.fit(mat_sub)\n",
    "\n",
    "print('Explained variance with {} components: {}%'.format(\n",
    "    len(tsvd.explained_variance_ratio_), \n",
    "    round(100*np.cumsum(tsvd.explained_variance_ratio_)[-1], 3)))"
   ]
  },
  {
   "cell_type": "markdown",
   "metadata": {},
   "source": [
    "### Option B: Vector distances\n",
    "\n",
    "Rather than trying to boil the almost 200,000 dimensions down into a lower-dimensional sub-space, we keep the matrix as-is and use it directly to calculate distances between vectors. \n",
    "\n",
    "Each row in the matrix reflects a song in playlist space, hence the distance between two such vectors is a measure of how frequently those two songs occur in the same playlists. Similarly, each column is a playlist in songs space, so that more similar playlists – in terms of the songs they include – are reflected by a shorter distance between those two vectors.\n",
    "\n",
    "The size and sparsity of the indicator matrix is again a challenge, but fortunately `scikit-learn` has a set of functions for calculating pairwise distances between vectors that is specifically engineered for sparse matrices. Two natural options are *Euclidean* distance (straight-line distance between vectors) and *Cosine* distance (angle between vectors).\n",
    "\n",
    "For example, we can calculate the pairwise cosine distance between one song and all the others in playlist space – i.e. given a song, we find the closest songs based on co-occurrence across the playlists."
   ]
  },
  {
   "cell_type": "code",
   "execution_count": 134,
   "metadata": {},
   "outputs": [
    {
     "name": "stdout",
     "output_type": "stream",
     "text": [
      "Cosine distance between song #0 and closest 4 across playlists:\n",
      " 0.0 0.7113248654051871 0.7226499018873854 0.7327387580875756 0.75\n"
     ]
    },
    {
     "data": {
      "text/html": [
       "<div>\n",
       "<style scoped>\n",
       "    .dataframe tbody tr th:only-of-type {\n",
       "        vertical-align: middle;\n",
       "    }\n",
       "\n",
       "    .dataframe tbody tr th {\n",
       "        vertical-align: top;\n",
       "    }\n",
       "\n",
       "    .dataframe thead th {\n",
       "        text-align: right;\n",
       "    }\n",
       "</style>\n",
       "<table border=\"1\" class=\"dataframe\">\n",
       "  <thead>\n",
       "    <tr style=\"text-align: right;\">\n",
       "      <th></th>\n",
       "      <th>artist_name</th>\n",
       "      <th>count</th>\n",
       "      <th>danceability</th>\n",
       "      <th>energy</th>\n",
       "      <th>artist_popularity</th>\n",
       "      <th>album_popularity</th>\n",
       "      <th>album_release_year</th>\n",
       "    </tr>\n",
       "    <tr>\n",
       "      <th>song_id</th>\n",
       "      <th></th>\n",
       "      <th></th>\n",
       "      <th></th>\n",
       "      <th></th>\n",
       "      <th></th>\n",
       "      <th></th>\n",
       "      <th></th>\n",
       "    </tr>\n",
       "  </thead>\n",
       "  <tbody>\n",
       "    <tr>\n",
       "      <th>159583</th>\n",
       "      <td>Sidney Bechet</td>\n",
       "      <td>5</td>\n",
       "      <td>0.327</td>\n",
       "      <td>0.372</td>\n",
       "      <td>52</td>\n",
       "      <td>37</td>\n",
       "      <td>1993</td>\n",
       "    </tr>\n",
       "    <tr>\n",
       "      <th>967165</th>\n",
       "      <td>Lee Morgan</td>\n",
       "      <td>5</td>\n",
       "      <td>0.658</td>\n",
       "      <td>0.521</td>\n",
       "      <td>51</td>\n",
       "      <td>33</td>\n",
       "      <td>1965</td>\n",
       "    </tr>\n",
       "    <tr>\n",
       "      <th>644240</th>\n",
       "      <td>J.J. Johnson</td>\n",
       "      <td>16</td>\n",
       "      <td>0.466</td>\n",
       "      <td>0.395</td>\n",
       "      <td>37</td>\n",
       "      <td>28</td>\n",
       "      <td>1989</td>\n",
       "    </tr>\n",
       "    <tr>\n",
       "      <th>265945</th>\n",
       "      <td>Ornette Coleman</td>\n",
       "      <td>14</td>\n",
       "      <td>0.467</td>\n",
       "      <td>0.316</td>\n",
       "      <td>40</td>\n",
       "      <td>36</td>\n",
       "      <td>1959</td>\n",
       "    </tr>\n",
       "    <tr>\n",
       "      <th>141906</th>\n",
       "      <td>Sidney Bechet</td>\n",
       "      <td>5</td>\n",
       "      <td>0.597</td>\n",
       "      <td>0.498</td>\n",
       "      <td>52</td>\n",
       "      <td>43</td>\n",
       "      <td>1994</td>\n",
       "    </tr>\n",
       "  </tbody>\n",
       "</table>\n",
       "</div>"
      ],
      "text/plain": [
       "             artist_name  count  danceability  energy  artist_popularity  \\\n",
       "song_id                                                                    \n",
       "159583     Sidney Bechet      5         0.327   0.372                 52   \n",
       "967165        Lee Morgan      5         0.658   0.521                 51   \n",
       "644240      J.J. Johnson     16         0.466   0.395                 37   \n",
       "265945   Ornette Coleman     14         0.467   0.316                 40   \n",
       "141906     Sidney Bechet      5         0.597   0.498                 52   \n",
       "\n",
       "         album_popularity  album_release_year  \n",
       "song_id                                        \n",
       "159583                 37                1993  \n",
       "967165                 33                1965  \n",
       "644240                 28                1989  \n",
       "265945                 36                1959  \n",
       "141906                 43                1994  "
      ]
     },
     "execution_count": 134,
     "metadata": {},
     "output_type": "execute_result"
    }
   ],
   "source": [
    "cos_dist = cosine_distances(mat_sub, mat_sub[0, :]).flatten()\n",
    "print('Cosine distance between song #0 and closest 4 across playlists:\\n', *np.sort(cos_dist)[0:5])\n",
    "master_sub.iloc[np.argsort(cos_dist)[0:5], [0, 2, 3, 4, 15, 16, 17]]"
   ]
  },
  {
   "cell_type": "markdown",
   "metadata": {},
   "source": [
    "Rather than using this information as features in our clustering or trying to reduce the dimensionality, we use such distandce metrics to weight similarity of songs within clusters and to judge the quality of generated playlists compared to the existing playlists that are most similar in terms of the songs included."
   ]
  },
  {
   "cell_type": "markdown",
   "metadata": {},
   "source": [
    "# 6. Scaling the numerical features\n",
    "Prior to clustering, we must rescale the numerical features, as distance metrics used by clustering algorithms are highly sensitive to different distance units.\n",
    "\n",
    "To that end we *normalise*, or apply *min-max* scaling, to the continuous numerical features and hashed artist names. Technically the hash should persists after min-max scaling, but even if not, we are more interested in differences between artist hashes than their scale.\n",
    "\n",
    "Since this is an unsupervised problem and our aim is to generate playlists, there is no need for a train/test split, hence we normalise the dataset based on all the observations."
   ]
  },
  {
   "cell_type": "code",
   "execution_count": 141,
   "metadata": {},
   "outputs": [],
   "source": [
    "# Normalise continuous numerical features\n",
    "master_sub_cont = master_sub.drop(['artist_name'], axis = 1)\n",
    "scaled_cont = MinMaxScaler().fit_transform(master_sub_cont)\n",
    "\n",
    "assert np.sum(np.amax(scaled_cont, axis = 0)) == master_sub_cont.shape[1]\n",
    "assert np.sum(np.amin(scaled_cont, axis = 0)) == 0\n",
    "\n",
    "# Normalise hashed artist names\n",
    "scaled_artist = MinMaxScaler().fit_transform(hashed_artists.A)"
   ]
  },
  {
   "cell_type": "markdown",
   "metadata": {},
   "source": [
    "# 7. Autoencoder\n",
    "\n",
    "Autoencoders are a type of neural network that aim to replicate the input by learning the most salient features of the input data while ignoring noise. Autoencoders achieve this by ingesting data through the input layer (which is the widest layer), \"encoding\" the data through the subsequently narrowing layers, and then \"decoding\" the data through subsequently widening layers. \n",
    "\n",
    "The narrowest layer in the middle contains only the most salient features of the data. The decoding layers attempt to recreate the input data using only these salient features. The output from the output layer is the network's representation of the input data.\n",
    "\n",
    "We use autoencoders here as a technique to find clusters amongst our songs. Having trained the network to recreate the input data, we can \"chop off\" the network at its narrowest point. The middle layer has been trained to output the most salient features of the data. We use this output to define our clusters.\n",
    "\n",
    "References:\n",
    "\n",
    "1) https://www.dlology.com/blog/how-to-do-unsupervised-clustering-with-keras/\n",
    "\n",
    "2) https://www.analyticsvidhya.com/blog/2018/05/essentials-of-deep-learning-trudging-into-unsupervised-deep-learning/\n",
    "\n",
    "---\n",
    "\n",
    "\n",
    "We have two sets of numerical variables: the continuous numerical data, now min-max scaled, and the hashed artist names, also min-max scaled. Combining them with a uniformly weighted loss would mean the former get drowned out by the latter, as all mistakes are penalised equally but there are far more dimensions to the hashed artists. At the same time we expect the original continuous numerical variables to be more important, so this would be highly undesirable.\n",
    "\n",
    "As such it seems more appropriate to fit separate autoencoders to the continuous variables and the hashed features.\n",
    "\n",
    "### Autoencoder: continuous numerical data\n",
    "The autencoder has an input layer with the same number of nodes as there are continuous numerical variables in the dataset – as usual. It has two wide layers that process the raw inputs using ReLU activation, followed by a final encoding layer that compresses it down into 5 dimensions. The encoding layer, or bottleneck, has a sigmoid activation in order to constrain the range of values in the lower-dimensional space to the range $(0,1)$.\n",
    "\n",
    "The number of dimensions in the compressed space is a trade-off between allowing the network sufficient representational power to accurately reconstruct the raw inputs, while forcing it to pick out the salient features and relationships in order to generalise. It therefore also has a regularising effect, such that there is little need for extra regularisation in the form of L1 or L2 kernel penalisation, dropout, and/or batch normalisation. The bottleneck itself imposes significant bias on the network topology.\n",
    "\n",
    "Considering the large number of observations, a $10%$ validation set is more than enough for a reliable estimate of out-of-sample performance. It is worth noting that this validation set was part of the set on which the normalisation scaler was fitted, so there is potentially some information bleed here, but the size of the dataset and homogeneity of predictor values makes this negligible."
   ]
  },
  {
   "cell_type": "code",
   "execution_count": 167,
   "metadata": {},
   "outputs": [
    {
     "name": "stdout",
     "output_type": "stream",
     "text": [
      "Model: \"model_7\"\n",
      "_________________________________________________________________\n",
      "Layer (type)                 Output Shape              Param #   \n",
      "=================================================================\n",
      "input_7 (InputLayer)         [(None, 17)]              0         \n",
      "_________________________________________________________________\n",
      "dense_28 (Dense)             (None, 500)               9000      \n",
      "_________________________________________________________________\n",
      "dense_29 (Dense)             (None, 500)               250500    \n",
      "_________________________________________________________________\n",
      "dense_30 (Dense)             (None, 5)                 2505      \n",
      "_________________________________________________________________\n",
      "dense_31 (Dense)             (None, 500)               3000      \n",
      "_________________________________________________________________\n",
      "dense_32 (Dense)             (None, 500)               250500    \n",
      "_________________________________________________________________\n",
      "dense_33 (Dense)             (None, 17)                8517      \n",
      "=================================================================\n",
      "Total params: 524,022\n",
      "Trainable params: 524,022\n",
      "Non-trainable params: 0\n",
      "_________________________________________________________________\n"
     ]
    }
   ],
   "source": [
    "inputs = Input(shape = (scaled_cont.shape[1],))\n",
    "\n",
    "encoder = Dense(500, activation = 'relu')(inputs)\n",
    "encoder = Dense(500, activation = 'relu')(encoder)\n",
    "\n",
    "# Compress into much lower-dimensional space\n",
    "# Force lower-dimensional representation values between [0, 1] (like minmax)\n",
    "encoder = Dense(5, activation = 'sigmoid')(encoder)\n",
    "\n",
    "# Lossy decompression\n",
    "decoder = Dense(500, activation = 'relu')(encoder)\n",
    "decoder = Dense(500, activation = 'relu')(decoder)\n",
    "decoder = Dense(scaled_cont.shape[1])(decoder)\n",
    "\n",
    "# Autoencoder maps raw input to lossy reconstruction\n",
    "autoencoder = Model(inputs, decoder)\n",
    "\n",
    "autoencoder.summary()"
   ]
  },
  {
   "cell_type": "code",
   "execution_count": 43,
   "metadata": {},
   "outputs": [
    {
     "data": {
      "text/plain": [
       "<matplotlib.legend.Legend at 0x1b0047c7f0>"
      ]
     },
     "execution_count": 43,
     "metadata": {},
     "output_type": "execute_result"
    },
    {
     "data": {
      "image/png": "[encoded data removed]",
      "text/plain": [
       "<Figure size 864x576 with 1 Axes>"
      ]
     },
     "metadata": {
      "needs_background": "light"
     },
     "output_type": "display_data"
    }
   ],
   "source": [
    "autoencoder.compile(optimizer = 'adam', loss = 'mse')\n",
    "\n",
    "reconstruct_cont = autoencoder.fit(\n",
    "    scaled_cont, # Data is input,\n",
    "    scaled_cont, # and output: try to reconstruct accurately\n",
    "    epochs = 100,\n",
    "    batch_size = 128,\n",
    "    validation_split = 0.1,\n",
    "    callbacks = [EarlyStopping(monitor='val_loss', mode='min', verbose=1, patience=5)],\n",
    "    verbose = 0\n",
    ")\n",
    "\n",
    "plt.figure(figsize = (12, 8))\n",
    "plt.plot(reconstruct_cont.history['loss'], c = 'blue', label = 'Train')\n",
    "plt.plot(reconstruct_cont.history['val_loss'], c = 'orange', label = 'Validation')\n",
    "plt.title('Reconstruction Error (MSE) vs Epochs', fontsize = 14)\n",
    "plt.ylabel('Mean Squared Error')\n",
    "plt.xlabel('Epochs')\n",
    "plt.legend()"
   ]
  },
  {
   "cell_type": "markdown",
   "metadata": {},
   "source": [
    "Training of the autoencoder is stopped after $44$ epochs, as validation loss is no longer improving. After fitting is complete we extract the encoder, i.e. the first half of the neural network up to and including the narrow layer bottleneck, which maps raw inputs to their compressed representation. \n",
    "\n",
    "Using that sub-network to run predict on the raw minmax-scaled continuous data we get the compressed representation. The resulting matrix with five dimensions is saved to disk, so that we can cluster on it."
   ]
  },
  {
   "cell_type": "code",
   "execution_count": 45,
   "metadata": {},
   "outputs": [
    {
     "data": {
      "text/plain": [
       "(213675, 5)"
      ]
     },
     "execution_count": 45,
     "metadata": {},
     "output_type": "execute_result"
    }
   ],
   "source": [
    "# Extract the encoder: maps raw inputs to their compressed representation\n",
    "encoder = Model(inputs, encoder)\n",
    "\n",
    "# Get compressed dataset of continuous numerical variables\n",
    "auto = encoder.predict(scaled_cont)\n",
    "\n",
    "# Save to disk\n",
    "np.save('../data/final/encoded_cont_5wide', auto)\n",
    "\n",
    "# Print dimensions for verification\n",
    "auto.shape"
   ]
  },
  {
   "cell_type": "markdown",
   "metadata": {},
   "source": [
    "### Autoencoder: hashed artists\n",
    "For artist names a validation split of $10\\%$ may seem low. However, we have 30,000 unique artist names across 200,000 observations, captured by 1,000 hashed features, so if the validation set is too large it will contain many observations that are the only observations of some artist hashes. This would reduce the overall effectiveness of the autoencoder at capturing as much of the salient information as possible in its compressed space. As such, we still use $10\\%$ of the observations for validation, which still gives 20,000 observations and should be plenty to representatively evaluate out-of-sample performance.\n",
    "\n",
    "After some experimentation the encoding layer now outputs $20$ dimensions rather than $5$, in order to strike a better balance between compression and accuracy in this much higher-dimensional input space (1,000 hashed artist names versus $17$ continuous variables)."
   ]
  },
  {
   "cell_type": "code",
   "execution_count": 55,
   "metadata": {},
   "outputs": [
    {
     "data": {
      "text/plain": [
       "<matplotlib.legend.Legend at 0x1ac477d438>"
      ]
     },
     "execution_count": 55,
     "metadata": {},
     "output_type": "execute_result"
    },
    {
     "data": {
      "image/png": "[encoded data removed]",
      "text/plain": [
       "<Figure size 864x576 with 1 Axes>"
      ]
     },
     "metadata": {
      "needs_background": "light"
     },
     "output_type": "display_data"
    }
   ],
   "source": [
    "inputs = Input(shape = (scaled_artist.shape[1],))\n",
    "\n",
    "encoder = Dense(500, activation = 'relu')(inputs)\n",
    "encoder = Dense(500, activation = 'relu')(encoder)\n",
    "encoder = Dense(20, activation = 'sigmoid')(encoder)\n",
    "decoder = Dense(500, activation = 'relu')(encoder)\n",
    "decoder = Dense(500, activation = 'relu')(decoder)\n",
    "decoder = Dense(scaled_artist.shape[1])(decoder)\n",
    "\n",
    "autoencoder = Model(inputs, decoder)\n",
    "\n",
    "autoencoder.compile(optimizer = 'adam', loss = 'mse')\n",
    "\n",
    "reconstruct_artist = autoencoder.fit(\n",
    "    scaled_artist,\n",
    "    scaled_artist,\n",
    "    epochs = 100,\n",
    "    batch_size = 128,\n",
    "    validation_split = 0.1,\n",
    "    callbacks = [EarlyStopping(monitor='val_loss', mode='min', verbose=1, patience=5)],\n",
    "    verbose = 0\n",
    ")\n",
    "\n",
    "plt.figure(figsize = (12, 8))\n",
    "plt.plot(reconstruct_artist.history['loss'], c = 'blue', label = 'Train')\n",
    "plt.plot(reconstruct_artist.history['val_loss'], c = 'orange', label = 'Validation')\n",
    "plt.title('Reconstruction Error (MSE) vs Epochs', fontsize = 14)\n",
    "plt.ylabel('Mean Squared Error')\n",
    "plt.xlabel('Epochs')\n",
    "plt.legend()"
   ]
  },
  {
   "cell_type": "markdown",
   "metadata": {},
   "source": [
    "As before early stopping is triggered, this time after 50 epochs. The loss is *very* low, but this is arguably more because there is a mean of one value $1$ across 1,000 dimensions per observation. The network has no context with which to encode artist hashes into a lower-dimensional space, and is working with extremely sparse data, so this is a virtually impossible task. Spot checks revealed that it was generally performing poorly at the task of reconstructing the normalised hashes, despite what the plot and training history would suggest. Hence, this autoencoder and its constituent encoder was discarded for the rest of the project."
   ]
  },
  {
   "cell_type": "code",
   "execution_count": null,
   "metadata": {},
   "outputs": [],
   "source": []
  }
 ],
 "metadata": {
  "kernelspec": {
   "display_name": "Python 3",
   "language": "python",
   "name": "python3"
  },
  "language_info": {
   "codemirror_mode": {
    "name": "ipython",
    "version": 3
   },
   "file_extension": ".py",
   "mimetype": "text/x-python",
   "name": "python",
   "nbconvert_exporter": "python",
   "pygments_lexer": "ipython3",
   "version": "3.7.5"
  }
 },
 "nbformat": 4,
 "nbformat_minor": 2
}
