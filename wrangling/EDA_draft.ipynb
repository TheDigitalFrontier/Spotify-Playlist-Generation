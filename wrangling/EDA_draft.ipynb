{
 "cells": [
  {
   "cell_type": "code",
   "execution_count": null,
   "metadata": {},
   "outputs": [],
   "source": [
    "import seaborn as sns\n",
    "genres = []\n",
    "for obs in artists['artist_genres'][0:10]:\n",
    "    temp = obs.split('\\'')\n",
    "    for x in temp:\n",
    "        temp2 = x.split(\" \")\n",
    "        for y in temp2:\n",
    "            genres.append(y)\n",
    "print(genres)\n",
    "plt.subplots(1,1,figsize=(20,10))\n",
    "chart = sns.countplot(genres, orient=\"h\")\n",
    "chart.set_xticklabels(chart.get_xticklabels(), rotation=45, horizontalalignment='right');"
   ]
  }
 ],
 "metadata": {
  "kernelspec": {
   "display_name": "Python 3",
   "language": "python",
   "name": "python3"
  },
  "language_info": {
   "codemirror_mode": {
    "name": "ipython",
    "version": 3
   },
   "file_extension": ".py",
   "mimetype": "text/x-python",
   "name": "python",
   "nbconvert_exporter": "python",
   "pygments_lexer": "ipython3",
   "version": "3.7.5"
  }
 },
 "nbformat": 4,
 "nbformat_minor": 2
}
