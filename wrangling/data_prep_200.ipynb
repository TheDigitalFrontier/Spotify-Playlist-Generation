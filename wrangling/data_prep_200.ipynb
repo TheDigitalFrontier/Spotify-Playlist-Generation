{
 "cells": [
  {
   "cell_type": "code",
   "execution_count": 1,
   "metadata": {},
   "outputs": [],
   "source": [
    "import numpy as np\n",
    "import pandas as pd\n",
    "\n",
    "import matplotlib.pyplot as plt\n",
    "import seaborn as sns\n",
    "\n",
    "from os import listdir\n",
    "from os.path import isfile, join\n",
    "\n",
    "import time\n",
    "\n",
    "sns.set()"
   ]
  },
  {
   "cell_type": "markdown",
   "metadata": {},
   "source": [
    "Spot check an individual songs file to explore its format and data."
   ]
  },
  {
   "cell_type": "code",
   "execution_count": 2,
   "metadata": {},
   "outputs": [],
   "source": [
    "df = pd.read_csv('../data/Songs/songs285.csv')"
   ]
  },
  {
   "cell_type": "code",
   "execution_count": 3,
   "metadata": {},
   "outputs": [
    {
     "name": "stdout",
     "output_type": "stream",
     "text": [
      "(64928, 9)\n"
     ]
    },
    {
     "data": {
      "text/plain": [
       "['pid',\n",
       " 'pos',\n",
       " 'artist_name',\n",
       " 'track_uri',\n",
       " 'artist_uri',\n",
       " 'track_name',\n",
       " 'album_uri',\n",
       " 'duration_ms',\n",
       " 'album_name']"
      ]
     },
     "execution_count": 3,
     "metadata": {},
     "output_type": "execute_result"
    }
   ],
   "source": [
    "print(df.shape)\n",
    "list(df.columns)"
   ]
  },
  {
   "cell_type": "markdown",
   "metadata": {},
   "source": [
    "This is a *lot* of data: ball-park $65,000$ rows in $1,000$ files, totaling around $65,000,000$ observations – or songs in playlists, many of which are certainly repeated."
   ]
  },
  {
   "cell_type": "code",
   "execution_count": 4,
   "metadata": {},
   "outputs": [
    {
     "data": {
      "text/html": [
       "<div>\n",
       "<style scoped>\n",
       "    .dataframe tbody tr th:only-of-type {\n",
       "        vertical-align: middle;\n",
       "    }\n",
       "\n",
       "    .dataframe tbody tr th {\n",
       "        vertical-align: top;\n",
       "    }\n",
       "\n",
       "    .dataframe thead th {\n",
       "        text-align: right;\n",
       "    }\n",
       "</style>\n",
       "<table border=\"1\" class=\"dataframe\">\n",
       "  <thead>\n",
       "    <tr style=\"text-align: right;\">\n",
       "      <th></th>\n",
       "      <th>pid</th>\n",
       "      <th>pos</th>\n",
       "      <th>artist_name</th>\n",
       "      <th>track_uri</th>\n",
       "      <th>artist_uri</th>\n",
       "      <th>track_name</th>\n",
       "      <th>album_uri</th>\n",
       "      <th>duration_ms</th>\n",
       "      <th>album_name</th>\n",
       "    </tr>\n",
       "  </thead>\n",
       "  <tbody>\n",
       "    <tr>\n",
       "      <td>0</td>\n",
       "      <td>0</td>\n",
       "      <td>0</td>\n",
       "      <td>Deftones</td>\n",
       "      <td>spotify:track:4rEGJ9KirDlKiOHxqVwcVg</td>\n",
       "      <td>spotify:artist:6Ghvu1VvMGScGpOUJBAHNH</td>\n",
       "      <td>Sextape</td>\n",
       "      <td>spotify:album:4RQnFSkkZlA65Xxchhnaha</td>\n",
       "      <td>241533</td>\n",
       "      <td>Diamond Eyes</td>\n",
       "    </tr>\n",
       "    <tr>\n",
       "      <td>1</td>\n",
       "      <td>0</td>\n",
       "      <td>1</td>\n",
       "      <td>Muse</td>\n",
       "      <td>spotify:track:0It6VJoMAare1zdV2wxqZq</td>\n",
       "      <td>spotify:artist:12Chz98pHFMPJEknJQMWvI</td>\n",
       "      <td>Undisclosed Desires</td>\n",
       "      <td>spotify:album:0eFHYz8NmK75zSplL5qlfM</td>\n",
       "      <td>235000</td>\n",
       "      <td>The Resistance</td>\n",
       "    </tr>\n",
       "    <tr>\n",
       "      <td>2</td>\n",
       "      <td>0</td>\n",
       "      <td>2</td>\n",
       "      <td>Pearl Jam</td>\n",
       "      <td>spotify:track:0LBmvPJYmtEJ7kkWvc3kbT</td>\n",
       "      <td>spotify:artist:1w5Kfo2jwwIPruYS2UWh56</td>\n",
       "      <td>Oceans</td>\n",
       "      <td>spotify:album:5B4PYA7wNN4WdEXdIJu58a</td>\n",
       "      <td>161893</td>\n",
       "      <td>Ten</td>\n",
       "    </tr>\n",
       "    <tr>\n",
       "      <td>3</td>\n",
       "      <td>0</td>\n",
       "      <td>3</td>\n",
       "      <td>My Chemical Romance</td>\n",
       "      <td>spotify:track:0uukw2CgEIApv4IWAjXrBC</td>\n",
       "      <td>spotify:artist:7FBcuc1gsnv6Y1nwFtNRCb</td>\n",
       "      <td>Dead!</td>\n",
       "      <td>spotify:album:0FZK97MXMm5mUQ8mtudjuK</td>\n",
       "      <td>195520</td>\n",
       "      <td>The Black Parade</td>\n",
       "    </tr>\n",
       "    <tr>\n",
       "      <td>4</td>\n",
       "      <td>0</td>\n",
       "      <td>4</td>\n",
       "      <td>Red Hot Chili Peppers</td>\n",
       "      <td>spotify:track:1iFIZUVDBCCkWe705FLXto</td>\n",
       "      <td>spotify:artist:0L8ExT028jH3ddEcZwqJJ5</td>\n",
       "      <td>Dosed</td>\n",
       "      <td>spotify:album:6deiaArbeoqp1xPEGdEKp1</td>\n",
       "      <td>311866</td>\n",
       "      <td>By The Way</td>\n",
       "    </tr>\n",
       "  </tbody>\n",
       "</table>\n",
       "</div>"
      ],
      "text/plain": [
       "   pid  pos            artist_name                             track_uri  \\\n",
       "0    0    0               Deftones  spotify:track:4rEGJ9KirDlKiOHxqVwcVg   \n",
       "1    0    1                   Muse  spotify:track:0It6VJoMAare1zdV2wxqZq   \n",
       "2    0    2              Pearl Jam  spotify:track:0LBmvPJYmtEJ7kkWvc3kbT   \n",
       "3    0    3    My Chemical Romance  spotify:track:0uukw2CgEIApv4IWAjXrBC   \n",
       "4    0    4  Red Hot Chili Peppers  spotify:track:1iFIZUVDBCCkWe705FLXto   \n",
       "\n",
       "                              artist_uri           track_name  \\\n",
       "0  spotify:artist:6Ghvu1VvMGScGpOUJBAHNH              Sextape   \n",
       "1  spotify:artist:12Chz98pHFMPJEknJQMWvI  Undisclosed Desires   \n",
       "2  spotify:artist:1w5Kfo2jwwIPruYS2UWh56               Oceans   \n",
       "3  spotify:artist:7FBcuc1gsnv6Y1nwFtNRCb                Dead!   \n",
       "4  spotify:artist:0L8ExT028jH3ddEcZwqJJ5                Dosed   \n",
       "\n",
       "                              album_uri  duration_ms        album_name  \n",
       "0  spotify:album:4RQnFSkkZlA65Xxchhnaha       241533      Diamond Eyes  \n",
       "1  spotify:album:0eFHYz8NmK75zSplL5qlfM       235000    The Resistance  \n",
       "2  spotify:album:5B4PYA7wNN4WdEXdIJu58a       161893               Ten  \n",
       "3  spotify:album:0FZK97MXMm5mUQ8mtudjuK       195520  The Black Parade  \n",
       "4  spotify:album:6deiaArbeoqp1xPEGdEKp1       311866        By The Way  "
      ]
     },
     "execution_count": 4,
     "metadata": {},
     "output_type": "execute_result"
    }
   ],
   "source": [
    "df.head()"
   ]
  },
  {
   "cell_type": "code",
   "execution_count": 5,
   "metadata": {},
   "outputs": [
    {
     "data": {
      "text/plain": [
       "pid\n",
       "10     22\n",
       "11     63\n",
       "12    212\n",
       "13     12\n",
       "14     11\n",
       "15     25\n",
       "16     96\n",
       "17     24\n",
       "18      9\n",
       "19    165\n",
       "Name: track_uri, dtype: int64"
      ]
     },
     "execution_count": 5,
     "metadata": {},
     "output_type": "execute_result"
    }
   ],
   "source": [
    "# Some very different playlist lengths\n",
    "df.groupby('pid')['track_uri'].nunique()[10:20]"
   ]
  },
  {
   "cell_type": "markdown",
   "metadata": {},
   "source": [
    "Every file seems to be an arbitrary-length list of playlists, each of which has an id `pid` (scoped to that file) and an arbitrary-length list of songs, each with a position id `pos` in that playlist. For each song, the `artist_name`, `track_uri`, `artist_uri`, `track_name`, `album_uri`, `duration_ms`, and `album_name` are all stored. Most of these are repeated every time a song is repeated (within and across files), so there is a lot of room for simplification here. Furthermore, any URI is effectively a unique identified for the song, artist, or album, and can be used as such.\n",
    "\n",
    "$1,000$ playlist files, as expected."
   ]
  },
  {
   "cell_type": "code",
   "execution_count": 6,
   "metadata": {},
   "outputs": [
    {
     "name": "stdout",
     "output_type": "stream",
     "text": [
      "1000\n"
     ]
    },
    {
     "data": {
      "text/plain": [
       "['songs284.csv', 'songs290.csv', 'songs247.csv']"
      ]
     },
     "execution_count": 6,
     "metadata": {},
     "output_type": "execute_result"
    }
   ],
   "source": [
    "all_files = listdir('../data/Songs')\n",
    "print(len(all_files))\n",
    "all_files[0:3]"
   ]
  },
  {
   "cell_type": "markdown",
   "metadata": {},
   "source": [
    "### Structuring the data\n",
    "A reasonable first step to slim down the size of the dataset without losing information or fidelity, is to parse through all the files to create a reference table/file of all songs and their metadata. Each playlist can then be stored as a simple named object, where the name is the overall playlist id and its value a vector of song ids."
   ]
  },
  {
   "cell_type": "markdown",
   "metadata": {},
   "source": [
    "### Looping over all our files to fill out the master DataFrame (songs) and Series (playlists)"
   ]
  },
  {
   "cell_type": "code",
   "execution_count": 17,
   "metadata": {
    "scrolled": false
   },
   "outputs": [
    {
     "name": "stdout",
     "output_type": "stream",
     "text": [
      "25/200 -- 28.84281301498413 s\n",
      "   Consolidation: 2.741060733795166 s\n"
     ]
    },
    {
     "name": "stderr",
     "output_type": "stream",
     "text": [
      "//anaconda3/envs/ac209a/lib/python3.7/site-packages/pandas/core/frame.py:7123: FutureWarning: Sorting because non-concatenation axis is not aligned. A future version\n",
      "of pandas will change to not sort by default.\n",
      "\n",
      "To accept the future behavior, pass 'sort=False'.\n",
      "\n",
      "To retain the current behavior and silence the warning, pass 'sort=True'.\n",
      "\n",
      "  sort=sort,\n"
     ]
    },
    {
     "name": "stdout",
     "output_type": "stream",
     "text": [
      "50/200 -- 47.54296398162842 s\n",
      "   Consolidation: 4.794252872467041 s\n",
      "75/200 -- 51.14710998535156 s\n",
      "   Consolidation: 5.952292203903198 s\n",
      "100/200 -- 61.163079023361206 s\n",
      "   Consolidation: 7.0074687004089355 s\n",
      "125/200 -- 70.34738993644714 s\n",
      "   Consolidation: 9.418751001358032 s\n",
      "150/200 -- 75.32100200653076 s\n",
      "   Consolidation: 8.680530071258545 s\n",
      "175/200 -- 80.10952401161194 s\n",
      "   Consolidation: 10.126471281051636 s\n",
      "200/200 -- 83.53081130981445 s\n",
      "   Consolidation: 10.37688398361206 s\n",
      "--- 508.3829379081726 seconds ---\n"
     ]
    }
   ],
   "source": [
    "start_time = time.time()\n",
    "loop_start = time.time()\n",
    "\n",
    "# List of all files\n",
    "all_files = listdir('../data/Songs')\n",
    "# Ditch half the playlists; 500,000 playlists is plenty\n",
    "all_files = all_files[0:200]\n",
    "\n",
    "# Load first file to get columns (standard across all)\n",
    "df = pd.read_csv('../data/Songs/' + all_files[0])\n",
    "\n",
    "# Master DataFrame of all unique songs included across all playlists\n",
    "#songs = pd.DataFrame(columns = list(df.columns)[2:])\n",
    "songs = pd.DataFrame()\n",
    "\n",
    "# Master Series of playlists and the songs included in each\n",
    "playlists = pd.Series()\n",
    "\n",
    "# Aggregator functions to limit to one row per song and count occurrences across playlists\n",
    "a1 = dict()\n",
    "for key in df.columns[2:]:\n",
    "    a1[key] = 'first'\n",
    "a1['track_uri'] = 'count'\n",
    "\n",
    "# Aggregator to consolidate into sum of songs across playlists\n",
    "a2= dict()\n",
    "for key in df.columns[2:]:\n",
    "    a2[key] = 'first'\n",
    "del a2['track_uri']\n",
    "a2['count'] = 'sum'\n",
    "\n",
    "# Loop over each file to extract data\n",
    "for i, file in enumerate(all_files):\n",
    "    # split on \".\" to split into \"filename\" and \"csv\"\n",
    "    # Then select \"filename\" and ditch the first five letters \"songs\"\n",
    "    filenum = file.split(\".\")[0][5:]\n",
    "    \n",
    "    # Load file and store in temporary dataframe\n",
    "    fdf = pd.read_csv('../data/Songs/' + file)\n",
    "    \n",
    "    # --- SONGS IN FILE ---\n",
    "    fdf_counts = fdf.iloc[:, 2:]\n",
    "    fdf_counts = fdf_counts.groupby('track_uri').agg(a1)\n",
    "    fdf_counts.rename(columns = {'track_uri': 'count'}, inplace = True)\n",
    "    \n",
    "    # Add to df of unique songs, update counters, and remove duplicates\n",
    "    songs = songs.append(fdf_counts)\n",
    "    \n",
    "    # -- SONGS IN EACH PLAYLIST --\n",
    "    # Songs included in every playlist (ordered) in file\n",
    "    # For each playlist, get list of track_uri's (unique identifiers)\n",
    "    songs_in_playlist = fdf.groupby('pid')['track_uri'].unique()\n",
    "\n",
    "    # Update index to be not the pid in file (id), but a combination of them\n",
    "    #songs_in_playlist.index = [filenum + '_' + str(pid) for pid in songs_in_playlist.index.values]\n",
    "    songs_in_playlist.index = list(map(lambda x: filenum + '_' + str(x), songs_in_playlist.index.values))\n",
    "    \n",
    "    # Add playlists to master Series of all playlists\n",
    "    playlists = playlists.append(songs_in_playlist)\n",
    "    \n",
    "    # Every 50 files, consolidate the songs table so it doesn't grow too big\n",
    "    if (i+1)%25 == 0: \n",
    "        print('{}/{} -- {} s'.format(i+1, len(all_files), time.time() - loop_start))\n",
    "        loop_start = time.time()\n",
    "        songs = songs.groupby('track_uri').agg(a2, sort = True)\n",
    "        print('   Consolidation: {} s'.format(time.time() - loop_start))\n",
    "    \n",
    "print(\"--- %s seconds ---\" % (time.time() - start_time))"
   ]
  },
  {
   "cell_type": "code",
   "execution_count": 18,
   "metadata": {},
   "outputs": [
    {
     "name": "stdout",
     "output_type": "stream",
     "text": [
      "--- 7.567456960678101 seconds ---\n",
      "(1003760, 8)\n"
     ]
    },
    {
     "data": {
      "text/html": [
       "<div>\n",
       "<style scoped>\n",
       "    .dataframe tbody tr th:only-of-type {\n",
       "        vertical-align: middle;\n",
       "    }\n",
       "\n",
       "    .dataframe tbody tr th {\n",
       "        vertical-align: top;\n",
       "    }\n",
       "\n",
       "    .dataframe thead th {\n",
       "        text-align: right;\n",
       "    }\n",
       "</style>\n",
       "<table border=\"1\" class=\"dataframe\">\n",
       "  <thead>\n",
       "    <tr style=\"text-align: right;\">\n",
       "      <th></th>\n",
       "      <th>artist_name</th>\n",
       "      <th>artist_uri</th>\n",
       "      <th>track_name</th>\n",
       "      <th>album_uri</th>\n",
       "      <th>duration_ms</th>\n",
       "      <th>album_name</th>\n",
       "      <th>count</th>\n",
       "      <th>song_id</th>\n",
       "    </tr>\n",
       "    <tr>\n",
       "      <th>track_uri</th>\n",
       "      <th></th>\n",
       "      <th></th>\n",
       "      <th></th>\n",
       "      <th></th>\n",
       "      <th></th>\n",
       "      <th></th>\n",
       "      <th></th>\n",
       "      <th></th>\n",
       "    </tr>\n",
       "  </thead>\n",
       "  <tbody>\n",
       "    <tr>\n",
       "      <td>spotify:track:0002yNGLtYSYtc0X6ZnFvp</td>\n",
       "      <td>Sidney Bechet's Blue Note Jazzmen</td>\n",
       "      <td>spotify:artist:2XouUSO0EAJ9gMMoHiXqMt</td>\n",
       "      <td>Muskrat Ramble</td>\n",
       "      <td>spotify:album:04hQBJ7YSuNnZ0nbuXNYbY</td>\n",
       "      <td>220293</td>\n",
       "      <td>Jazz Classics</td>\n",
       "      <td>1</td>\n",
       "      <td>0</td>\n",
       "    </tr>\n",
       "    <tr>\n",
       "      <td>spotify:track:00039MgrmLoIzSpuYKurn9</td>\n",
       "      <td>Zach Farlow</td>\n",
       "      <td>spotify:artist:2jTojc4rAsOMx6200a8Ah1</td>\n",
       "      <td>Thas What I Do</td>\n",
       "      <td>spotify:album:0UHfgx3ITlxePDXLaN5Y6x</td>\n",
       "      <td>222727</td>\n",
       "      <td>The Great Escape 2</td>\n",
       "      <td>2</td>\n",
       "      <td>1</td>\n",
       "    </tr>\n",
       "    <tr>\n",
       "      <td>spotify:track:0006Rv1e2Xfh6QooyKJqKS</td>\n",
       "      <td>Two Steps from Hell</td>\n",
       "      <td>spotify:artist:2qvP9yerCZCS0U1gZU8wYp</td>\n",
       "      <td>Nightwood</td>\n",
       "      <td>spotify:album:1BD29pKydSXe1EsHFj0GrQ</td>\n",
       "      <td>189638</td>\n",
       "      <td>Colin Frake On Fire Mountain</td>\n",
       "      <td>4</td>\n",
       "      <td>2</td>\n",
       "    </tr>\n",
       "    <tr>\n",
       "      <td>spotify:track:0007AYhg2UQbEm88mxu7js</td>\n",
       "      <td>Little Simz</td>\n",
       "      <td>spotify:artist:6eXZu6O7nAUA5z6vLV8NKI</td>\n",
       "      <td>Mandarin Oranges Part 2</td>\n",
       "      <td>spotify:album:32RJzqlapfiU0fr2l4SSW9</td>\n",
       "      <td>198000</td>\n",
       "      <td>E.D.G.E</td>\n",
       "      <td>1</td>\n",
       "      <td>3</td>\n",
       "    </tr>\n",
       "    <tr>\n",
       "      <td>spotify:track:0009mEWM7HILVo4VZYtqwc</td>\n",
       "      <td>Slam</td>\n",
       "      <td>spotify:artist:0Y0Kj7BOR5DM0UevuY7IvO</td>\n",
       "      <td>Movement</td>\n",
       "      <td>spotify:album:62VkRE2ucNvZDnYMCsnNDh</td>\n",
       "      <td>447534</td>\n",
       "      <td>Movement</td>\n",
       "      <td>1</td>\n",
       "      <td>4</td>\n",
       "    </tr>\n",
       "  </tbody>\n",
       "</table>\n",
       "</div>"
      ],
      "text/plain": [
       "                                                            artist_name  \\\n",
       "track_uri                                                                 \n",
       "spotify:track:0002yNGLtYSYtc0X6ZnFvp  Sidney Bechet's Blue Note Jazzmen   \n",
       "spotify:track:00039MgrmLoIzSpuYKurn9                        Zach Farlow   \n",
       "spotify:track:0006Rv1e2Xfh6QooyKJqKS                Two Steps from Hell   \n",
       "spotify:track:0007AYhg2UQbEm88mxu7js                        Little Simz   \n",
       "spotify:track:0009mEWM7HILVo4VZYtqwc                               Slam   \n",
       "\n",
       "                                                                 artist_uri  \\\n",
       "track_uri                                                                     \n",
       "spotify:track:0002yNGLtYSYtc0X6ZnFvp  spotify:artist:2XouUSO0EAJ9gMMoHiXqMt   \n",
       "spotify:track:00039MgrmLoIzSpuYKurn9  spotify:artist:2jTojc4rAsOMx6200a8Ah1   \n",
       "spotify:track:0006Rv1e2Xfh6QooyKJqKS  spotify:artist:2qvP9yerCZCS0U1gZU8wYp   \n",
       "spotify:track:0007AYhg2UQbEm88mxu7js  spotify:artist:6eXZu6O7nAUA5z6vLV8NKI   \n",
       "spotify:track:0009mEWM7HILVo4VZYtqwc  spotify:artist:0Y0Kj7BOR5DM0UevuY7IvO   \n",
       "\n",
       "                                                   track_name  \\\n",
       "track_uri                                                       \n",
       "spotify:track:0002yNGLtYSYtc0X6ZnFvp           Muskrat Ramble   \n",
       "spotify:track:00039MgrmLoIzSpuYKurn9           Thas What I Do   \n",
       "spotify:track:0006Rv1e2Xfh6QooyKJqKS                Nightwood   \n",
       "spotify:track:0007AYhg2UQbEm88mxu7js  Mandarin Oranges Part 2   \n",
       "spotify:track:0009mEWM7HILVo4VZYtqwc                 Movement   \n",
       "\n",
       "                                                                 album_uri  \\\n",
       "track_uri                                                                    \n",
       "spotify:track:0002yNGLtYSYtc0X6ZnFvp  spotify:album:04hQBJ7YSuNnZ0nbuXNYbY   \n",
       "spotify:track:00039MgrmLoIzSpuYKurn9  spotify:album:0UHfgx3ITlxePDXLaN5Y6x   \n",
       "spotify:track:0006Rv1e2Xfh6QooyKJqKS  spotify:album:1BD29pKydSXe1EsHFj0GrQ   \n",
       "spotify:track:0007AYhg2UQbEm88mxu7js  spotify:album:32RJzqlapfiU0fr2l4SSW9   \n",
       "spotify:track:0009mEWM7HILVo4VZYtqwc  spotify:album:62VkRE2ucNvZDnYMCsnNDh   \n",
       "\n",
       "                                      duration_ms  \\\n",
       "track_uri                                           \n",
       "spotify:track:0002yNGLtYSYtc0X6ZnFvp       220293   \n",
       "spotify:track:00039MgrmLoIzSpuYKurn9       222727   \n",
       "spotify:track:0006Rv1e2Xfh6QooyKJqKS       189638   \n",
       "spotify:track:0007AYhg2UQbEm88mxu7js       198000   \n",
       "spotify:track:0009mEWM7HILVo4VZYtqwc       447534   \n",
       "\n",
       "                                                        album_name  count  \\\n",
       "track_uri                                                                   \n",
       "spotify:track:0002yNGLtYSYtc0X6ZnFvp                 Jazz Classics      1   \n",
       "spotify:track:00039MgrmLoIzSpuYKurn9            The Great Escape 2      2   \n",
       "spotify:track:0006Rv1e2Xfh6QooyKJqKS  Colin Frake On Fire Mountain      4   \n",
       "spotify:track:0007AYhg2UQbEm88mxu7js                       E.D.G.E      1   \n",
       "spotify:track:0009mEWM7HILVo4VZYtqwc                      Movement      1   \n",
       "\n",
       "                                      song_id  \n",
       "track_uri                                      \n",
       "spotify:track:0002yNGLtYSYtc0X6ZnFvp        0  \n",
       "spotify:track:00039MgrmLoIzSpuYKurn9        1  \n",
       "spotify:track:0006Rv1e2Xfh6QooyKJqKS        2  \n",
       "spotify:track:0007AYhg2UQbEm88mxu7js        3  \n",
       "spotify:track:0009mEWM7HILVo4VZYtqwc        4  "
      ]
     },
     "metadata": {},
     "output_type": "display_data"
    }
   ],
   "source": [
    "# Do a final consolidation just to be safe (should be very fast)\n",
    "# Add song ID to table, now that it only contains unique songs\n",
    "start_time = time.time()\n",
    "songs_counts = songs.groupby('track_uri').agg(a2)\n",
    "songs_counts['song_id'] = np.arange(len(songs_counts))\n",
    "print(\"--- %s seconds ---\" % (time.time() - start_time))\n",
    "\n",
    "print(songs_counts.shape)\n",
    "display(songs_counts.head())"
   ]
  },
  {
   "cell_type": "code",
   "execution_count": 61,
   "metadata": {},
   "outputs": [
    {
     "name": "stdout",
     "output_type": "stream",
     "text": [
      "10000/200000 -- 38.7440550327301 s\n",
      "20000/200000 -- 43.11882281303406 s\n",
      "30000/200000 -- 44.18085217475891 s\n",
      "40000/200000 -- 48.200636863708496 s\n",
      "50000/200000 -- 52.817174196243286 s\n",
      "60000/200000 -- 50.61113619804382 s\n",
      "70000/200000 -- 57.99031400680542 s\n",
      "80000/200000 -- 64.7493839263916 s\n",
      "90000/200000 -- 67.53792810440063 s\n",
      "100000/200000 -- 67.3009626865387 s\n",
      "110000/200000 -- 68.4447910785675 s\n",
      "120000/200000 -- 71.28671312332153 s\n",
      "130000/200000 -- 72.44740080833435 s\n",
      "140000/200000 -- 77.3995201587677 s\n",
      "150000/200000 -- 80.82779884338379 s\n",
      "160000/200000 -- 358.95413088798523 s\n",
      "170000/200000 -- 90.39383912086487 s\n",
      "180000/200000 -- 89.62128067016602 s\n",
      "190000/200000 -- 100.55844020843506 s\n",
      "200000/200000 -- 97.31215310096741 s\n",
      "--- 1642.5336339473724 seconds ---\n",
      "(200000,)\n",
      "284_0    [340039, 125250, 881533, 653897, 49614, 356319...\n",
      "284_1    [738782, 7646, 142078, 900881, 533258, 429837,...\n",
      "284_2    [552361, 135177, 507876, 865927, 638474, 55164...\n",
      "284_3    [214695, 27387, 700562, 448130, 1000188, 37723...\n",
      "284_4    [576080, 600, 170841, 842370, 450149, 8624, 89...\n",
      "dtype: object\n"
     ]
    }
   ],
   "source": [
    "# Replace playlist track_uri with song_id\n",
    "start_time = time.time()\n",
    "loop_start = time.time()\n",
    "\n",
    "playlists_songids = pd.Series(index = playlists.index)\n",
    "playlists_songids = playlists_songids.astype(object)\n",
    "\n",
    "i = 0\n",
    "for ind, row in playlists.items():\n",
    "    songids = np.array(songs_counts.loc[row, 'song_id'], 'int')\n",
    "    playlists_songids.loc[str(ind)] = songids\n",
    "    \n",
    "    i += 1\n",
    "    if i % (len(playlists)/20) == 0 == 0: \n",
    "        print('{}/{} -- {} s'.format(i, int(len(playlists)), time.time() - loop_start))\n",
    "        loop_start = time.time()\n",
    "    \n",
    "print(\"--- %s seconds ---\" % (time.time() - start_time))\n",
    "\n",
    "print(playlists_songids.shape)\n",
    "print(playlists_songids.head())"
   ]
  },
  {
   "cell_type": "code",
   "execution_count": 62,
   "metadata": {},
   "outputs": [
    {
     "data": {
      "text/html": [
       "<div>\n",
       "<style scoped>\n",
       "    .dataframe tbody tr th:only-of-type {\n",
       "        vertical-align: middle;\n",
       "    }\n",
       "\n",
       "    .dataframe tbody tr th {\n",
       "        vertical-align: top;\n",
       "    }\n",
       "\n",
       "    .dataframe thead th {\n",
       "        text-align: right;\n",
       "    }\n",
       "</style>\n",
       "<table border=\"1\" class=\"dataframe\">\n",
       "  <thead>\n",
       "    <tr style=\"text-align: right;\">\n",
       "      <th></th>\n",
       "      <th>artist_name</th>\n",
       "      <th>artist_uri</th>\n",
       "      <th>track_name</th>\n",
       "      <th>album_uri</th>\n",
       "      <th>duration_ms</th>\n",
       "      <th>album_name</th>\n",
       "      <th>count</th>\n",
       "      <th>track_uri</th>\n",
       "    </tr>\n",
       "    <tr>\n",
       "      <th>song_id</th>\n",
       "      <th></th>\n",
       "      <th></th>\n",
       "      <th></th>\n",
       "      <th></th>\n",
       "      <th></th>\n",
       "      <th></th>\n",
       "      <th></th>\n",
       "      <th></th>\n",
       "    </tr>\n",
       "  </thead>\n",
       "  <tbody>\n",
       "    <tr>\n",
       "      <td>0</td>\n",
       "      <td>Sidney Bechet's Blue Note Jazzmen</td>\n",
       "      <td>spotify:artist:2XouUSO0EAJ9gMMoHiXqMt</td>\n",
       "      <td>Muskrat Ramble</td>\n",
       "      <td>spotify:album:04hQBJ7YSuNnZ0nbuXNYbY</td>\n",
       "      <td>220293</td>\n",
       "      <td>Jazz Classics</td>\n",
       "      <td>1</td>\n",
       "      <td>spotify:track:0002yNGLtYSYtc0X6ZnFvp</td>\n",
       "    </tr>\n",
       "    <tr>\n",
       "      <td>1</td>\n",
       "      <td>Zach Farlow</td>\n",
       "      <td>spotify:artist:2jTojc4rAsOMx6200a8Ah1</td>\n",
       "      <td>Thas What I Do</td>\n",
       "      <td>spotify:album:0UHfgx3ITlxePDXLaN5Y6x</td>\n",
       "      <td>222727</td>\n",
       "      <td>The Great Escape 2</td>\n",
       "      <td>2</td>\n",
       "      <td>spotify:track:00039MgrmLoIzSpuYKurn9</td>\n",
       "    </tr>\n",
       "    <tr>\n",
       "      <td>2</td>\n",
       "      <td>Two Steps from Hell</td>\n",
       "      <td>spotify:artist:2qvP9yerCZCS0U1gZU8wYp</td>\n",
       "      <td>Nightwood</td>\n",
       "      <td>spotify:album:1BD29pKydSXe1EsHFj0GrQ</td>\n",
       "      <td>189638</td>\n",
       "      <td>Colin Frake On Fire Mountain</td>\n",
       "      <td>4</td>\n",
       "      <td>spotify:track:0006Rv1e2Xfh6QooyKJqKS</td>\n",
       "    </tr>\n",
       "    <tr>\n",
       "      <td>3</td>\n",
       "      <td>Little Simz</td>\n",
       "      <td>spotify:artist:6eXZu6O7nAUA5z6vLV8NKI</td>\n",
       "      <td>Mandarin Oranges Part 2</td>\n",
       "      <td>spotify:album:32RJzqlapfiU0fr2l4SSW9</td>\n",
       "      <td>198000</td>\n",
       "      <td>E.D.G.E</td>\n",
       "      <td>1</td>\n",
       "      <td>spotify:track:0007AYhg2UQbEm88mxu7js</td>\n",
       "    </tr>\n",
       "    <tr>\n",
       "      <td>4</td>\n",
       "      <td>Slam</td>\n",
       "      <td>spotify:artist:0Y0Kj7BOR5DM0UevuY7IvO</td>\n",
       "      <td>Movement</td>\n",
       "      <td>spotify:album:62VkRE2ucNvZDnYMCsnNDh</td>\n",
       "      <td>447534</td>\n",
       "      <td>Movement</td>\n",
       "      <td>1</td>\n",
       "      <td>spotify:track:0009mEWM7HILVo4VZYtqwc</td>\n",
       "    </tr>\n",
       "  </tbody>\n",
       "</table>\n",
       "</div>"
      ],
      "text/plain": [
       "                               artist_name  \\\n",
       "song_id                                      \n",
       "0        Sidney Bechet's Blue Note Jazzmen   \n",
       "1                              Zach Farlow   \n",
       "2                      Two Steps from Hell   \n",
       "3                              Little Simz   \n",
       "4                                     Slam   \n",
       "\n",
       "                                    artist_uri               track_name  \\\n",
       "song_id                                                                   \n",
       "0        spotify:artist:2XouUSO0EAJ9gMMoHiXqMt           Muskrat Ramble   \n",
       "1        spotify:artist:2jTojc4rAsOMx6200a8Ah1           Thas What I Do   \n",
       "2        spotify:artist:2qvP9yerCZCS0U1gZU8wYp                Nightwood   \n",
       "3        spotify:artist:6eXZu6O7nAUA5z6vLV8NKI  Mandarin Oranges Part 2   \n",
       "4        spotify:artist:0Y0Kj7BOR5DM0UevuY7IvO                 Movement   \n",
       "\n",
       "                                    album_uri  duration_ms  \\\n",
       "song_id                                                      \n",
       "0        spotify:album:04hQBJ7YSuNnZ0nbuXNYbY       220293   \n",
       "1        spotify:album:0UHfgx3ITlxePDXLaN5Y6x       222727   \n",
       "2        spotify:album:1BD29pKydSXe1EsHFj0GrQ       189638   \n",
       "3        spotify:album:32RJzqlapfiU0fr2l4SSW9       198000   \n",
       "4        spotify:album:62VkRE2ucNvZDnYMCsnNDh       447534   \n",
       "\n",
       "                           album_name  count  \\\n",
       "song_id                                        \n",
       "0                       Jazz Classics      1   \n",
       "1                  The Great Escape 2      2   \n",
       "2        Colin Frake On Fire Mountain      4   \n",
       "3                             E.D.G.E      1   \n",
       "4                            Movement      1   \n",
       "\n",
       "                                    track_uri  \n",
       "song_id                                        \n",
       "0        spotify:track:0002yNGLtYSYtc0X6ZnFvp  \n",
       "1        spotify:track:00039MgrmLoIzSpuYKurn9  \n",
       "2        spotify:track:0006Rv1e2Xfh6QooyKJqKS  \n",
       "3        spotify:track:0007AYhg2UQbEm88mxu7js  \n",
       "4        spotify:track:0009mEWM7HILVo4VZYtqwc  "
      ]
     },
     "execution_count": 62,
     "metadata": {},
     "output_type": "execute_result"
    }
   ],
   "source": [
    "# Change songs table to have song id as index and track_uri as column\n",
    "# We will be doing lookups on song_id while running\n",
    "songs_counts_id = songs_counts.copy()\n",
    "songs_counts_id['track_uri'] = songs_counts_id.index.values\n",
    "songs_counts_id.set_index('song_id', inplace = True)\n",
    "songs_counts_id.head()"
   ]
  },
  {
   "cell_type": "markdown",
   "metadata": {},
   "source": [
    "### Write files to disk (csv and pickle)\n",
    "Use `pd.read_pickle` to easily read back in a data frame or series with the exact same structure as the one you dumped."
   ]
  },
  {
   "cell_type": "code",
   "execution_count": 65,
   "metadata": {},
   "outputs": [],
   "source": [
    "songs_counts_id.to_csv('../data/songs_counts_'+str(len(all_files))+'.csv')\n",
    "songs_counts_id.to_pickle('../data/songs_counts_'+str(len(all_files))+'.pkl')"
   ]
  },
  {
   "cell_type": "code",
   "execution_count": 66,
   "metadata": {},
   "outputs": [],
   "source": [
    "playlists_songids.to_csv('../data/playlists_song_ids_'+str(len(all_files))+'.csv', header = False)\n",
    "playlists_songids.to_pickle('../data/playlists_song_ids_'+str(len(all_files))+'.pkl')"
   ]
  },
  {
   "cell_type": "markdown",
   "metadata": {},
   "source": [
    "### For later use:\n",
    "Quickly filtering out from playlists songs that do not exist. Use to filter out songs that appear below a certain threshold by first filtering `songs_counts` on that threshold, and run `get` on that. Some songs in some playlists will then not exist in `songs_counts`, and the below code will drop them from the playlist. Handy for limiting the size of the dataset."
   ]
  },
  {
   "cell_type": "code",
   "execution_count": 15,
   "metadata": {},
   "outputs": [
    {
     "name": "stderr",
     "output_type": "stream",
     "text": [
      "//anaconda3/envs/ac209a/lib/python3.7/site-packages/pandas/core/series.py:1152: FutureWarning: \n",
      "Passing list-likes to .loc or [] with any missing label will raise\n",
      "KeyError in the future, you can use .reindex() as an alternative.\n",
      "\n",
      "See the documentation here:\n",
      "https://pandas.pydata.org/pandas-docs/stable/user_guide/indexing.html#deprecate-loc-reindex-listlike\n",
      "  return self.loc[key]\n"
     ]
    },
    {
     "data": {
      "text/plain": [
       "track_uri\n",
       "derp                                         NaN\n",
       "spotify:track:2d7LPtieXdIYzf7yHPooWd     90338.0\n",
       "spotify:track:0y4TKcc7p2H6P0GJlt01EI     33049.0\n",
       "spotify:track:6q4c1vPRZREh7nw3wG7Ixz    234643.0\n",
       "spotify:track:54KFQB6N4pn926IUUYZGzK    173775.0\n",
       "spotify:track:0NeJjNlprGfZpeX2LQuN6c     13104.0\n",
       "spotify:track:2kuFVY6hWX6yavTiWHE3SQ     94661.0\n",
       "spotify:track:66mmvchQ4C3LnPzq4DiAI3    209472.0\n",
       "spotify:track:4gFxywaJejXWxo0NjlWzgg    160465.0\n",
       "spotify:track:6wQSrFnJYm3evLsavFeCVT    238134.0\n",
       "spotify:track:3ZjnFYlal0fXN6t61wdxhl    122726.0\n",
       "spotify:track:617EQMgzYFe2THz093j68m    206271.0\n",
       "spotify:track:6Hki3HcbeU2c4T72lJjyZ5    215590.0\n",
       "spotify:track:6dbKl5pzPue67ttfvYCpK9    227718.0\n",
       "Name: song_id, dtype: float64"
      ]
     },
     "execution_count": 15,
     "metadata": {},
     "output_type": "execute_result"
    }
   ],
   "source": [
    "songs_counts.song_id.get(['derp', *playlists[0]], np.NaN)"
   ]
  },
  {
   "cell_type": "code",
   "execution_count": 16,
   "metadata": {},
   "outputs": [
    {
     "data": {
      "text/plain": [
       "array([ 90338,  33049, 234643, 173775,  13104,  94661, 209472, 160465,\n",
       "       238134, 122726, 206271, 215590, 227718])"
      ]
     },
     "execution_count": 16,
     "metadata": {},
     "output_type": "execute_result"
    }
   ],
   "source": [
    "np.array(songs_counts.song_id.get(['derp', *playlists[0]], np.NaN).dropna(), 'int')"
   ]
  },
  {
   "cell_type": "code",
   "execution_count": null,
   "metadata": {},
   "outputs": [],
   "source": []
  }
 ],
 "metadata": {
  "kernelspec": {
   "display_name": "Python Conda AC209a",
   "language": "python",
   "name": "ac209a"
  },
  "language_info": {
   "codemirror_mode": {
    "name": "ipython",
    "version": 3
   },
   "file_extension": ".py",
   "mimetype": "text/x-python",
   "name": "python",
   "nbconvert_exporter": "python",
   "pygments_lexer": "ipython3",
   "version": "3.7.4"
  }
 },
 "nbformat": 4,
 "nbformat_minor": 2
}
