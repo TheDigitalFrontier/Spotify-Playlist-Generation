{
 "cells": [
  {
   "cell_type": "code",
   "execution_count": 1,
   "metadata": {},
   "outputs": [],
   "source": [
    "import numpy as np\n",
    "import pandas as pd\n",
    "import matplotlib.pyplot as plt\n",
    "import seaborn as sns\n",
    "\n",
    "from os import listdir\n",
    "from os.path import isfile, join\n",
    "\n",
    "sns.set()"
   ]
  },
  {
   "cell_type": "markdown",
   "metadata": {},
   "source": [
    "Spot check an individual songs file to explore its format and data."
   ]
  },
  {
   "cell_type": "code",
   "execution_count": 2,
   "metadata": {},
   "outputs": [],
   "source": [
    "df = pd.read_csv('../data/Songs/songs285.csv')"
   ]
  },
  {
   "cell_type": "code",
   "execution_count": 3,
   "metadata": {},
   "outputs": [
    {
     "name": "stdout",
     "output_type": "stream",
     "text": [
      "(64928, 9)\n"
     ]
    },
    {
     "data": {
      "text/plain": [
       "['pid',\n",
       " 'pos',\n",
       " 'artist_name',\n",
       " 'track_uri',\n",
       " 'artist_uri',\n",
       " 'track_name',\n",
       " 'album_uri',\n",
       " 'duration_ms',\n",
       " 'album_name']"
      ]
     },
     "execution_count": 3,
     "metadata": {},
     "output_type": "execute_result"
    }
   ],
   "source": [
    "print(df.shape)\n",
    "list(df.columns)"
   ]
  },
  {
   "cell_type": "markdown",
   "metadata": {},
   "source": [
    "This is a *lot* of data: ball-park $65,000$ rows in $1,000$ files, totaling around $65,000,000$ observations – or songs in playlists, many of which are certainly repeated."
   ]
  },
  {
   "cell_type": "code",
   "execution_count": 4,
   "metadata": {},
   "outputs": [
    {
     "data": {
      "text/html": [
       "<div>\n",
       "<style scoped>\n",
       "    .dataframe tbody tr th:only-of-type {\n",
       "        vertical-align: middle;\n",
       "    }\n",
       "\n",
       "    .dataframe tbody tr th {\n",
       "        vertical-align: top;\n",
       "    }\n",
       "\n",
       "    .dataframe thead th {\n",
       "        text-align: right;\n",
       "    }\n",
       "</style>\n",
       "<table border=\"1\" class=\"dataframe\">\n",
       "  <thead>\n",
       "    <tr style=\"text-align: right;\">\n",
       "      <th></th>\n",
       "      <th>pid</th>\n",
       "      <th>pos</th>\n",
       "      <th>artist_name</th>\n",
       "      <th>track_uri</th>\n",
       "      <th>artist_uri</th>\n",
       "      <th>track_name</th>\n",
       "      <th>album_uri</th>\n",
       "      <th>duration_ms</th>\n",
       "      <th>album_name</th>\n",
       "    </tr>\n",
       "  </thead>\n",
       "  <tbody>\n",
       "    <tr>\n",
       "      <th>0</th>\n",
       "      <td>0</td>\n",
       "      <td>0</td>\n",
       "      <td>Deftones</td>\n",
       "      <td>spotify:track:4rEGJ9KirDlKiOHxqVwcVg</td>\n",
       "      <td>spotify:artist:6Ghvu1VvMGScGpOUJBAHNH</td>\n",
       "      <td>Sextape</td>\n",
       "      <td>spotify:album:4RQnFSkkZlA65Xxchhnaha</td>\n",
       "      <td>241533</td>\n",
       "      <td>Diamond Eyes</td>\n",
       "    </tr>\n",
       "    <tr>\n",
       "      <th>1</th>\n",
       "      <td>0</td>\n",
       "      <td>1</td>\n",
       "      <td>Muse</td>\n",
       "      <td>spotify:track:0It6VJoMAare1zdV2wxqZq</td>\n",
       "      <td>spotify:artist:12Chz98pHFMPJEknJQMWvI</td>\n",
       "      <td>Undisclosed Desires</td>\n",
       "      <td>spotify:album:0eFHYz8NmK75zSplL5qlfM</td>\n",
       "      <td>235000</td>\n",
       "      <td>The Resistance</td>\n",
       "    </tr>\n",
       "    <tr>\n",
       "      <th>2</th>\n",
       "      <td>0</td>\n",
       "      <td>2</td>\n",
       "      <td>Pearl Jam</td>\n",
       "      <td>spotify:track:0LBmvPJYmtEJ7kkWvc3kbT</td>\n",
       "      <td>spotify:artist:1w5Kfo2jwwIPruYS2UWh56</td>\n",
       "      <td>Oceans</td>\n",
       "      <td>spotify:album:5B4PYA7wNN4WdEXdIJu58a</td>\n",
       "      <td>161893</td>\n",
       "      <td>Ten</td>\n",
       "    </tr>\n",
       "    <tr>\n",
       "      <th>3</th>\n",
       "      <td>0</td>\n",
       "      <td>3</td>\n",
       "      <td>My Chemical Romance</td>\n",
       "      <td>spotify:track:0uukw2CgEIApv4IWAjXrBC</td>\n",
       "      <td>spotify:artist:7FBcuc1gsnv6Y1nwFtNRCb</td>\n",
       "      <td>Dead!</td>\n",
       "      <td>spotify:album:0FZK97MXMm5mUQ8mtudjuK</td>\n",
       "      <td>195520</td>\n",
       "      <td>The Black Parade</td>\n",
       "    </tr>\n",
       "    <tr>\n",
       "      <th>4</th>\n",
       "      <td>0</td>\n",
       "      <td>4</td>\n",
       "      <td>Red Hot Chili Peppers</td>\n",
       "      <td>spotify:track:1iFIZUVDBCCkWe705FLXto</td>\n",
       "      <td>spotify:artist:0L8ExT028jH3ddEcZwqJJ5</td>\n",
       "      <td>Dosed</td>\n",
       "      <td>spotify:album:6deiaArbeoqp1xPEGdEKp1</td>\n",
       "      <td>311866</td>\n",
       "      <td>By The Way</td>\n",
       "    </tr>\n",
       "  </tbody>\n",
       "</table>\n",
       "</div>"
      ],
      "text/plain": [
       "   pid  pos            artist_name                             track_uri  \\\n",
       "0    0    0               Deftones  spotify:track:4rEGJ9KirDlKiOHxqVwcVg   \n",
       "1    0    1                   Muse  spotify:track:0It6VJoMAare1zdV2wxqZq   \n",
       "2    0    2              Pearl Jam  spotify:track:0LBmvPJYmtEJ7kkWvc3kbT   \n",
       "3    0    3    My Chemical Romance  spotify:track:0uukw2CgEIApv4IWAjXrBC   \n",
       "4    0    4  Red Hot Chili Peppers  spotify:track:1iFIZUVDBCCkWe705FLXto   \n",
       "\n",
       "                              artist_uri           track_name  \\\n",
       "0  spotify:artist:6Ghvu1VvMGScGpOUJBAHNH              Sextape   \n",
       "1  spotify:artist:12Chz98pHFMPJEknJQMWvI  Undisclosed Desires   \n",
       "2  spotify:artist:1w5Kfo2jwwIPruYS2UWh56               Oceans   \n",
       "3  spotify:artist:7FBcuc1gsnv6Y1nwFtNRCb                Dead!   \n",
       "4  spotify:artist:0L8ExT028jH3ddEcZwqJJ5                Dosed   \n",
       "\n",
       "                              album_uri  duration_ms        album_name  \n",
       "0  spotify:album:4RQnFSkkZlA65Xxchhnaha       241533      Diamond Eyes  \n",
       "1  spotify:album:0eFHYz8NmK75zSplL5qlfM       235000    The Resistance  \n",
       "2  spotify:album:5B4PYA7wNN4WdEXdIJu58a       161893               Ten  \n",
       "3  spotify:album:0FZK97MXMm5mUQ8mtudjuK       195520  The Black Parade  \n",
       "4  spotify:album:6deiaArbeoqp1xPEGdEKp1       311866        By The Way  "
      ]
     },
     "execution_count": 4,
     "metadata": {},
     "output_type": "execute_result"
    }
   ],
   "source": [
    "df.head()"
   ]
  },
  {
   "cell_type": "code",
   "execution_count": 5,
   "metadata": {},
   "outputs": [
    {
     "data": {
      "text/plain": [
       "pid\n",
       "10     22\n",
       "11     63\n",
       "12    212\n",
       "13     12\n",
       "14     11\n",
       "15     25\n",
       "16     96\n",
       "17     24\n",
       "18      9\n",
       "19    165\n",
       "Name: track_uri, dtype: int64"
      ]
     },
     "execution_count": 5,
     "metadata": {},
     "output_type": "execute_result"
    }
   ],
   "source": [
    "# Some very different playlist lengths\n",
    "df.groupby('pid')['track_uri'].nunique()[10:20]"
   ]
  },
  {
   "cell_type": "markdown",
   "metadata": {},
   "source": [
    "Every file seems to be an arbitrary-length list of playlists, each of which has an id `pid` (scoped to that file) and an arbitrary-length list of songs, each with a position id `pos` in that playlist. For each song, the `artist_name`, `track_uri`, `artist_uri`, `track_name`, `album_uri`, `duration_ms`, and `album_name` are all stored. Most of these are repeated every time a song is repeated (within and across files), so there is a lot of room for simplification here. Furthermore, any URI is effectively a unique identified for the song, artist, or album, and can be used as such.\n",
    "\n",
    "$1,000$ playlist files, as expected."
   ]
  },
  {
   "cell_type": "code",
   "execution_count": 6,
   "metadata": {},
   "outputs": [
    {
     "name": "stdout",
     "output_type": "stream",
     "text": [
      "1000\n"
     ]
    },
    {
     "data": {
      "text/plain": [
       "['songs284.csv', 'songs290.csv', 'songs247.csv']"
      ]
     },
     "execution_count": 6,
     "metadata": {},
     "output_type": "execute_result"
    }
   ],
   "source": [
    "all_files = listdir('../data/Songs')\n",
    "print(len(all_files))\n",
    "all_files[0:3]"
   ]
  },
  {
   "cell_type": "markdown",
   "metadata": {},
   "source": [
    "### Structuring the data\n",
    "A reasonable first step to slim down the size of the dataset without losing information or fidelity, is to parse through all the files to create a reference table/file of all songs and their metadata. Each playlist can then be stored as a simple named object, where the name is the overall playlist id and its value a vector of song ids."
   ]
  },
  {
   "cell_type": "code",
   "execution_count": 7,
   "metadata": {},
   "outputs": [],
   "source": [
    "# Master DataFrame of all unique songs included across all playlists\n",
    "songs = pd.DataFrame(columns = list(df.columns)[2:])\n",
    "\n",
    "# Master Series of playlists and the songs included in each\n",
    "playlists = pd.Series()"
   ]
  },
  {
   "cell_type": "markdown",
   "metadata": {},
   "source": [
    "### Looping over all our files to fill out the master DataFrame (songs) and Series (playlists)"
   ]
  },
  {
   "cell_type": "code",
   "execution_count": 8,
   "metadata": {},
   "outputs": [
    {
     "name": "stdout",
     "output_type": "stream",
     "text": [
      "50/1000\n",
      "100/1000\n",
      "150/1000\n",
      "200/1000\n",
      "250/1000\n",
      "300/1000\n",
      "350/1000\n",
      "400/1000\n",
      "450/1000\n",
      "500/1000\n",
      "550/1000\n",
      "600/1000\n",
      "650/1000\n",
      "700/1000\n",
      "750/1000\n",
      "800/1000\n",
      "850/1000\n",
      "900/1000\n",
      "950/1000\n",
      "1000/1000\n",
      "--- 3248.3688600063324 seconds ---\n"
     ]
    }
   ],
   "source": [
    "import time\n",
    "start_time = time.time()\n",
    "\n",
    "# List of filenames for all files in dataset\n",
    "all_files = listdir('../data/Songs')\n",
    "\n",
    "# Loop over each file to extract data\n",
    "for i, file in enumerate(all_files):\n",
    "    # split on \".\" to split into \"filename\" and \"csv\"\n",
    "    # Then select \"filename\" and ditch the first five letters \"songs\"\n",
    "    filenum = file.split(\".\")[0][5:]\n",
    "    \n",
    "    # Load file and store in temporary dataframe\n",
    "    fdf = pd.read_csv('../data/Songs/' + file)\n",
    "    \n",
    "    # -- SONGS IN EACH PLAYLIST --\n",
    "    # Songs included in every playlist (ordered) in file\n",
    "    # For each playlist, get list of track_uri's (unique identifiers)\n",
    "    songs_in_playlist = fdf.groupby('pid')['track_uri'].unique()\n",
    "\n",
    "    # Update index to be not the pid in file (id), but a combination of them\n",
    "    songs_in_playlist.index = [filenum + '_' + str(pid) for pid in songs_in_playlist.index.values]\n",
    "\n",
    "    # Add playlists to master Series of all playlists\n",
    "    playlists = playlists.append(songs_in_playlist)\n",
    "    \n",
    "    # -- UNIQUE SONGS IN FILE --\n",
    "    # Get the cumulative count of each track appearing\n",
    "    # I.e. we only want cumcount == 1, as that's the first time\n",
    "    track_occurrence = fdf.groupby(['track_uri']).cumcount()+1\n",
    "    #assert len(track_occurrence) == len(df)\n",
    "\n",
    "    # Filter to unique songs (i.e. first occurrence of each)\n",
    "    # Also ditch the first two columns, as only the latter are needed\n",
    "    unique_songs = fdf.iloc[:, 2:][track_occurrence == 1]\n",
    "\n",
    "    # Ignore those that have been seen before\n",
    "    new_songs = unique_songs[~unique_songs.track_uri.isin(songs.track_uri.values)]\n",
    "\n",
    "    # Add the new songs to the master song table\n",
    "    songs = songs.append(new_songs)\n",
    "    \n",
    "    if (i+1)%50 == 0: print('{}/{}'.format(i+1, len(all_files)))\n",
    "    \n",
    "print(\"--- %s seconds ---\" % (time.time() - start_time))"
   ]
  },
  {
   "cell_type": "code",
   "execution_count": 16,
   "metadata": {},
   "outputs": [],
   "source": [
    "songs.to_csv('../data/unique_songs.csv')"
   ]
  },
  {
   "cell_type": "code",
   "execution_count": 13,
   "metadata": {},
   "outputs": [
    {
     "name": "stdout",
     "output_type": "stream",
     "text": [
      "2262292\n"
     ]
    },
    {
     "data": {
      "text/html": [
       "<div>\n",
       "<style scoped>\n",
       "    .dataframe tbody tr th:only-of-type {\n",
       "        vertical-align: middle;\n",
       "    }\n",
       "\n",
       "    .dataframe tbody tr th {\n",
       "        vertical-align: top;\n",
       "    }\n",
       "\n",
       "    .dataframe thead th {\n",
       "        text-align: right;\n",
       "    }\n",
       "</style>\n",
       "<table border=\"1\" class=\"dataframe\">\n",
       "  <thead>\n",
       "    <tr style=\"text-align: right;\">\n",
       "      <th></th>\n",
       "      <th>artist_name</th>\n",
       "      <th>track_uri</th>\n",
       "      <th>artist_uri</th>\n",
       "      <th>track_name</th>\n",
       "      <th>album_uri</th>\n",
       "      <th>duration_ms</th>\n",
       "      <th>album_name</th>\n",
       "    </tr>\n",
       "  </thead>\n",
       "  <tbody>\n",
       "    <tr>\n",
       "      <th>0</th>\n",
       "      <td>Sleeping At Last</td>\n",
       "      <td>spotify:track:2d7LPtieXdIYzf7yHPooWd</td>\n",
       "      <td>spotify:artist:0MeLMJJcouYXCymQSHPn8g</td>\n",
       "      <td>Chasing Cars</td>\n",
       "      <td>spotify:album:0UIIvTTWNB3gRQWFoxoEDh</td>\n",
       "      <td>242564</td>\n",
       "      <td>Covers, Vol. 2</td>\n",
       "    </tr>\n",
       "    <tr>\n",
       "      <th>1</th>\n",
       "      <td>Rachael Yamagata</td>\n",
       "      <td>spotify:track:0y4TKcc7p2H6P0GJlt01EI</td>\n",
       "      <td>spotify:artist:7w0qj2HiAPIeUcoPogvOZ6</td>\n",
       "      <td>Elephants</td>\n",
       "      <td>spotify:album:6KzK9fDNmj7GHFbcE4gVJD</td>\n",
       "      <td>253701</td>\n",
       "      <td>Elephants...Teeth Sinking Into Heart</td>\n",
       "    </tr>\n",
       "    <tr>\n",
       "      <th>2</th>\n",
       "      <td>The Cinematic Orchestra</td>\n",
       "      <td>spotify:track:6q4c1vPRZREh7nw3wG7Ixz</td>\n",
       "      <td>spotify:artist:32ogthv0BdaSMPml02X9YB</td>\n",
       "      <td>That Home</td>\n",
       "      <td>spotify:album:5cPHT4yMCfETLRYAoBFcOZ</td>\n",
       "      <td>103920</td>\n",
       "      <td>Ma Fleur</td>\n",
       "    </tr>\n",
       "    <tr>\n",
       "      <th>3</th>\n",
       "      <td>The Cinematic Orchestra</td>\n",
       "      <td>spotify:track:54KFQB6N4pn926IUUYZGzK</td>\n",
       "      <td>spotify:artist:32ogthv0BdaSMPml02X9YB</td>\n",
       "      <td>To Build A Home</td>\n",
       "      <td>spotify:album:5cPHT4yMCfETLRYAoBFcOZ</td>\n",
       "      <td>371320</td>\n",
       "      <td>Ma Fleur</td>\n",
       "    </tr>\n",
       "    <tr>\n",
       "      <th>4</th>\n",
       "      <td>Leon Bridges</td>\n",
       "      <td>spotify:track:0NeJjNlprGfZpeX2LQuN6c</td>\n",
       "      <td>spotify:artist:3qnGvpP8Yth1AqSBMqON5x</td>\n",
       "      <td>River</td>\n",
       "      <td>spotify:album:4svLfrPPk2npPVuI4kXPYg</td>\n",
       "      <td>238560</td>\n",
       "      <td>Coming Home</td>\n",
       "    </tr>\n",
       "  </tbody>\n",
       "</table>\n",
       "</div>"
      ],
      "text/plain": [
       "               artist_name                             track_uri  \\\n",
       "0         Sleeping At Last  spotify:track:2d7LPtieXdIYzf7yHPooWd   \n",
       "1         Rachael Yamagata  spotify:track:0y4TKcc7p2H6P0GJlt01EI   \n",
       "2  The Cinematic Orchestra  spotify:track:6q4c1vPRZREh7nw3wG7Ixz   \n",
       "3  The Cinematic Orchestra  spotify:track:54KFQB6N4pn926IUUYZGzK   \n",
       "4             Leon Bridges  spotify:track:0NeJjNlprGfZpeX2LQuN6c   \n",
       "\n",
       "                              artist_uri       track_name  \\\n",
       "0  spotify:artist:0MeLMJJcouYXCymQSHPn8g     Chasing Cars   \n",
       "1  spotify:artist:7w0qj2HiAPIeUcoPogvOZ6        Elephants   \n",
       "2  spotify:artist:32ogthv0BdaSMPml02X9YB        That Home   \n",
       "3  spotify:artist:32ogthv0BdaSMPml02X9YB  To Build A Home   \n",
       "4  spotify:artist:3qnGvpP8Yth1AqSBMqON5x            River   \n",
       "\n",
       "                              album_uri duration_ms  \\\n",
       "0  spotify:album:0UIIvTTWNB3gRQWFoxoEDh      242564   \n",
       "1  spotify:album:6KzK9fDNmj7GHFbcE4gVJD      253701   \n",
       "2  spotify:album:5cPHT4yMCfETLRYAoBFcOZ      103920   \n",
       "3  spotify:album:5cPHT4yMCfETLRYAoBFcOZ      371320   \n",
       "4  spotify:album:4svLfrPPk2npPVuI4kXPYg      238560   \n",
       "\n",
       "                             album_name  \n",
       "0                        Covers, Vol. 2  \n",
       "1  Elephants...Teeth Sinking Into Heart  \n",
       "2                              Ma Fleur  \n",
       "3                              Ma Fleur  \n",
       "4                           Coming Home  "
      ]
     },
     "execution_count": 13,
     "metadata": {},
     "output_type": "execute_result"
    }
   ],
   "source": [
    "print(len(songs))\n",
    "songs.head()"
   ]
  },
  {
   "cell_type": "code",
   "execution_count": 19,
   "metadata": {},
   "outputs": [
    {
     "name": "stderr",
     "output_type": "stream",
     "text": [
      "//anaconda3/envs/ac209a/lib/python3.7/site-packages/ipykernel_launcher.py:1: FutureWarning: The signature of `Series.to_csv` was aligned to that of `DataFrame.to_csv`, and argument 'header' will change its default value from False to True: please pass an explicit value to suppress this warning.\n",
      "  \"\"\"Entry point for launching an IPython kernel.\n"
     ]
    }
   ],
   "source": [
    "playlists.to_csv('../data/playlist_songs.csv')"
   ]
  },
  {
   "cell_type": "code",
   "execution_count": 14,
   "metadata": {
    "scrolled": true
   },
   "outputs": [
    {
     "name": "stdout",
     "output_type": "stream",
     "text": [
      "1000000\n"
     ]
    },
    {
     "data": {
      "text/plain": [
       "284_0    [spotify:track:2d7LPtieXdIYzf7yHPooWd, spotify...\n",
       "284_1    [spotify:track:5j9iuo3tMmQIfnEEQOOjxh, spotify...\n",
       "284_2    [spotify:track:4HBVGSeSPpSZ1QmMBhEtqp, spotify...\n",
       "284_3    [spotify:track:1f5AW15GV76mk8JNxaPJIx, spotify...\n",
       "284_4    [spotify:track:4Sj3djQIFuaH3VICDN3uAA, spotify...\n",
       "dtype: object"
      ]
     },
     "execution_count": 14,
     "metadata": {},
     "output_type": "execute_result"
    }
   ],
   "source": [
    "print(len(playlists))\n",
    "playlists.head()"
   ]
  },
  {
   "cell_type": "markdown",
   "metadata": {},
   "source": [
    "Convert `track_uri` to ID of song in our master lookup table.\n",
    "\n",
    "**This seems computationally intractable.**"
   ]
  },
  {
   "cell_type": "code",
   "execution_count": 48,
   "metadata": {},
   "outputs": [
    {
     "name": "stdout",
     "output_type": "stream",
     "text": [
      "50/1000000\n"
     ]
    },
    {
     "ename": "KeyboardInterrupt",
     "evalue": "",
     "output_type": "error",
     "traceback": [
      "\u001b[0;31m---------------------------------------------------------------------------\u001b[0m",
      "\u001b[0;31mKeyboardInterrupt\u001b[0m                         Traceback (most recent call last)",
      "\u001b[0;32m<ipython-input-48-3e5a899ce768>\u001b[0m in \u001b[0;36m<module>\u001b[0;34m\u001b[0m\n\u001b[1;32m      6\u001b[0m \u001b[0mj\u001b[0m \u001b[0;34m=\u001b[0m \u001b[0;36m0\u001b[0m\u001b[0;34m\u001b[0m\u001b[0;34m\u001b[0m\u001b[0m\n\u001b[1;32m      7\u001b[0m \u001b[0;32mfor\u001b[0m \u001b[0mind\u001b[0m\u001b[0;34m,\u001b[0m \u001b[0mrow\u001b[0m \u001b[0;32min\u001b[0m \u001b[0mplaylists\u001b[0m\u001b[0;34m.\u001b[0m\u001b[0mitems\u001b[0m\u001b[0;34m(\u001b[0m\u001b[0;34m)\u001b[0m\u001b[0;34m:\u001b[0m\u001b[0;34m\u001b[0m\u001b[0;34m\u001b[0m\u001b[0m\n\u001b[0;32m----> 8\u001b[0;31m     \u001b[0msongids\u001b[0m \u001b[0;34m=\u001b[0m \u001b[0;34m[\u001b[0m\u001b[0msongs\u001b[0m\u001b[0;34m.\u001b[0m\u001b[0mindex\u001b[0m\u001b[0;34m[\u001b[0m\u001b[0msongs\u001b[0m\u001b[0;34m.\u001b[0m\u001b[0mtrack_uri\u001b[0m \u001b[0;34m==\u001b[0m \u001b[0muri\u001b[0m\u001b[0;34m]\u001b[0m\u001b[0;34m.\u001b[0m\u001b[0mvalues\u001b[0m\u001b[0;34m[\u001b[0m\u001b[0;36m0\u001b[0m\u001b[0;34m]\u001b[0m \u001b[0;32mfor\u001b[0m \u001b[0muri\u001b[0m \u001b[0;32min\u001b[0m \u001b[0mrow\u001b[0m\u001b[0;34m]\u001b[0m\u001b[0;34m\u001b[0m\u001b[0;34m\u001b[0m\u001b[0m\n\u001b[0m\u001b[1;32m      9\u001b[0m     \u001b[0mplaylists_songids\u001b[0m\u001b[0;34m[\u001b[0m\u001b[0mind\u001b[0m\u001b[0;34m]\u001b[0m \u001b[0;34m=\u001b[0m \u001b[0mnp\u001b[0m\u001b[0;34m.\u001b[0m\u001b[0marray\u001b[0m\u001b[0;34m(\u001b[0m\u001b[0msongids\u001b[0m\u001b[0;34m)\u001b[0m\u001b[0;34m\u001b[0m\u001b[0;34m\u001b[0m\u001b[0m\n\u001b[1;32m     10\u001b[0m \u001b[0;34m\u001b[0m\u001b[0m\n",
      "\u001b[0;32m<ipython-input-48-3e5a899ce768>\u001b[0m in \u001b[0;36m<listcomp>\u001b[0;34m(.0)\u001b[0m\n\u001b[1;32m      6\u001b[0m \u001b[0mj\u001b[0m \u001b[0;34m=\u001b[0m \u001b[0;36m0\u001b[0m\u001b[0;34m\u001b[0m\u001b[0;34m\u001b[0m\u001b[0m\n\u001b[1;32m      7\u001b[0m \u001b[0;32mfor\u001b[0m \u001b[0mind\u001b[0m\u001b[0;34m,\u001b[0m \u001b[0mrow\u001b[0m \u001b[0;32min\u001b[0m \u001b[0mplaylists\u001b[0m\u001b[0;34m.\u001b[0m\u001b[0mitems\u001b[0m\u001b[0;34m(\u001b[0m\u001b[0;34m)\u001b[0m\u001b[0;34m:\u001b[0m\u001b[0;34m\u001b[0m\u001b[0;34m\u001b[0m\u001b[0m\n\u001b[0;32m----> 8\u001b[0;31m     \u001b[0msongids\u001b[0m \u001b[0;34m=\u001b[0m \u001b[0;34m[\u001b[0m\u001b[0msongs\u001b[0m\u001b[0;34m.\u001b[0m\u001b[0mindex\u001b[0m\u001b[0;34m[\u001b[0m\u001b[0msongs\u001b[0m\u001b[0;34m.\u001b[0m\u001b[0mtrack_uri\u001b[0m \u001b[0;34m==\u001b[0m \u001b[0muri\u001b[0m\u001b[0;34m]\u001b[0m\u001b[0;34m.\u001b[0m\u001b[0mvalues\u001b[0m\u001b[0;34m[\u001b[0m\u001b[0;36m0\u001b[0m\u001b[0;34m]\u001b[0m \u001b[0;32mfor\u001b[0m \u001b[0muri\u001b[0m \u001b[0;32min\u001b[0m \u001b[0mrow\u001b[0m\u001b[0;34m]\u001b[0m\u001b[0;34m\u001b[0m\u001b[0;34m\u001b[0m\u001b[0m\n\u001b[0m\u001b[1;32m      9\u001b[0m     \u001b[0mplaylists_songids\u001b[0m\u001b[0;34m[\u001b[0m\u001b[0mind\u001b[0m\u001b[0;34m]\u001b[0m \u001b[0;34m=\u001b[0m \u001b[0mnp\u001b[0m\u001b[0;34m.\u001b[0m\u001b[0marray\u001b[0m\u001b[0;34m(\u001b[0m\u001b[0msongids\u001b[0m\u001b[0;34m)\u001b[0m\u001b[0;34m\u001b[0m\u001b[0;34m\u001b[0m\u001b[0m\n\u001b[1;32m     10\u001b[0m \u001b[0;34m\u001b[0m\u001b[0m\n",
      "\u001b[0;32m//anaconda3/envs/ac209a/lib/python3.7/site-packages/pandas/core/ops.py\u001b[0m in \u001b[0;36mwrapper\u001b[0;34m(self, other, axis)\u001b[0m\n\u001b[1;32m   1764\u001b[0m \u001b[0;34m\u001b[0m\u001b[0m\n\u001b[1;32m   1765\u001b[0m             \u001b[0;32mwith\u001b[0m \u001b[0mnp\u001b[0m\u001b[0;34m.\u001b[0m\u001b[0merrstate\u001b[0m\u001b[0;34m(\u001b[0m\u001b[0mall\u001b[0m\u001b[0;34m=\u001b[0m\u001b[0;34m'ignore'\u001b[0m\u001b[0;34m)\u001b[0m\u001b[0;34m:\u001b[0m\u001b[0;34m\u001b[0m\u001b[0;34m\u001b[0m\u001b[0m\n\u001b[0;32m-> 1766\u001b[0;31m                 \u001b[0mres\u001b[0m \u001b[0;34m=\u001b[0m \u001b[0mna_op\u001b[0m\u001b[0;34m(\u001b[0m\u001b[0mvalues\u001b[0m\u001b[0;34m,\u001b[0m \u001b[0mother\u001b[0m\u001b[0;34m)\u001b[0m\u001b[0;34m\u001b[0m\u001b[0;34m\u001b[0m\u001b[0m\n\u001b[0m\u001b[1;32m   1767\u001b[0m             \u001b[0;32mif\u001b[0m \u001b[0mis_scalar\u001b[0m\u001b[0;34m(\u001b[0m\u001b[0mres\u001b[0m\u001b[0;34m)\u001b[0m\u001b[0;34m:\u001b[0m\u001b[0;34m\u001b[0m\u001b[0;34m\u001b[0m\u001b[0m\n\u001b[1;32m   1768\u001b[0m                 raise TypeError('Could not compare {typ} type with Series'\n",
      "\u001b[0;32m//anaconda3/envs/ac209a/lib/python3.7/site-packages/pandas/core/ops.py\u001b[0m in \u001b[0;36mna_op\u001b[0;34m(x, y)\u001b[0m\n\u001b[1;32m   1623\u001b[0m \u001b[0;34m\u001b[0m\u001b[0m\n\u001b[1;32m   1624\u001b[0m         \u001b[0;32mif\u001b[0m \u001b[0mis_object_dtype\u001b[0m\u001b[0;34m(\u001b[0m\u001b[0mx\u001b[0m\u001b[0;34m.\u001b[0m\u001b[0mdtype\u001b[0m\u001b[0;34m)\u001b[0m\u001b[0;34m:\u001b[0m\u001b[0;34m\u001b[0m\u001b[0;34m\u001b[0m\u001b[0m\n\u001b[0;32m-> 1625\u001b[0;31m             \u001b[0mresult\u001b[0m \u001b[0;34m=\u001b[0m \u001b[0m_comp_method_OBJECT_ARRAY\u001b[0m\u001b[0;34m(\u001b[0m\u001b[0mop\u001b[0m\u001b[0;34m,\u001b[0m \u001b[0mx\u001b[0m\u001b[0;34m,\u001b[0m \u001b[0my\u001b[0m\u001b[0;34m)\u001b[0m\u001b[0;34m\u001b[0m\u001b[0;34m\u001b[0m\u001b[0m\n\u001b[0m\u001b[1;32m   1626\u001b[0m \u001b[0;34m\u001b[0m\u001b[0m\n\u001b[1;32m   1627\u001b[0m         \u001b[0;32melif\u001b[0m \u001b[0mis_datetimelike_v_numeric\u001b[0m\u001b[0;34m(\u001b[0m\u001b[0mx\u001b[0m\u001b[0;34m,\u001b[0m \u001b[0my\u001b[0m\u001b[0;34m)\u001b[0m\u001b[0;34m:\u001b[0m\u001b[0;34m\u001b[0m\u001b[0;34m\u001b[0m\u001b[0m\n",
      "\u001b[0;32m//anaconda3/envs/ac209a/lib/python3.7/site-packages/pandas/core/ops.py\u001b[0m in \u001b[0;36m_comp_method_OBJECT_ARRAY\u001b[0;34m(op, x, y)\u001b[0m\n\u001b[1;32m   1601\u001b[0m         \u001b[0mresult\u001b[0m \u001b[0;34m=\u001b[0m \u001b[0mlibops\u001b[0m\u001b[0;34m.\u001b[0m\u001b[0mvec_compare\u001b[0m\u001b[0;34m(\u001b[0m\u001b[0mx\u001b[0m\u001b[0;34m,\u001b[0m \u001b[0my\u001b[0m\u001b[0;34m,\u001b[0m \u001b[0mop\u001b[0m\u001b[0;34m)\u001b[0m\u001b[0;34m\u001b[0m\u001b[0;34m\u001b[0m\u001b[0m\n\u001b[1;32m   1602\u001b[0m     \u001b[0;32melse\u001b[0m\u001b[0;34m:\u001b[0m\u001b[0;34m\u001b[0m\u001b[0;34m\u001b[0m\u001b[0m\n\u001b[0;32m-> 1603\u001b[0;31m         \u001b[0mresult\u001b[0m \u001b[0;34m=\u001b[0m \u001b[0mlibops\u001b[0m\u001b[0;34m.\u001b[0m\u001b[0mscalar_compare\u001b[0m\u001b[0;34m(\u001b[0m\u001b[0mx\u001b[0m\u001b[0;34m,\u001b[0m \u001b[0my\u001b[0m\u001b[0;34m,\u001b[0m \u001b[0mop\u001b[0m\u001b[0;34m)\u001b[0m\u001b[0;34m\u001b[0m\u001b[0;34m\u001b[0m\u001b[0m\n\u001b[0m\u001b[1;32m   1604\u001b[0m     \u001b[0;32mreturn\u001b[0m \u001b[0mresult\u001b[0m\u001b[0;34m\u001b[0m\u001b[0;34m\u001b[0m\u001b[0m\n\u001b[1;32m   1605\u001b[0m \u001b[0;34m\u001b[0m\u001b[0m\n",
      "\u001b[0;31mKeyboardInterrupt\u001b[0m: "
     ]
    }
   ],
   "source": [
    "start_time = time.time()\n",
    "\n",
    "playlists_songids = pd.Series(index = playlists.index)\n",
    "playlists_songids = playlists_songids.astype(object)\n",
    "\n",
    "j = 0\n",
    "for ind, row in playlists.items():\n",
    "    songids = [songs.index[songs.track_uri == uri].values[0] for uri in row]\n",
    "    playlists_songids[ind] = np.array(songids)\n",
    "    \n",
    "    j+= 1\n",
    "    if j%50 == 0: print('{}/{}'.format(j, len(playlists)))\n",
    "    \n",
    "print(\"--- %s seconds ---\" % (time.time() - start_time))"
   ]
  },
  {
   "cell_type": "code",
   "execution_count": null,
   "metadata": {},
   "outputs": [],
   "source": [
    "playlists_songids.to_csv('../data/playlist_songs_ids.csv')"
   ]
  },
  {
   "cell_type": "code",
   "execution_count": null,
   "metadata": {},
   "outputs": [],
   "source": []
  }
 ],
 "metadata": {
  "kernelspec": {
   "display_name": "Python Conda AC209a",
   "language": "python",
   "name": "ac209a"
  },
  "language_info": {
   "codemirror_mode": {
    "name": "ipython",
    "version": 3
   },
   "file_extension": ".py",
   "mimetype": "text/x-python",
   "name": "python",
   "nbconvert_exporter": "python",
   "pygments_lexer": "ipython3",
   "version": "3.7.4"
  }
 },
 "nbformat": 4,
 "nbformat_minor": 2
}
