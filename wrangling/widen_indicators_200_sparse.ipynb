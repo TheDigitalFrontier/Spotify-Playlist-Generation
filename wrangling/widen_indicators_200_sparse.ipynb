{
 "cells": [
  {
   "cell_type": "code",
   "execution_count": 82,
   "metadata": {},
   "outputs": [],
   "source": [
    "import numpy as np\n",
    "import pandas as pd\n",
    "\n",
    "import matplotlib.pyplot as plt\n",
    "import seaborn as sns\n",
    "\n",
    "from os import listdir\n",
    "from os.path import isfile, join\n",
    "\n",
    "import time\n",
    "from itertools import chain, product\n",
    "\n",
    "sns.set()"
   ]
  },
  {
   "cell_type": "code",
   "execution_count": 2,
   "metadata": {},
   "outputs": [],
   "source": [
    "%matplotlib inline"
   ]
  },
  {
   "cell_type": "markdown",
   "metadata": {},
   "source": [
    "Spot check an individual songs file to explore its format and data."
   ]
  },
  {
   "cell_type": "code",
   "execution_count": 3,
   "metadata": {},
   "outputs": [],
   "source": [
    "songs = pd.read_pickle('../data/songs_counts_200.pkl')\n",
    "playlists = pd.read_pickle('../data/playlists_song_ids_200.pkl')"
   ]
  },
  {
   "cell_type": "code",
   "execution_count": 4,
   "metadata": {
    "scrolled": false
   },
   "outputs": [
    {
     "name": "stdout",
     "output_type": "stream",
     "text": [
      "(1003760, 8)\n"
     ]
    },
    {
     "data": {
      "text/html": [
       "<div>\n",
       "<style scoped>\n",
       "    .dataframe tbody tr th:only-of-type {\n",
       "        vertical-align: middle;\n",
       "    }\n",
       "\n",
       "    .dataframe tbody tr th {\n",
       "        vertical-align: top;\n",
       "    }\n",
       "\n",
       "    .dataframe thead th {\n",
       "        text-align: right;\n",
       "    }\n",
       "</style>\n",
       "<table border=\"1\" class=\"dataframe\">\n",
       "  <thead>\n",
       "    <tr style=\"text-align: right;\">\n",
       "      <th></th>\n",
       "      <th>artist_name</th>\n",
       "      <th>artist_uri</th>\n",
       "      <th>track_name</th>\n",
       "      <th>album_uri</th>\n",
       "      <th>duration_ms</th>\n",
       "      <th>album_name</th>\n",
       "      <th>count</th>\n",
       "      <th>track_uri</th>\n",
       "    </tr>\n",
       "    <tr>\n",
       "      <th>song_id</th>\n",
       "      <th></th>\n",
       "      <th></th>\n",
       "      <th></th>\n",
       "      <th></th>\n",
       "      <th></th>\n",
       "      <th></th>\n",
       "      <th></th>\n",
       "      <th></th>\n",
       "    </tr>\n",
       "  </thead>\n",
       "  <tbody>\n",
       "    <tr>\n",
       "      <td>0</td>\n",
       "      <td>Sidney Bechet's Blue Note Jazzmen</td>\n",
       "      <td>spotify:artist:2XouUSO0EAJ9gMMoHiXqMt</td>\n",
       "      <td>Muskrat Ramble</td>\n",
       "      <td>spotify:album:04hQBJ7YSuNnZ0nbuXNYbY</td>\n",
       "      <td>220293</td>\n",
       "      <td>Jazz Classics</td>\n",
       "      <td>1</td>\n",
       "      <td>spotify:track:0002yNGLtYSYtc0X6ZnFvp</td>\n",
       "    </tr>\n",
       "    <tr>\n",
       "      <td>1</td>\n",
       "      <td>Zach Farlow</td>\n",
       "      <td>spotify:artist:2jTojc4rAsOMx6200a8Ah1</td>\n",
       "      <td>Thas What I Do</td>\n",
       "      <td>spotify:album:0UHfgx3ITlxePDXLaN5Y6x</td>\n",
       "      <td>222727</td>\n",
       "      <td>The Great Escape 2</td>\n",
       "      <td>2</td>\n",
       "      <td>spotify:track:00039MgrmLoIzSpuYKurn9</td>\n",
       "    </tr>\n",
       "    <tr>\n",
       "      <td>2</td>\n",
       "      <td>Two Steps from Hell</td>\n",
       "      <td>spotify:artist:2qvP9yerCZCS0U1gZU8wYp</td>\n",
       "      <td>Nightwood</td>\n",
       "      <td>spotify:album:1BD29pKydSXe1EsHFj0GrQ</td>\n",
       "      <td>189638</td>\n",
       "      <td>Colin Frake On Fire Mountain</td>\n",
       "      <td>4</td>\n",
       "      <td>spotify:track:0006Rv1e2Xfh6QooyKJqKS</td>\n",
       "    </tr>\n",
       "    <tr>\n",
       "      <td>3</td>\n",
       "      <td>Little Simz</td>\n",
       "      <td>spotify:artist:6eXZu6O7nAUA5z6vLV8NKI</td>\n",
       "      <td>Mandarin Oranges Part 2</td>\n",
       "      <td>spotify:album:32RJzqlapfiU0fr2l4SSW9</td>\n",
       "      <td>198000</td>\n",
       "      <td>E.D.G.E</td>\n",
       "      <td>1</td>\n",
       "      <td>spotify:track:0007AYhg2UQbEm88mxu7js</td>\n",
       "    </tr>\n",
       "    <tr>\n",
       "      <td>4</td>\n",
       "      <td>Slam</td>\n",
       "      <td>spotify:artist:0Y0Kj7BOR5DM0UevuY7IvO</td>\n",
       "      <td>Movement</td>\n",
       "      <td>spotify:album:62VkRE2ucNvZDnYMCsnNDh</td>\n",
       "      <td>447534</td>\n",
       "      <td>Movement</td>\n",
       "      <td>1</td>\n",
       "      <td>spotify:track:0009mEWM7HILVo4VZYtqwc</td>\n",
       "    </tr>\n",
       "  </tbody>\n",
       "</table>\n",
       "</div>"
      ],
      "text/plain": [
       "                               artist_name  \\\n",
       "song_id                                      \n",
       "0        Sidney Bechet's Blue Note Jazzmen   \n",
       "1                              Zach Farlow   \n",
       "2                      Two Steps from Hell   \n",
       "3                              Little Simz   \n",
       "4                                     Slam   \n",
       "\n",
       "                                    artist_uri               track_name  \\\n",
       "song_id                                                                   \n",
       "0        spotify:artist:2XouUSO0EAJ9gMMoHiXqMt           Muskrat Ramble   \n",
       "1        spotify:artist:2jTojc4rAsOMx6200a8Ah1           Thas What I Do   \n",
       "2        spotify:artist:2qvP9yerCZCS0U1gZU8wYp                Nightwood   \n",
       "3        spotify:artist:6eXZu6O7nAUA5z6vLV8NKI  Mandarin Oranges Part 2   \n",
       "4        spotify:artist:0Y0Kj7BOR5DM0UevuY7IvO                 Movement   \n",
       "\n",
       "                                    album_uri  duration_ms  \\\n",
       "song_id                                                      \n",
       "0        spotify:album:04hQBJ7YSuNnZ0nbuXNYbY       220293   \n",
       "1        spotify:album:0UHfgx3ITlxePDXLaN5Y6x       222727   \n",
       "2        spotify:album:1BD29pKydSXe1EsHFj0GrQ       189638   \n",
       "3        spotify:album:32RJzqlapfiU0fr2l4SSW9       198000   \n",
       "4        spotify:album:62VkRE2ucNvZDnYMCsnNDh       447534   \n",
       "\n",
       "                           album_name  count  \\\n",
       "song_id                                        \n",
       "0                       Jazz Classics      1   \n",
       "1                  The Great Escape 2      2   \n",
       "2        Colin Frake On Fire Mountain      4   \n",
       "3                             E.D.G.E      1   \n",
       "4                            Movement      1   \n",
       "\n",
       "                                    track_uri  \n",
       "song_id                                        \n",
       "0        spotify:track:0002yNGLtYSYtc0X6ZnFvp  \n",
       "1        spotify:track:00039MgrmLoIzSpuYKurn9  \n",
       "2        spotify:track:0006Rv1e2Xfh6QooyKJqKS  \n",
       "3        spotify:track:0007AYhg2UQbEm88mxu7js  \n",
       "4        spotify:track:0009mEWM7HILVo4VZYtqwc  "
      ]
     },
     "metadata": {},
     "output_type": "display_data"
    },
    {
     "name": "stdout",
     "output_type": "stream",
     "text": [
      "(200000,)\n"
     ]
    },
    {
     "data": {
      "text/plain": [
       "284_0    [340039, 125250, 881533, 653897, 49614, 356319...\n",
       "284_1    [738782, 7646, 142078, 900881, 533258, 429837,...\n",
       "284_2    [552361, 135177, 507876, 865927, 638474, 55164...\n",
       "284_3    [214695, 27387, 700562, 448130, 1000188, 37723...\n",
       "284_4    [576080, 600, 170841, 842370, 450149, 8624, 89...\n",
       "dtype: object"
      ]
     },
     "metadata": {},
     "output_type": "display_data"
    }
   ],
   "source": [
    "print(songs.shape)\n",
    "display(songs.head())\n",
    "\n",
    "print(playlists.shape)\n",
    "display(playlists.head())"
   ]
  },
  {
   "cell_type": "markdown",
   "metadata": {},
   "source": [
    "Verify song IDs are unique and complete with no gaps"
   ]
  },
  {
   "cell_type": "code",
   "execution_count": 5,
   "metadata": {},
   "outputs": [],
   "source": [
    "assert min(songs.index.values) == 0\n",
    "assert max(songs.index.values) == len(songs.index.values)-1\n",
    "assert len(set(songs.index.values)) == len(songs.index.values)"
   ]
  },
  {
   "cell_type": "code",
   "execution_count": 6,
   "metadata": {
    "scrolled": true
   },
   "outputs": [
    {
     "data": {
      "text/plain": [
       "[340039, 125250, 881533, 653897, 49614, 356319, 787744, 603984, 894661, 461894]"
      ]
     },
     "execution_count": 6,
     "metadata": {},
     "output_type": "execute_result"
    }
   ],
   "source": [
    "all_songs_all_playlists = list(chain.from_iterable(playlists))\n",
    "all_songs_all_playlists[0:10]"
   ]
  },
  {
   "cell_type": "markdown",
   "metadata": {},
   "source": [
    "Verify that song IDs used in playlists is the same set as those in the songs table:"
   ]
  },
  {
   "cell_type": "code",
   "execution_count": 7,
   "metadata": {},
   "outputs": [],
   "source": [
    "assert set(all_songs_all_playlists) == set(songs.index.values)"
   ]
  },
  {
   "cell_type": "markdown",
   "metadata": {},
   "source": [
    "## Sanity check: song IDs and playlists match up\n",
    "Manual inspection of `songs284.csv` indeed shows that the song data of song IDs stored in playlist $284_0$ match those in the file:"
   ]
  },
  {
   "cell_type": "code",
   "execution_count": 8,
   "metadata": {
    "scrolled": false
   },
   "outputs": [
    {
     "data": {
      "text/html": [
       "<div>\n",
       "<style scoped>\n",
       "    .dataframe tbody tr th:only-of-type {\n",
       "        vertical-align: middle;\n",
       "    }\n",
       "\n",
       "    .dataframe tbody tr th {\n",
       "        vertical-align: top;\n",
       "    }\n",
       "\n",
       "    .dataframe thead th {\n",
       "        text-align: right;\n",
       "    }\n",
       "</style>\n",
       "<table border=\"1\" class=\"dataframe\">\n",
       "  <thead>\n",
       "    <tr style=\"text-align: right;\">\n",
       "      <th></th>\n",
       "      <th>artist_name</th>\n",
       "      <th>artist_uri</th>\n",
       "      <th>track_name</th>\n",
       "      <th>album_uri</th>\n",
       "      <th>duration_ms</th>\n",
       "      <th>album_name</th>\n",
       "      <th>count</th>\n",
       "      <th>track_uri</th>\n",
       "    </tr>\n",
       "    <tr>\n",
       "      <th>song_id</th>\n",
       "      <th></th>\n",
       "      <th></th>\n",
       "      <th></th>\n",
       "      <th></th>\n",
       "      <th></th>\n",
       "      <th></th>\n",
       "      <th></th>\n",
       "      <th></th>\n",
       "    </tr>\n",
       "  </thead>\n",
       "  <tbody>\n",
       "    <tr>\n",
       "      <td>340039</td>\n",
       "      <td>Sleeping At Last</td>\n",
       "      <td>spotify:artist:0MeLMJJcouYXCymQSHPn8g</td>\n",
       "      <td>Chasing Cars</td>\n",
       "      <td>spotify:album:0UIIvTTWNB3gRQWFoxoEDh</td>\n",
       "      <td>242564</td>\n",
       "      <td>Covers, Vol. 2</td>\n",
       "      <td>401</td>\n",
       "      <td>spotify:track:2d7LPtieXdIYzf7yHPooWd</td>\n",
       "    </tr>\n",
       "    <tr>\n",
       "      <td>125250</td>\n",
       "      <td>Rachael Yamagata</td>\n",
       "      <td>spotify:artist:7w0qj2HiAPIeUcoPogvOZ6</td>\n",
       "      <td>Elephants</td>\n",
       "      <td>spotify:album:6KzK9fDNmj7GHFbcE4gVJD</td>\n",
       "      <td>253701</td>\n",
       "      <td>Elephants...Teeth Sinking Into Heart</td>\n",
       "      <td>14</td>\n",
       "      <td>spotify:track:0y4TKcc7p2H6P0GJlt01EI</td>\n",
       "    </tr>\n",
       "    <tr>\n",
       "      <td>881533</td>\n",
       "      <td>The Cinematic Orchestra</td>\n",
       "      <td>spotify:artist:32ogthv0BdaSMPml02X9YB</td>\n",
       "      <td>That Home</td>\n",
       "      <td>spotify:album:5cPHT4yMCfETLRYAoBFcOZ</td>\n",
       "      <td>103920</td>\n",
       "      <td>Ma Fleur</td>\n",
       "      <td>121</td>\n",
       "      <td>spotify:track:6q4c1vPRZREh7nw3wG7Ixz</td>\n",
       "    </tr>\n",
       "    <tr>\n",
       "      <td>653897</td>\n",
       "      <td>The Cinematic Orchestra</td>\n",
       "      <td>spotify:artist:32ogthv0BdaSMPml02X9YB</td>\n",
       "      <td>To Build A Home</td>\n",
       "      <td>spotify:album:5cPHT4yMCfETLRYAoBFcOZ</td>\n",
       "      <td>371320</td>\n",
       "      <td>Ma Fleur</td>\n",
       "      <td>1593</td>\n",
       "      <td>spotify:track:54KFQB6N4pn926IUUYZGzK</td>\n",
       "    </tr>\n",
       "    <tr>\n",
       "      <td>49614</td>\n",
       "      <td>Leon Bridges</td>\n",
       "      <td>spotify:artist:3qnGvpP8Yth1AqSBMqON5x</td>\n",
       "      <td>River</td>\n",
       "      <td>spotify:album:4svLfrPPk2npPVuI4kXPYg</td>\n",
       "      <td>238560</td>\n",
       "      <td>Coming Home</td>\n",
       "      <td>989</td>\n",
       "      <td>spotify:track:0NeJjNlprGfZpeX2LQuN6c</td>\n",
       "    </tr>\n",
       "    <tr>\n",
       "      <td>356319</td>\n",
       "      <td>Ryan Amador</td>\n",
       "      <td>spotify:artist:1ihU4zSTmY0qQXhx8jEXWT</td>\n",
       "      <td>Instead</td>\n",
       "      <td>spotify:album:1t1kSv0ySypwFXKgyocRRk</td>\n",
       "      <td>355529</td>\n",
       "      <td>Ryan Amador</td>\n",
       "      <td>117</td>\n",
       "      <td>spotify:track:2kuFVY6hWX6yavTiWHE3SQ</td>\n",
       "    </tr>\n",
       "    <tr>\n",
       "      <td>787744</td>\n",
       "      <td>Glee Cast</td>\n",
       "      <td>spotify:artist:0SCbttzoZTnLFebDYmAWCm</td>\n",
       "      <td>Somewhere Only We Know (Glee Cast Version)</td>\n",
       "      <td>spotify:album:6WlzaRoDShdgVgaqJRjyNH</td>\n",
       "      <td>184653</td>\n",
       "      <td>Glee: The Music, The Complete Season Two</td>\n",
       "      <td>86</td>\n",
       "      <td>spotify:track:66mmvchQ4C3LnPzq4DiAI3</td>\n",
       "    </tr>\n",
       "    <tr>\n",
       "      <td>603984</td>\n",
       "      <td>Rihanna</td>\n",
       "      <td>spotify:artist:5pKCCKE2ajJHZ9KAiaK11H</td>\n",
       "      <td>Close To You</td>\n",
       "      <td>spotify:album:3Q149ZH46Z0f3oDR7vlDYV</td>\n",
       "      <td>223226</td>\n",
       "      <td>ANTI</td>\n",
       "      <td>500</td>\n",
       "      <td>spotify:track:4gFxywaJejXWxo0NjlWzgg</td>\n",
       "    </tr>\n",
       "    <tr>\n",
       "      <td>894661</td>\n",
       "      <td>Shawn Mendes</td>\n",
       "      <td>spotify:artist:7n2wHs1TKAczGzO7Dd2rGr</td>\n",
       "      <td>Never Be Alone</td>\n",
       "      <td>spotify:album:5wKylB0Zwnxz046O7po25D</td>\n",
       "      <td>215813</td>\n",
       "      <td>Handwritten</td>\n",
       "      <td>626</td>\n",
       "      <td>spotify:track:6wQSrFnJYm3evLsavFeCVT</td>\n",
       "    </tr>\n",
       "    <tr>\n",
       "      <td>461894</td>\n",
       "      <td>Mayday Parade</td>\n",
       "      <td>spotify:artist:3WfJ1OtrWI7RViX9DMyEGy</td>\n",
       "      <td>Terrible Things</td>\n",
       "      <td>spotify:album:4eVvdwd6AC7nh9TvJD9XyT</td>\n",
       "      <td>238076</td>\n",
       "      <td>Valdosta EP</td>\n",
       "      <td>339</td>\n",
       "      <td>spotify:track:3ZjnFYlal0fXN6t61wdxhl</td>\n",
       "    </tr>\n",
       "    <tr>\n",
       "      <td>776037</td>\n",
       "      <td>nilu</td>\n",
       "      <td>spotify:artist:1XplrA4Q9dPFcayYbJqX6K</td>\n",
       "      <td>How to Save a Life</td>\n",
       "      <td>spotify:album:3JymwO9er7CrAoJULoogfq</td>\n",
       "      <td>262500</td>\n",
       "      <td>How to Save a Life</td>\n",
       "      <td>59</td>\n",
       "      <td>spotify:track:617EQMgzYFe2THz093j68m</td>\n",
       "    </tr>\n",
       "    <tr>\n",
       "      <td>810569</td>\n",
       "      <td>Josef Salvat</td>\n",
       "      <td>spotify:artist:64PJHZDQTPPVBCdwnv22Wz</td>\n",
       "      <td>Diamonds</td>\n",
       "      <td>spotify:album:1excMWyBjh9UJqk2xYZ7o0</td>\n",
       "      <td>247600</td>\n",
       "      <td>Night Swim</td>\n",
       "      <td>44</td>\n",
       "      <td>spotify:track:6Hki3HcbeU2c4T72lJjyZ5</td>\n",
       "    </tr>\n",
       "    <tr>\n",
       "      <td>855793</td>\n",
       "      <td>Tony Bennett</td>\n",
       "      <td>spotify:artist:2lolQgalUvZDfp5vvVtTYV</td>\n",
       "      <td>Penthouse Serenade (When We're Alone)</td>\n",
       "      <td>spotify:album:4PEuqYJixNSCMotzbfmWNb</td>\n",
       "      <td>372600</td>\n",
       "      <td>60 Years: The Artistry of Tony Bennett</td>\n",
       "      <td>1</td>\n",
       "      <td>spotify:track:6dbKl5pzPue67ttfvYCpK9</td>\n",
       "    </tr>\n",
       "  </tbody>\n",
       "</table>\n",
       "</div>"
      ],
      "text/plain": [
       "                     artist_name                             artist_uri  \\\n",
       "song_id                                                                   \n",
       "340039          Sleeping At Last  spotify:artist:0MeLMJJcouYXCymQSHPn8g   \n",
       "125250          Rachael Yamagata  spotify:artist:7w0qj2HiAPIeUcoPogvOZ6   \n",
       "881533   The Cinematic Orchestra  spotify:artist:32ogthv0BdaSMPml02X9YB   \n",
       "653897   The Cinematic Orchestra  spotify:artist:32ogthv0BdaSMPml02X9YB   \n",
       "49614               Leon Bridges  spotify:artist:3qnGvpP8Yth1AqSBMqON5x   \n",
       "356319               Ryan Amador  spotify:artist:1ihU4zSTmY0qQXhx8jEXWT   \n",
       "787744                 Glee Cast  spotify:artist:0SCbttzoZTnLFebDYmAWCm   \n",
       "603984                   Rihanna  spotify:artist:5pKCCKE2ajJHZ9KAiaK11H   \n",
       "894661              Shawn Mendes  spotify:artist:7n2wHs1TKAczGzO7Dd2rGr   \n",
       "461894             Mayday Parade  spotify:artist:3WfJ1OtrWI7RViX9DMyEGy   \n",
       "776037                      nilu  spotify:artist:1XplrA4Q9dPFcayYbJqX6K   \n",
       "810569              Josef Salvat  spotify:artist:64PJHZDQTPPVBCdwnv22Wz   \n",
       "855793              Tony Bennett  spotify:artist:2lolQgalUvZDfp5vvVtTYV   \n",
       "\n",
       "                                         track_name  \\\n",
       "song_id                                               \n",
       "340039                                 Chasing Cars   \n",
       "125250                                    Elephants   \n",
       "881533                                    That Home   \n",
       "653897                              To Build A Home   \n",
       "49614                                         River   \n",
       "356319                                      Instead   \n",
       "787744   Somewhere Only We Know (Glee Cast Version)   \n",
       "603984                                 Close To You   \n",
       "894661                               Never Be Alone   \n",
       "461894                              Terrible Things   \n",
       "776037                           How to Save a Life   \n",
       "810569                                     Diamonds   \n",
       "855793        Penthouse Serenade (When We're Alone)   \n",
       "\n",
       "                                    album_uri  duration_ms  \\\n",
       "song_id                                                      \n",
       "340039   spotify:album:0UIIvTTWNB3gRQWFoxoEDh       242564   \n",
       "125250   spotify:album:6KzK9fDNmj7GHFbcE4gVJD       253701   \n",
       "881533   spotify:album:5cPHT4yMCfETLRYAoBFcOZ       103920   \n",
       "653897   spotify:album:5cPHT4yMCfETLRYAoBFcOZ       371320   \n",
       "49614    spotify:album:4svLfrPPk2npPVuI4kXPYg       238560   \n",
       "356319   spotify:album:1t1kSv0ySypwFXKgyocRRk       355529   \n",
       "787744   spotify:album:6WlzaRoDShdgVgaqJRjyNH       184653   \n",
       "603984   spotify:album:3Q149ZH46Z0f3oDR7vlDYV       223226   \n",
       "894661   spotify:album:5wKylB0Zwnxz046O7po25D       215813   \n",
       "461894   spotify:album:4eVvdwd6AC7nh9TvJD9XyT       238076   \n",
       "776037   spotify:album:3JymwO9er7CrAoJULoogfq       262500   \n",
       "810569   spotify:album:1excMWyBjh9UJqk2xYZ7o0       247600   \n",
       "855793   spotify:album:4PEuqYJixNSCMotzbfmWNb       372600   \n",
       "\n",
       "                                       album_name  count  \\\n",
       "song_id                                                    \n",
       "340039                             Covers, Vol. 2    401   \n",
       "125250       Elephants...Teeth Sinking Into Heart     14   \n",
       "881533                                   Ma Fleur    121   \n",
       "653897                                   Ma Fleur   1593   \n",
       "49614                                 Coming Home    989   \n",
       "356319                                Ryan Amador    117   \n",
       "787744   Glee: The Music, The Complete Season Two     86   \n",
       "603984                                       ANTI    500   \n",
       "894661                                Handwritten    626   \n",
       "461894                                Valdosta EP    339   \n",
       "776037                         How to Save a Life     59   \n",
       "810569                                 Night Swim     44   \n",
       "855793     60 Years: The Artistry of Tony Bennett      1   \n",
       "\n",
       "                                    track_uri  \n",
       "song_id                                        \n",
       "340039   spotify:track:2d7LPtieXdIYzf7yHPooWd  \n",
       "125250   spotify:track:0y4TKcc7p2H6P0GJlt01EI  \n",
       "881533   spotify:track:6q4c1vPRZREh7nw3wG7Ixz  \n",
       "653897   spotify:track:54KFQB6N4pn926IUUYZGzK  \n",
       "49614    spotify:track:0NeJjNlprGfZpeX2LQuN6c  \n",
       "356319   spotify:track:2kuFVY6hWX6yavTiWHE3SQ  \n",
       "787744   spotify:track:66mmvchQ4C3LnPzq4DiAI3  \n",
       "603984   spotify:track:4gFxywaJejXWxo0NjlWzgg  \n",
       "894661   spotify:track:6wQSrFnJYm3evLsavFeCVT  \n",
       "461894   spotify:track:3ZjnFYlal0fXN6t61wdxhl  \n",
       "776037   spotify:track:617EQMgzYFe2THz093j68m  \n",
       "810569   spotify:track:6Hki3HcbeU2c4T72lJjyZ5  \n",
       "855793   spotify:track:6dbKl5pzPue67ttfvYCpK9  "
      ]
     },
     "execution_count": 8,
     "metadata": {},
     "output_type": "execute_result"
    }
   ],
   "source": [
    "songs.loc[playlists['284_0']]"
   ]
  },
  {
   "cell_type": "markdown",
   "metadata": {},
   "source": [
    "## EDA: songs"
   ]
  },
  {
   "cell_type": "code",
   "execution_count": 9,
   "metadata": {},
   "outputs": [
    {
     "data": {
      "text/html": [
       "<div>\n",
       "<style scoped>\n",
       "    .dataframe tbody tr th:only-of-type {\n",
       "        vertical-align: middle;\n",
       "    }\n",
       "\n",
       "    .dataframe tbody tr th {\n",
       "        vertical-align: top;\n",
       "    }\n",
       "\n",
       "    .dataframe thead th {\n",
       "        text-align: right;\n",
       "    }\n",
       "</style>\n",
       "<table border=\"1\" class=\"dataframe\">\n",
       "  <thead>\n",
       "    <tr style=\"text-align: right;\">\n",
       "      <th></th>\n",
       "      <th>duration_ms</th>\n",
       "      <th>count</th>\n",
       "    </tr>\n",
       "  </thead>\n",
       "  <tbody>\n",
       "    <tr>\n",
       "      <td>count</td>\n",
       "      <td>1.003760e+06</td>\n",
       "      <td>1.003760e+06</td>\n",
       "    </tr>\n",
       "    <tr>\n",
       "      <td>mean</td>\n",
       "      <td>2.437604e+05</td>\n",
       "      <td>1.321844e+01</td>\n",
       "    </tr>\n",
       "    <tr>\n",
       "      <td>std</td>\n",
       "      <td>1.353252e+05</td>\n",
       "      <td>1.078177e+02</td>\n",
       "    </tr>\n",
       "    <tr>\n",
       "      <td>min</td>\n",
       "      <td>0.000000e+00</td>\n",
       "      <td>1.000000e+00</td>\n",
       "    </tr>\n",
       "    <tr>\n",
       "      <td>25%</td>\n",
       "      <td>1.868660e+05</td>\n",
       "      <td>1.000000e+00</td>\n",
       "    </tr>\n",
       "    <tr>\n",
       "      <td>50%</td>\n",
       "      <td>2.249895e+05</td>\n",
       "      <td>1.000000e+00</td>\n",
       "    </tr>\n",
       "    <tr>\n",
       "      <td>75%</td>\n",
       "      <td>2.737330e+05</td>\n",
       "      <td>4.000000e+00</td>\n",
       "    </tr>\n",
       "    <tr>\n",
       "      <td>max</td>\n",
       "      <td>1.043547e+07</td>\n",
       "      <td>9.248000e+03</td>\n",
       "    </tr>\n",
       "  </tbody>\n",
       "</table>\n",
       "</div>"
      ],
      "text/plain": [
       "        duration_ms         count\n",
       "count  1.003760e+06  1.003760e+06\n",
       "mean   2.437604e+05  1.321844e+01\n",
       "std    1.353252e+05  1.078177e+02\n",
       "min    0.000000e+00  1.000000e+00\n",
       "25%    1.868660e+05  1.000000e+00\n",
       "50%    2.249895e+05  1.000000e+00\n",
       "75%    2.737330e+05  4.000000e+00\n",
       "max    1.043547e+07  9.248000e+03"
      ]
     },
     "execution_count": 9,
     "metadata": {},
     "output_type": "execute_result"
    }
   ],
   "source": [
    "songs.describe()"
   ]
  },
  {
   "cell_type": "code",
   "execution_count": 10,
   "metadata": {},
   "outputs": [
    {
     "data": {
      "text/plain": [
       "Text(0.5, 1.0, 'Filtered to 1 < frequency < 100 as there is an extremely long right tail')"
      ]
     },
     "execution_count": 10,
     "metadata": {},
     "output_type": "execute_result"
    },
    {
     "data": {
      "image/png": "[encoded data removed]",
      "text/plain": [
       "<Figure size 432x288 with 1 Axes>"
      ]
     },
     "metadata": {
      "needs_background": "light"
     },
     "output_type": "display_data"
    }
   ],
   "source": [
    "plt.hist(songs.loc[(songs['count'] > 1) & (songs['count'] < 100), 'count'], bins = 30)\n",
    "plt.suptitle('Distribution of song appearances across playlists')\n",
    "plt.title('Filtered to 1 < frequency < 100 as there is an extremely long right tail')"
   ]
  },
  {
   "cell_type": "markdown",
   "metadata": {},
   "source": [
    "## EDA: playlists"
   ]
  },
  {
   "cell_type": "code",
   "execution_count": 11,
   "metadata": {},
   "outputs": [
    {
     "data": {
      "text/plain": [
       "Text(0.5, 1.0, 'Distribution of number of songs in playlist')"
      ]
     },
     "execution_count": 11,
     "metadata": {},
     "output_type": "execute_result"
    },
    {
     "data": {
      "image/png": "[encoded data removed]",
      "text/plain": [
       "<Figure size 432x288 with 1 Axes>"
      ]
     },
     "metadata": {
      "needs_background": "light"
     },
     "output_type": "display_data"
    }
   ],
   "source": [
    "playlist_lengths = np.array([len(p) for p in playlists.values], 'int')\n",
    "plt.hist(playlist_lengths, bins = 50)\n",
    "plt.title('Distribution of number of songs in playlist')"
   ]
  },
  {
   "cell_type": "code",
   "execution_count": 12,
   "metadata": {},
   "outputs": [
    {
     "name": "stdout",
     "output_type": "stream",
     "text": [
      "DescribeResult(nobs=200000, minmax=(3, 341), mean=65.444445, variance=2777.1668294761225, skewness=1.274427680771606, kurtosis=1.05351435565691)\n"
     ]
    }
   ],
   "source": [
    "from scipy.stats import describe\n",
    "print(describe(playlist_lengths))"
   ]
  },
  {
   "cell_type": "code",
   "execution_count": 13,
   "metadata": {
    "scrolled": true
   },
   "outputs": [
    {
     "name": "stdout",
     "output_type": "stream",
     "text": [
      "[1, 10): 7141\n",
      "[10, 20): 25943\n",
      "[20, 30): 26773\n",
      "[30, 40): 22633\n",
      "[40, 50): 19013\n",
      "[50, 100): 55300\n",
      "[100, 200): 36902\n",
      "[200, 300): 6294\n",
      "[300, 350): 1\n"
     ]
    }
   ],
   "source": [
    "counts, bins = np.histogram(playlist_lengths, \n",
    "                            bins = [1, 10, 20, 30, 40, 50, 100, 200, 300, 350])\n",
    "for i in range(len(counts)):\n",
    "    print('[{}, {}): {}'.format(bins[i], bins[i+1], counts[i]))"
   ]
  },
  {
   "cell_type": "markdown",
   "metadata": {},
   "source": [
    "## Dimensionality reduction\n",
    "We have a matrix of $1,000,000$ rows times $200,000$ features. This is a massive dataset. When we add in the metadata with song, album, and artist information this will only grow to, say, $200,100$ features. This is a challenge for several reasons:\n",
    "- The non-binary features will potentially get drowned out by the playlist indicators. Particularly if we do unsupervised learning there is no label to inform the algorithm of the importance of one feature versus another, so all the $200,000$ playlist indicators will drown out the $100$ non-binary features containing potentially more important information.\n",
    "- Even the longest playlist has fewer than $350$ songs. With $200,000$ indicators, this means every indicator will have at least $99.825\\%$ sparsity. A lot of algorithms will either drop or struggle with such near-zero-variance features.\n",
    "\n",
    "We therefore need a way to reduce the dimensionality\n",
    "\n",
    "Alternatives:\n",
    "- PCA is not really an alternative, as it assumes continuous data (works with covariance matrix), and the dimensions have very, very low variance.\n",
    "\n",
    "Since there seem to be no actual dimensionality reduction method we can use, we can reduce scope by:\n",
    "- Limiting to playlists above or within a range of certain lenghts\n",
    "- Limiting to songs that appear at least $n$ times"
   ]
  },
  {
   "cell_type": "markdown",
   "metadata": {},
   "source": [
    "**Limit to songs that appear at least $n$ times across all the playlists**."
   ]
  },
  {
   "cell_type": "code",
   "execution_count": 14,
   "metadata": {},
   "outputs": [
    {
     "data": {
      "text/plain": [
       "(124828, array([     23,      27,      30, ..., 1003716, 1003724, 1003729]))"
      ]
     },
     "execution_count": 14,
     "metadata": {},
     "output_type": "execute_result"
    }
   ],
   "source": [
    "n = 10\n",
    "\n",
    "songs_keep_ind = songs.loc[songs['count'] >= n].index.values\n",
    "len(songs_keep_ind), songs_keep_ind"
   ]
  },
  {
   "cell_type": "markdown",
   "metadata": {},
   "source": [
    "**Limit to playlists of length within range $l$**"
   ]
  },
  {
   "cell_type": "code",
   "execution_count": 15,
   "metadata": {},
   "outputs": [
    {
     "name": "stdout",
     "output_type": "stream",
     "text": [
      "56163\n"
     ]
    },
    {
     "data": {
      "text/plain": [
       "(56163, array([ 1,  4,  5,  6,  8, 11, 16, 18, 24, 28]))"
      ]
     },
     "execution_count": 15,
     "metadata": {},
     "output_type": "execute_result"
    }
   ],
   "source": [
    "l = [50, 100]\n",
    "\n",
    "playlists_keep_ind = np.where(\n",
    "    np.logical_and(playlist_lengths >= l[0], playlist_lengths <= l[1]))[0]\n",
    "\n",
    "print(len(playlists_keep_ind))\n",
    "\n",
    "len(playlists_keep_ind), playlists_keep_ind[0:10]"
   ]
  },
  {
   "cell_type": "code",
   "execution_count": 16,
   "metadata": {},
   "outputs": [],
   "source": [
    "# Crashes the kernel\n",
    "#keep_playlists = indicators[:, keep_playlists_ind]"
   ]
  },
  {
   "cell_type": "markdown",
   "metadata": {},
   "source": [
    "## Widening songs df with indicators for playlists we wish to keep and songs we wish to keep"
   ]
  },
  {
   "cell_type": "code",
   "execution_count": 17,
   "metadata": {
    "scrolled": true
   },
   "outputs": [
    {
     "name": "stdout",
     "output_type": "stream",
     "text": [
      "(1003760, 56163)\n",
      "[[0 0 0 ... 0 0 0]\n",
      " [0 0 0 ... 0 0 0]\n",
      " [0 0 0 ... 0 0 0]\n",
      " ...\n",
      " [0 0 0 ... 0 0 0]\n",
      " [0 0 0 ... 0 0 0]\n",
      " [0 0 0 ... 0 0 0]]\n"
     ]
    }
   ],
   "source": [
    "indicators_sub = np.zeros((songs.shape[0], len(playlists_keep_ind)), 'int')\n",
    "print(indicators_sub.shape)\n",
    "\n",
    "for i, s in enumerate(playlists[playlists_keep_ind]):\n",
    "    indicators_sub[s, i] = 1\n",
    "    \n",
    "print(indicators_sub)"
   ]
  },
  {
   "cell_type": "code",
   "execution_count": null,
   "metadata": {},
   "outputs": [],
   "source": []
  },
  {
   "cell_type": "markdown",
   "metadata": {},
   "source": [
    "## Sparse matrix"
   ]
  },
  {
   "cell_type": "code",
   "execution_count": 172,
   "metadata": {},
   "outputs": [
    {
     "data": {
      "text/plain": [
       "284_0      [340039, 125250, 881533, 653897, 49614, 356319...\n",
       "284_1      [738782, 7646, 142078, 900881, 533258, 429837,...\n",
       "284_2      [552361, 135177, 507876, 865927, 638474, 55164...\n",
       "284_3      [214695, 27387, 700562, 448130, 1000188, 37723...\n",
       "284_4      [576080, 600, 170841, 842370, 450149, 8624, 89...\n",
       "                                 ...                        \n",
       "283_995    [387321, 550498, 904203, 123847, 811636, 17392...\n",
       "283_996    [744373, 636897, 939642, 839829, 731677, 88964...\n",
       "283_997    [16947, 679919, 17738, 263393, 313648, 66922, ...\n",
       "283_998    [615912, 323911, 855546, 150903, 539581, 18282...\n",
       "283_999    [985680, 723192, 786619, 812661, 423261, 14162...\n",
       "Length: 200000, dtype: object"
      ]
     },
     "execution_count": 172,
     "metadata": {},
     "output_type": "execute_result"
    }
   ],
   "source": [
    "playlists"
   ]
  },
  {
   "cell_type": "code",
   "execution_count": 173,
   "metadata": {},
   "outputs": [],
   "source": [
    "play, song = zip(*enumerate(playlists))"
   ]
  },
  {
   "cell_type": "code",
   "execution_count": 174,
   "metadata": {},
   "outputs": [
    {
     "data": {
      "text/plain": [
       "(200000, (0, 1, 2, 3, 4))"
      ]
     },
     "execution_count": 174,
     "metadata": {},
     "output_type": "execute_result"
    }
   ],
   "source": [
    "len(play), play[0:5]"
   ]
  },
  {
   "cell_type": "code",
   "execution_count": 175,
   "metadata": {},
   "outputs": [
    {
     "data": {
      "text/plain": [
       "(200000,\n",
       " (array([340039, 125250, 881533, 653897,  49614, 356319, 787744, 603984,\n",
       "         894661, 461894, 776037, 810569, 855793]),\n",
       "  array([738782,   7646, 142078, 900881, 533258, 429837, 779730, 488397,\n",
       "         701015,  12496, 770619, 846457, 228371,  49408, 707339, 731431,\n",
       "          34429,   3780, 660968, 312086, 152900, 651203, 198746,  95428,\n",
       "         408572, 686200, 143255, 868724, 861428, 287969, 270542, 698635,\n",
       "         745265, 831395, 575965, 650264, 484456, 248082, 203855, 526571,\n",
       "         214473, 232466, 399605, 828403, 613096, 470821, 914828, 526811,\n",
       "         586728, 342758, 687326, 641834, 131953, 351691, 293222, 365093,\n",
       "         916499, 443580, 214884, 544269, 692653, 171563, 789299, 584243,\n",
       "         476198, 441379, 249141, 106667, 138306,  49802, 533369, 480792,\n",
       "          69329, 859936, 573907, 218491, 944539, 568246, 756538,  68544,\n",
       "         892713, 260527, 993109, 463079, 673200])))"
      ]
     },
     "execution_count": 175,
     "metadata": {},
     "output_type": "execute_result"
    }
   ],
   "source": [
    "len(song), song[0:2]"
   ]
  },
  {
   "cell_type": "code",
   "execution_count": 176,
   "metadata": {},
   "outputs": [],
   "source": [
    "pairs = [[z[0], s] for z in zip(play, song) for s in z[1]]"
   ]
  },
  {
   "cell_type": "code",
   "execution_count": 177,
   "metadata": {},
   "outputs": [
    {
     "data": {
      "text/plain": [
       "13088889"
      ]
     },
     "execution_count": 177,
     "metadata": {},
     "output_type": "execute_result"
    }
   ],
   "source": [
    "# > 13 million songs in playlists (with repetitions)\n",
    "len(pairs)"
   ]
  },
  {
   "cell_type": "code",
   "execution_count": 178,
   "metadata": {},
   "outputs": [
    {
     "data": {
      "text/plain": [
       "[[0, 340039],\n",
       " [0, 125250],\n",
       " [0, 881533],\n",
       " [0, 653897],\n",
       " [0, 49614],\n",
       " [0, 356319],\n",
       " [0, 787744],\n",
       " [0, 603984],\n",
       " [0, 894661],\n",
       " [0, 461894],\n",
       " [0, 776037],\n",
       " [0, 810569],\n",
       " [0, 855793],\n",
       " [1, 738782],\n",
       " [1, 7646],\n",
       " [1, 142078],\n",
       " [1, 900881],\n",
       " [1, 533258],\n",
       " [1, 429837],\n",
       " [1, 779730]]"
      ]
     },
     "execution_count": 178,
     "metadata": {},
     "output_type": "execute_result"
    }
   ],
   "source": [
    "pairs[0:20]"
   ]
  },
  {
   "cell_type": "code",
   "execution_count": 179,
   "metadata": {},
   "outputs": [],
   "source": [
    "# column is song ID, row is playlist ID\n",
    "col, row = zip(*pairs)\n",
    "assert len(row) == len(col)"
   ]
  },
  {
   "cell_type": "markdown",
   "metadata": {},
   "source": [
    "# IT'S A FUCKING MIRACLE\n",
    "## Sparse matrix with all songs across all playlists, baby!\n",
    "\n",
    "https://stackoverflow.com/questions/35944522/convert-list-of-lists-with-indexes-to-csr-matrix"
   ]
  },
  {
   "cell_type": "code",
   "execution_count": 180,
   "metadata": {},
   "outputs": [],
   "source": [
    "# Create sparse matrix\n",
    "from scipy.sparse import csr_matrix, coo_matrix\n",
    "mat = csr_matrix((np.ones(len(col), dtype = 'int'), (row, col)))\n",
    "mat.shape"
   ]
  },
  {
   "cell_type": "markdown",
   "metadata": {},
   "source": [
    "**Warning:** Usually `mat.A` gets you a dense matrix with zeros as zeros instead of simply being left out, *but* that will make Jupyter shit the bed due to the crazy memory requirements."
   ]
  },
  {
   "cell_type": "code",
   "execution_count": null,
   "metadata": {},
   "outputs": [],
   "source": []
  },
  {
   "cell_type": "code",
   "execution_count": null,
   "metadata": {},
   "outputs": [],
   "source": []
  },
  {
   "cell_type": "code",
   "execution_count": null,
   "metadata": {},
   "outputs": [],
   "source": []
  }
 ],
 "metadata": {
  "kernelspec": {
   "display_name": "Python Conda AC209a",
   "language": "python",
   "name": "ac209a"
  },
  "language_info": {
   "codemirror_mode": {
    "name": "ipython",
    "version": 3
   },
   "file_extension": ".py",
   "mimetype": "text/x-python",
   "name": "python",
   "nbconvert_exporter": "python",
   "pygments_lexer": "ipython3",
   "version": "3.7.4"
  }
 },
 "nbformat": 4,
 "nbformat_minor": 2
}
